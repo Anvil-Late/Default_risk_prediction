{
 "cells": [
  {
   "cell_type": "markdown",
   "metadata": {
    "toc": true
   },
   "source": [
    "<h1>Table of Contents<span class=\"tocSkip\"></span></h1>\n",
    "<div class=\"toc\"><ul class=\"toc-item\"><li><span><a href=\"#Objectif\" data-toc-modified-id=\"Objectif-1\"><span class=\"toc-item-num\">1&nbsp;&nbsp;</span>Objectif</a></span></li><li><span><a href=\"#Chargement-des-packages\" data-toc-modified-id=\"Chargement-des-packages-2\"><span class=\"toc-item-num\">2&nbsp;&nbsp;</span>Chargement des packages</a></span></li><li><span><a href=\"#Chargement-des-datasets\" data-toc-modified-id=\"Chargement-des-datasets-3\"><span class=\"toc-item-num\">3&nbsp;&nbsp;</span>Chargement des datasets</a></span></li><li><span><a href=\"#Fonctions-personnalisées\" data-toc-modified-id=\"Fonctions-personnalisées-4\"><span class=\"toc-item-num\">4&nbsp;&nbsp;</span>Fonctions personnalisées</a></span></li><li><span><a href=\"#Exploration-et-pré-traitement\" data-toc-modified-id=\"Exploration-et-pré-traitement-5\"><span class=\"toc-item-num\">5&nbsp;&nbsp;</span>Exploration et pré-traitement</a></span><ul class=\"toc-item\"><li><span><a href=\"#Découverte-des-datasets\" data-toc-modified-id=\"Découverte-des-datasets-5.1\"><span class=\"toc-item-num\">5.1&nbsp;&nbsp;</span>Découverte des datasets</a></span></li><li><span><a href=\"#Valeurs-manquantes---Dataset-principal\" data-toc-modified-id=\"Valeurs-manquantes---Dataset-principal-5.2\"><span class=\"toc-item-num\">5.2&nbsp;&nbsp;</span>Valeurs manquantes - Dataset principal</a></span></li><li><span><a href=\"#Séparation-train_test\" data-toc-modified-id=\"Séparation-train_test-5.3\"><span class=\"toc-item-num\">5.3&nbsp;&nbsp;</span>Séparation train_test</a></span></li><li><span><a href=\"#Imputation-de-valeurs-manquantes\" data-toc-modified-id=\"Imputation-de-valeurs-manquantes-5.4\"><span class=\"toc-item-num\">5.4&nbsp;&nbsp;</span>Imputation de valeurs manquantes</a></span></li><li><span><a href=\"#Duplicats\" data-toc-modified-id=\"Duplicats-5.5\"><span class=\"toc-item-num\">5.5&nbsp;&nbsp;</span>Duplicats</a></span></li></ul></li><li><span><a href=\"#Fusion-avec-autres-tables---Données-statiques\" data-toc-modified-id=\"Fusion-avec-autres-tables---Données-statiques-6\"><span class=\"toc-item-num\">6&nbsp;&nbsp;</span>Fusion avec autres tables - Données statiques</a></span><ul class=\"toc-item\"><li><span><a href=\"#Fusion-avec-POS_CASH_balance\" data-toc-modified-id=\"Fusion-avec-POS_CASH_balance-6.1\"><span class=\"toc-item-num\">6.1&nbsp;&nbsp;</span>Fusion avec POS_CASH_balance</a></span></li><li><span><a href=\"#Fusion-avec-previous_application\" data-toc-modified-id=\"Fusion-avec-previous_application-6.2\"><span class=\"toc-item-num\">6.2&nbsp;&nbsp;</span>Fusion avec previous_application</a></span></li></ul></li><li><span><a href=\"#Table-credit_card_balance---Données-temporelles\" data-toc-modified-id=\"Table-credit_card_balance---Données-temporelles-7\"><span class=\"toc-item-num\">7&nbsp;&nbsp;</span>Table credit_card_balance - Données temporelles</a></span><ul class=\"toc-item\"><li><span><a href=\"#Portée-des-mois-d'observation\" data-toc-modified-id=\"Portée-des-mois-d'observation-7.1\"><span class=\"toc-item-num\">7.1&nbsp;&nbsp;</span>Portée des mois d'observation</a></span></li><li><span><a href=\"#Encodage-de-Name_contract_status\" data-toc-modified-id=\"Encodage-de-Name_contract_status-7.2\"><span class=\"toc-item-num\">7.2&nbsp;&nbsp;</span>Encodage de Name_contract_status</a></span></li><li><span><a href=\"#Création-des-batch-:-fonctionnement-de-la-fonction-create_batch\" data-toc-modified-id=\"Création-des-batch-:-fonctionnement-de-la-fonction-create_batch-7.3\"><span class=\"toc-item-num\">7.3&nbsp;&nbsp;</span>Création des batch : fonctionnement de la fonction <em>create_batch</em></a></span></li><li><span><a href=\"#Création-du-batch\" data-toc-modified-id=\"Création-du-batch-7.4\"><span class=\"toc-item-num\">7.4&nbsp;&nbsp;</span>Création du batch</a></span></li></ul></li><li><span><a href=\"#Définition-des-variables\" data-toc-modified-id=\"Définition-des-variables-8\"><span class=\"toc-item-num\">8&nbsp;&nbsp;</span>Définition des variables</a></span></li><li><span><a href=\"#Configuration-du-réseau-de-neurones\" data-toc-modified-id=\"Configuration-du-réseau-de-neurones-9\"><span class=\"toc-item-num\">9&nbsp;&nbsp;</span>Configuration du réseau de neurones</a></span></li><li><span><a href=\"#Séparer-X-train-avec-un-espace-de-validation-pour-éviter-le-data-leakage-en-crossval,-puis-le-définir-avec--model.fit(x-=-train_dict,-y-=-y_train,-validation_data-=-(val_dict,-y_val))\" data-toc-modified-id=\"Séparer-X-train-avec-un-espace-de-validation-pour-éviter-le-data-leakage-en-crossval,-puis-le-définir-avec--model.fit(x-=-train_dict,-y-=-y_train,-validation_data-=-(val_dict,-y_val))-10\"><span class=\"toc-item-num\">10&nbsp;&nbsp;</span>Séparer X train avec un espace de validation pour éviter le data leakage en crossval, puis le définir avec <br> model.fit(x = train_dict, y = y_train, validation_data = (val_dict, y_val))</a></span></li></ul></div>"
   ]
  },
  {
   "cell_type": "markdown",
   "metadata": {},
   "source": [
    "# Objectif"
   ]
  },
  {
   "cell_type": "markdown",
   "metadata": {},
   "source": []
  },
  {
   "cell_type": "markdown",
   "metadata": {},
   "source": [
    "# Chargement des packages"
   ]
  },
  {
   "cell_type": "code",
   "execution_count": 1,
   "metadata": {},
   "outputs": [],
   "source": [
    "%matplotlib inline\n",
    "\n",
    "import numpy as np\n",
    "import matplotlib.pyplot as plt\n",
    "from matplotlib import cm\n",
    "from mpl_toolkits import mplot3d\n",
    "import pandas as pd\n",
    "import seaborn as sns\n",
    "import os\n",
    "import missingno as msno\n",
    "import warnings\n",
    "import time\n",
    "from urllib import request\n",
    "from zipfile import ZipFile\n",
    "from sklearn.model_selection import GroupShuffleSplit\n",
    "from sklearn import preprocessing\n",
    "import datetime\n",
    "import tensorflow as tf\n",
    "from tensorflow.keras.layers import Input, Embedding, Reshape, Dense, BatchNormalization, Masking, LSTM\n",
    "from tensorflow.keras.models import Model\n",
    "from sklearn.preprocessing import LabelEncoder\n",
    "from sklearn.model_selection import GroupShuffleSplit, train_test_split\n",
    "import pickle\n",
    "\n",
    "pd.options.mode.chained_assignment = None \n",
    "warnings.simplefilter(action='ignore', category=FutureWarning)\n",
    "\n",
    "# ----- Paramètres -----\n",
    "\n",
    "## Nom du dossier data\n",
    "path = \"./data\"\n",
    "## Nom du fichier zip\n",
    "filepath = path + \"/prj7_data.zip\"\n",
    "## Source du fichier zip\n",
    "zip_url = \"https://storage.googleapis.com/kaggle-competitions-data/kaggle-v2/9120/860599/bundle/archive.zip?GoogleAccessId=web-data@kaggle-161607.iam.gserviceaccount.com&Expires=1620896494&Signature=sExz0pdzSGvmb6V0LSOB27qrh%2BIB2ZaVOYLGj2wAds8eSSdEn%2FhQEN%2FXh1vPXEiXLYwoVM1QLc5E6t7ujJnJuspXqhqRD9zUSSar6y0F%2Fi1gDMk1klzSCL0mLUNr1%2BkLohz3L%2BNikWROA7rXceZH7Hi5nL7QBluzkL2G8bNseDn6YFp%2FlRkK%2FY18Plyxx2mU3%2FuDmAeamc6NZENSDcPgKoxWxz0wWBw%2BXFcsIBvcLx3tSs%2Bdg4HDzi0xyFtBtXMyiACmFTZyLcwkDfqFAAUZSBYsV%2Bvp%2Foe7aPC0jYLYo7O9Nv40wjfhj3QRa95ipqDOxB4cSXW%2FqlT0Ai4isYNuPA%3D%3D&response-content-disposition=attachment%3B+filename%3Dhome-credit-default-risk.zip\""
   ]
  },
  {
   "cell_type": "markdown",
   "metadata": {},
   "source": [
    "# Chargement des datasets"
   ]
  },
  {
   "cell_type": "code",
   "execution_count": 2,
   "metadata": {},
   "outputs": [],
   "source": [
    "# Création du dossier data\n",
    "if not os.path.exists(path):\n",
    "    os.makedirs(path)\n",
    "\n",
    "# Téléchargement et dézippage des datasets\n",
    "if not os.path.exists(filepath):\n",
    "    r = requests.get(zip_url, allow_redirects=True)\n",
    "\n",
    "    open(filepath, 'wb').write(r.content)\n",
    "\n",
    "    with ZipFile(filepath, \"r\") as zipObj:\n",
    "        zipObj.extractall(path)"
   ]
  },
  {
   "cell_type": "code",
   "execution_count": 3,
   "metadata": {},
   "outputs": [],
   "source": [
    "application_test = pd.read_csv(\"./data/application_test.csv\")\n",
    "application_train = pd.read_csv(\"./data/application_train.csv\")\n",
    "bureau = pd.read_csv(\"./data/bureau.csv\")\n",
    "bureau_balance = pd.read_csv(\"./data/bureau_balance.csv\")\n",
    "credit_card_balance = pd.read_csv(\"./data/credit_card_balance.csv\")\n",
    "HomeCredit_columns_description = pd.read_csv(\"./data/HomeCredit_columns_description.csv\", engine = \"python\")\n",
    "installments_payments = pd.read_csv(\"./data/installments_payments.csv\")\n",
    "POS_CASH_balance = pd.read_csv(\"./data/POS_CASH_balance.csv\")\n",
    "previous_application = pd.read_csv(\"./data/previous_application.csv\")"
   ]
  },
  {
   "cell_type": "markdown",
   "metadata": {},
   "source": [
    "# Fonctions personnalisées"
   ]
  },
  {
   "cell_type": "code",
   "execution_count": 4,
   "metadata": {},
   "outputs": [],
   "source": [
    "def describe_dataset(dataset):\n",
    "    print(\"Le dataset contient {} observations et {} variables\".format(dataset.shape[0], dataset.shape[1]))\n",
    "    print(\"\\n\")\n",
    "    if dataset.shape[1] <= 20:\n",
    "        print(\"Variables du dataset :\")\n",
    "        print(dataset.columns.tolist())\n",
    "        print(\"\\n\")\n",
    "    print(\"Vue d'ensemble des valeurs manquantes :\")\n",
    "    print(dataset.isna().sum())\n",
    "    \n",
    "\n",
    "def create_batch(dataframe, time_start, t_colname=\"MONTHS_BALANCE\", id_colname=\"SK_ID_CURR\"):\n",
    "    # Calculate number of time blocks\n",
    "    oldest_time = -96\n",
    "    n_time_blocks = -(oldest_time - time_start) + 1\n",
    "    \n",
    "    # Define which months to iterate on\n",
    "    time_range = [-timestamp for timestamp in range(-time_start, -oldest_time + 1)]\n",
    "    # Define list of client IDs\n",
    "    id_list = dataframe[id_colname].unique().tolist()\n",
    "    id_list.sort()\n",
    "    \n",
    "    # Figure out output cube shape\n",
    "    observations_shape = len(id_list) \n",
    "    features_shape = dataframe.drop(columns = [t_colname, id_colname]).shape[1]\n",
    "    \n",
    "    # Create output cube\n",
    "    output_cube = np.zeros((observations_shape, features_shape, n_time_blocks))\n",
    "\n",
    "    # Fill cube\n",
    "    for x, unique_id in enumerate(id_list):\n",
    "        client_info = dataframe.loc[dataframe[id_colname] == unique_id, :]\n",
    "        for z, month in enumerate(time_range):                      \n",
    "            if month in client_info[t_colname].tolist():\n",
    "                monthly_client_info = client_info.loc[client_info[t_colname] == month, :].drop(columns = [t_colname, id_colname])\n",
    "                output_cube[x, :, z] = monthly_client_info\n",
    "                \n",
    "    return(output_cube)\n",
    "\n",
    "def dataset_preprocessing(dataframe, categorical_features):\n",
    "    for categorical_var in categorical_features:\n",
    "        encoder = preprocessing.LabelEncoder()\n",
    "        dataframe[categorical_var] = encoder.fit_transform(dataframe[categorical_var])\n",
    "    return dataframe\n",
    "\n",
    "def create_embedding_model(categorical_variable_vector, input_layer_name):\n",
    "    variable_nbins = len(categorical_variable_vector.unique())\n",
    "    input_layer = Input(shape = (1,), name = input_layer_name)\n",
    "    embedding_layer = Embedding(variable_nbins, 36, \n",
    "                            trainable = True, \n",
    "                           embeddings_initializer = tf.initializers.random_normal\n",
    "                           )(input_layer)\n",
    "    reshape_layer = Reshape(target_shape = (36,))(embedding_layer)\n",
    "    return(input_layer, reshape_layer)\n",
    "\n",
    "def make_all_embedders(dataset, categorical_variables_list, numerical_variables_list):\n",
    "    models = []\n",
    "    inputs = []\n",
    "    for categorical_var in categorical_variables_list:\n",
    "        input_layer_name = categorical_var + \"_input\"\n",
    "        (inpt, outpt) = create_embedding_model(dataset[categorical_var], input_layer_name = input_layer_name)\n",
    "        inputs.append(inpt)\n",
    "        models.append(outpt)\n",
    "    num_inpt = Input(shape = (len(numerical_variables_list)), name = \"num_input\")\n",
    "    inputs.append(num_inpt)\n",
    "    models.append(num_inpt)\n",
    "    return(inputs, models)"
   ]
  },
  {
   "cell_type": "markdown",
   "metadata": {},
   "source": [
    "# Exploration et pré-traitement"
   ]
  },
  {
   "cell_type": "markdown",
   "metadata": {},
   "source": [
    "## Découverte des datasets"
   ]
  },
  {
   "cell_type": "code",
   "execution_count": 5,
   "metadata": {},
   "outputs": [],
   "source": [
    "dataset_list = [application_test, application_train, bureau, bureau_balance, credit_card_balance, \n",
    "               HomeCredit_columns_description, installments_payments, POS_CASH_balance, previous_application]\n",
    "dataset_list_names = [\"application_test\", \"application_train\", \"bureau\", \"bureau_balance\", \"credit_card_balance\", \n",
    "               \"HomeCredit_columns_description\", \"installments_payments\", \"POS_CASH_balance\", \"previous_application\"]"
   ]
  },
  {
   "cell_type": "code",
   "execution_count": 6,
   "metadata": {},
   "outputs": [
    {
     "name": "stdout",
     "output_type": "stream",
     "text": [
      "Exploration du dataset application_test\n",
      "Le dataset contient 48744 observations et 121 variables\n",
      "\n",
      "\n",
      "Vue d'ensemble des valeurs manquantes :\n",
      "SK_ID_CURR                       0\n",
      "NAME_CONTRACT_TYPE               0\n",
      "CODE_GENDER                      0\n",
      "FLAG_OWN_CAR                     0\n",
      "FLAG_OWN_REALTY                  0\n",
      "                              ... \n",
      "AMT_REQ_CREDIT_BUREAU_DAY     6049\n",
      "AMT_REQ_CREDIT_BUREAU_WEEK    6049\n",
      "AMT_REQ_CREDIT_BUREAU_MON     6049\n",
      "AMT_REQ_CREDIT_BUREAU_QRT     6049\n",
      "AMT_REQ_CREDIT_BUREAU_YEAR    6049\n",
      "Length: 121, dtype: int64\n",
      "\n",
      "\n",
      "---------------------------------\n",
      "\n",
      "\n",
      "Exploration du dataset application_train\n",
      "Le dataset contient 307511 observations et 122 variables\n",
      "\n",
      "\n",
      "Vue d'ensemble des valeurs manquantes :\n",
      "SK_ID_CURR                        0\n",
      "TARGET                            0\n",
      "NAME_CONTRACT_TYPE                0\n",
      "CODE_GENDER                       0\n",
      "FLAG_OWN_CAR                      0\n",
      "                              ...  \n",
      "AMT_REQ_CREDIT_BUREAU_DAY     41519\n",
      "AMT_REQ_CREDIT_BUREAU_WEEK    41519\n",
      "AMT_REQ_CREDIT_BUREAU_MON     41519\n",
      "AMT_REQ_CREDIT_BUREAU_QRT     41519\n",
      "AMT_REQ_CREDIT_BUREAU_YEAR    41519\n",
      "Length: 122, dtype: int64\n",
      "\n",
      "\n",
      "---------------------------------\n",
      "\n",
      "\n",
      "Exploration du dataset bureau\n",
      "Le dataset contient 1716428 observations et 17 variables\n",
      "\n",
      "\n",
      "Variables du dataset :\n",
      "['SK_ID_CURR', 'SK_ID_BUREAU', 'CREDIT_ACTIVE', 'CREDIT_CURRENCY', 'DAYS_CREDIT', 'CREDIT_DAY_OVERDUE', 'DAYS_CREDIT_ENDDATE', 'DAYS_ENDDATE_FACT', 'AMT_CREDIT_MAX_OVERDUE', 'CNT_CREDIT_PROLONG', 'AMT_CREDIT_SUM', 'AMT_CREDIT_SUM_DEBT', 'AMT_CREDIT_SUM_LIMIT', 'AMT_CREDIT_SUM_OVERDUE', 'CREDIT_TYPE', 'DAYS_CREDIT_UPDATE', 'AMT_ANNUITY']\n",
      "\n",
      "\n",
      "Vue d'ensemble des valeurs manquantes :\n",
      "SK_ID_CURR                      0\n",
      "SK_ID_BUREAU                    0\n",
      "CREDIT_ACTIVE                   0\n",
      "CREDIT_CURRENCY                 0\n",
      "DAYS_CREDIT                     0\n",
      "CREDIT_DAY_OVERDUE              0\n",
      "DAYS_CREDIT_ENDDATE        105553\n",
      "DAYS_ENDDATE_FACT          633653\n",
      "AMT_CREDIT_MAX_OVERDUE    1124488\n",
      "CNT_CREDIT_PROLONG              0\n",
      "AMT_CREDIT_SUM                 13\n",
      "AMT_CREDIT_SUM_DEBT        257669\n",
      "AMT_CREDIT_SUM_LIMIT       591780\n",
      "AMT_CREDIT_SUM_OVERDUE          0\n",
      "CREDIT_TYPE                     0\n",
      "DAYS_CREDIT_UPDATE              0\n",
      "AMT_ANNUITY               1226791\n",
      "dtype: int64\n",
      "\n",
      "\n",
      "---------------------------------\n",
      "\n",
      "\n",
      "Exploration du dataset bureau_balance\n",
      "Le dataset contient 27299925 observations et 3 variables\n",
      "\n",
      "\n",
      "Variables du dataset :\n",
      "['SK_ID_BUREAU', 'MONTHS_BALANCE', 'STATUS']\n",
      "\n",
      "\n",
      "Vue d'ensemble des valeurs manquantes :\n",
      "SK_ID_BUREAU      0\n",
      "MONTHS_BALANCE    0\n",
      "STATUS            0\n",
      "dtype: int64\n",
      "\n",
      "\n",
      "---------------------------------\n",
      "\n",
      "\n",
      "Exploration du dataset credit_card_balance\n",
      "Le dataset contient 3840312 observations et 23 variables\n",
      "\n",
      "\n",
      "Vue d'ensemble des valeurs manquantes :\n",
      "SK_ID_PREV                         0\n",
      "SK_ID_CURR                         0\n",
      "MONTHS_BALANCE                     0\n",
      "AMT_BALANCE                        0\n",
      "AMT_CREDIT_LIMIT_ACTUAL            0\n",
      "AMT_DRAWINGS_ATM_CURRENT      749816\n",
      "AMT_DRAWINGS_CURRENT               0\n",
      "AMT_DRAWINGS_OTHER_CURRENT    749816\n",
      "AMT_DRAWINGS_POS_CURRENT      749816\n",
      "AMT_INST_MIN_REGULARITY       305236\n",
      "AMT_PAYMENT_CURRENT           767988\n",
      "AMT_PAYMENT_TOTAL_CURRENT          0\n",
      "AMT_RECEIVABLE_PRINCIPAL           0\n",
      "AMT_RECIVABLE                      0\n",
      "AMT_TOTAL_RECEIVABLE               0\n",
      "CNT_DRAWINGS_ATM_CURRENT      749816\n",
      "CNT_DRAWINGS_CURRENT               0\n",
      "CNT_DRAWINGS_OTHER_CURRENT    749816\n",
      "CNT_DRAWINGS_POS_CURRENT      749816\n",
      "CNT_INSTALMENT_MATURE_CUM     305236\n",
      "NAME_CONTRACT_STATUS               0\n",
      "SK_DPD                             0\n",
      "SK_DPD_DEF                         0\n",
      "dtype: int64\n",
      "\n",
      "\n",
      "---------------------------------\n",
      "\n",
      "\n",
      "Exploration du dataset HomeCredit_columns_description\n",
      "Le dataset contient 219 observations et 5 variables\n",
      "\n",
      "\n",
      "Variables du dataset :\n",
      "['Unnamed: 0', 'Table', 'Row', 'Description', 'Special']\n",
      "\n",
      "\n",
      "Vue d'ensemble des valeurs manquantes :\n",
      "Unnamed: 0       0\n",
      "Table            0\n",
      "Row              0\n",
      "Description      0\n",
      "Special        133\n",
      "dtype: int64\n",
      "\n",
      "\n",
      "---------------------------------\n",
      "\n",
      "\n",
      "Exploration du dataset installments_payments\n",
      "Le dataset contient 13605401 observations et 8 variables\n",
      "\n",
      "\n",
      "Variables du dataset :\n",
      "['SK_ID_PREV', 'SK_ID_CURR', 'NUM_INSTALMENT_VERSION', 'NUM_INSTALMENT_NUMBER', 'DAYS_INSTALMENT', 'DAYS_ENTRY_PAYMENT', 'AMT_INSTALMENT', 'AMT_PAYMENT']\n",
      "\n",
      "\n",
      "Vue d'ensemble des valeurs manquantes :\n",
      "SK_ID_PREV                   0\n",
      "SK_ID_CURR                   0\n",
      "NUM_INSTALMENT_VERSION       0\n",
      "NUM_INSTALMENT_NUMBER        0\n",
      "DAYS_INSTALMENT              0\n",
      "DAYS_ENTRY_PAYMENT        2905\n",
      "AMT_INSTALMENT               0\n",
      "AMT_PAYMENT               2905\n",
      "dtype: int64\n",
      "\n",
      "\n",
      "---------------------------------\n",
      "\n",
      "\n",
      "Exploration du dataset POS_CASH_balance\n",
      "Le dataset contient 10001358 observations et 8 variables\n",
      "\n",
      "\n",
      "Variables du dataset :\n",
      "['SK_ID_PREV', 'SK_ID_CURR', 'MONTHS_BALANCE', 'CNT_INSTALMENT', 'CNT_INSTALMENT_FUTURE', 'NAME_CONTRACT_STATUS', 'SK_DPD', 'SK_DPD_DEF']\n",
      "\n",
      "\n",
      "Vue d'ensemble des valeurs manquantes :\n",
      "SK_ID_PREV                   0\n",
      "SK_ID_CURR                   0\n",
      "MONTHS_BALANCE               0\n",
      "CNT_INSTALMENT           26071\n",
      "CNT_INSTALMENT_FUTURE    26087\n",
      "NAME_CONTRACT_STATUS         0\n",
      "SK_DPD                       0\n",
      "SK_DPD_DEF                   0\n",
      "dtype: int64\n",
      "\n",
      "\n",
      "---------------------------------\n",
      "\n",
      "\n",
      "Exploration du dataset previous_application\n",
      "Le dataset contient 1670214 observations et 37 variables\n",
      "\n",
      "\n",
      "Vue d'ensemble des valeurs manquantes :\n",
      "SK_ID_PREV                           0\n",
      "SK_ID_CURR                           0\n",
      "NAME_CONTRACT_TYPE                   0\n",
      "AMT_ANNUITY                     372235\n",
      "AMT_APPLICATION                      0\n",
      "AMT_CREDIT                           1\n",
      "AMT_DOWN_PAYMENT                895844\n",
      "AMT_GOODS_PRICE                 385515\n",
      "WEEKDAY_APPR_PROCESS_START           0\n",
      "HOUR_APPR_PROCESS_START              0\n",
      "FLAG_LAST_APPL_PER_CONTRACT          0\n",
      "NFLAG_LAST_APPL_IN_DAY               0\n",
      "RATE_DOWN_PAYMENT               895844\n",
      "RATE_INTEREST_PRIMARY          1664263\n",
      "RATE_INTEREST_PRIVILEGED       1664263\n",
      "NAME_CASH_LOAN_PURPOSE               0\n",
      "NAME_CONTRACT_STATUS                 0\n",
      "DAYS_DECISION                        0\n",
      "NAME_PAYMENT_TYPE                    0\n",
      "CODE_REJECT_REASON                   0\n",
      "NAME_TYPE_SUITE                 820405\n",
      "NAME_CLIENT_TYPE                     0\n",
      "NAME_GOODS_CATEGORY                  0\n",
      "NAME_PORTFOLIO                       0\n",
      "NAME_PRODUCT_TYPE                    0\n",
      "CHANNEL_TYPE                         0\n",
      "SELLERPLACE_AREA                     0\n",
      "NAME_SELLER_INDUSTRY                 0\n",
      "CNT_PAYMENT                     372230\n",
      "NAME_YIELD_GROUP                     0\n",
      "PRODUCT_COMBINATION                346\n",
      "DAYS_FIRST_DRAWING              673065\n",
      "DAYS_FIRST_DUE                  673065\n",
      "DAYS_LAST_DUE_1ST_VERSION       673065\n",
      "DAYS_LAST_DUE                   673065\n",
      "DAYS_TERMINATION                673065\n",
      "NFLAG_INSURED_ON_APPROVAL       673065\n",
      "dtype: int64\n",
      "\n",
      "\n",
      "---------------------------------\n",
      "\n",
      "\n"
     ]
    }
   ],
   "source": [
    "for dataset, dataset_name in zip(dataset_list, dataset_list_names):\n",
    "    print(\"Exploration du dataset {}\".format(dataset_name))\n",
    "    describe_dataset(dataset)\n",
    "    print(\"\\n\")\n",
    "    print(\"---------------------------------\")\n",
    "    print(\"\\n\")"
   ]
  },
  {
   "cell_type": "code",
   "execution_count": 7,
   "metadata": {},
   "outputs": [],
   "source": [
    "if not os.path.exists(\"./databook.xlsx\"):\n",
    "    HomeCredit_columns_description.to_excel(\"./databook.xlsx\")"
   ]
  },
  {
   "cell_type": "code",
   "execution_count": 8,
   "metadata": {},
   "outputs": [
    {
     "data": {
      "text/plain": [
       "Index(['SK_ID_CURR', 'NAME_CONTRACT_TYPE', 'CODE_GENDER', 'FLAG_OWN_CAR',\n",
       "       'FLAG_OWN_REALTY', 'CNT_CHILDREN', 'AMT_INCOME_TOTAL', 'AMT_CREDIT',\n",
       "       'AMT_ANNUITY', 'AMT_GOODS_PRICE',\n",
       "       ...\n",
       "       'FLAG_DOCUMENT_18', 'FLAG_DOCUMENT_19', 'FLAG_DOCUMENT_20',\n",
       "       'FLAG_DOCUMENT_21', 'AMT_REQ_CREDIT_BUREAU_HOUR',\n",
       "       'AMT_REQ_CREDIT_BUREAU_DAY', 'AMT_REQ_CREDIT_BUREAU_WEEK',\n",
       "       'AMT_REQ_CREDIT_BUREAU_MON', 'AMT_REQ_CREDIT_BUREAU_QRT',\n",
       "       'AMT_REQ_CREDIT_BUREAU_YEAR'],\n",
       "      dtype='object', length=121)"
      ]
     },
     "execution_count": 8,
     "metadata": {},
     "output_type": "execute_result"
    }
   ],
   "source": [
    "application_test.columns"
   ]
  },
  {
   "cell_type": "code",
   "execution_count": 9,
   "metadata": {
    "scrolled": true
   },
   "outputs": [
    {
     "data": {
      "text/plain": [
       "Index(['SK_ID_CURR', 'TARGET', 'NAME_CONTRACT_TYPE', 'CODE_GENDER',\n",
       "       'FLAG_OWN_CAR', 'FLAG_OWN_REALTY', 'CNT_CHILDREN', 'AMT_INCOME_TOTAL',\n",
       "       'AMT_CREDIT', 'AMT_ANNUITY',\n",
       "       ...\n",
       "       'FLAG_DOCUMENT_18', 'FLAG_DOCUMENT_19', 'FLAG_DOCUMENT_20',\n",
       "       'FLAG_DOCUMENT_21', 'AMT_REQ_CREDIT_BUREAU_HOUR',\n",
       "       'AMT_REQ_CREDIT_BUREAU_DAY', 'AMT_REQ_CREDIT_BUREAU_WEEK',\n",
       "       'AMT_REQ_CREDIT_BUREAU_MON', 'AMT_REQ_CREDIT_BUREAU_QRT',\n",
       "       'AMT_REQ_CREDIT_BUREAU_YEAR'],\n",
       "      dtype='object', length=122)"
      ]
     },
     "execution_count": 9,
     "metadata": {},
     "output_type": "execute_result"
    }
   ],
   "source": [
    "application_train.columns"
   ]
  },
  {
   "cell_type": "markdown",
   "metadata": {},
   "source": [
    "## Valeurs manquantes - Dataset principal"
   ]
  },
  {
   "cell_type": "code",
   "execution_count": 10,
   "metadata": {},
   "outputs": [
    {
     "data": {
      "text/plain": [
       "<matplotlib.axes._subplots.AxesSubplot at 0x2679c49e910>"
      ]
     },
     "execution_count": 10,
     "metadata": {},
     "output_type": "execute_result"
    },
    {
     "data": {
      "image/png": "[encoded data removed]",
      "text/plain": [
       "<Figure size 1728x720 with 2 Axes>"
      ]
     },
     "metadata": {},
     "output_type": "display_data"
    }
   ],
   "source": [
    "msno.bar(application_train)"
   ]
  },
  {
   "cell_type": "code",
   "execution_count": 11,
   "metadata": {},
   "outputs": [],
   "source": [
    "na_count = application_train.isna().sum()"
   ]
  },
  {
   "cell_type": "code",
   "execution_count": 12,
   "metadata": {},
   "outputs": [
    {
     "name": "stdout",
     "output_type": "stream",
     "text": [
      "51\n"
     ]
    }
   ],
   "source": [
    "na_count_df = pd.DataFrame()\n",
    "na_count_df[\"column\"] = na_count.index\n",
    "na_count_df[\"nas\"] = na_count.values\n",
    "na_count_df[\"na_proportion\"] = na_count_df[\"nas\"].apply(lambda X : round(X / application_train.shape[0], 2))\n",
    "\n",
    "drop_cols_list = na_count_df.loc[na_count_df[\"na_proportion\"] >= 0.2, \"column\"].tolist()\n",
    "print(len(drop_cols_list))"
   ]
  },
  {
   "cell_type": "code",
   "execution_count": 13,
   "metadata": {},
   "outputs": [],
   "source": [
    "data = application_train.drop(columns = drop_cols_list)"
   ]
  },
  {
   "cell_type": "code",
   "execution_count": 14,
   "metadata": {},
   "outputs": [],
   "source": [
    "na_count2 = data.isna().sum()"
   ]
  },
  {
   "cell_type": "code",
   "execution_count": 15,
   "metadata": {},
   "outputs": [
    {
     "data": {
      "text/plain": [
       "AMT_ANNUITY                      12\n",
       "AMT_GOODS_PRICE                 278\n",
       "NAME_TYPE_SUITE                1292\n",
       "CNT_FAM_MEMBERS                   2\n",
       "EXT_SOURCE_2                    660\n",
       "OBS_30_CNT_SOCIAL_CIRCLE       1021\n",
       "DEF_30_CNT_SOCIAL_CIRCLE       1021\n",
       "OBS_60_CNT_SOCIAL_CIRCLE       1021\n",
       "DEF_60_CNT_SOCIAL_CIRCLE       1021\n",
       "DAYS_LAST_PHONE_CHANGE            1\n",
       "AMT_REQ_CREDIT_BUREAU_HOUR    41519\n",
       "AMT_REQ_CREDIT_BUREAU_DAY     41519\n",
       "AMT_REQ_CREDIT_BUREAU_WEEK    41519\n",
       "AMT_REQ_CREDIT_BUREAU_MON     41519\n",
       "AMT_REQ_CREDIT_BUREAU_QRT     41519\n",
       "AMT_REQ_CREDIT_BUREAU_YEAR    41519\n",
       "dtype: int64"
      ]
     },
     "execution_count": 15,
     "metadata": {},
     "output_type": "execute_result"
    }
   ],
   "source": [
    "na_count2[na_count2 > 0]"
   ]
  },
  {
   "cell_type": "code",
   "execution_count": 16,
   "metadata": {},
   "outputs": [],
   "source": [
    "fillna_values = {}\n",
    "\n",
    "for column in [\"OBS_30_CNT_SOCIAL_CIRCLE\", \"DEF_30_CNT_SOCIAL_CIRCLE\", \"OBS_60_CNT_SOCIAL_CIRCLE\", \"DEF_60_CNT_SOCIAL_CIRCLE\",\n",
    " \"AMT_REQ_CREDIT_BUREAU_HOUR\", \"AMT_REQ_CREDIT_BUREAU_DAY\", \"AMT_REQ_CREDIT_BUREAU_WEEK\", \"AMT_REQ_CREDIT_BUREAU_MON\",\n",
    "    \"AMT_REQ_CREDIT_BUREAU_QRT\", \"AMT_REQ_CREDIT_BUREAU_YEAR\"]:\n",
    "    fillna_values[column] = 0\n",
    "    \n",
    "fillna_values[\"NAME_TYPE_SUITE\"] = \"Unaccompanied\"\n",
    "\n",
    "data.fillna(value = fillna_values, inplace = True)"
   ]
  },
  {
   "cell_type": "code",
   "execution_count": 17,
   "metadata": {},
   "outputs": [],
   "source": [
    "data.dropna(subset = [\"AMT_ANNUITY\", \"AMT_GOODS_PRICE\", \"CNT_FAM_MEMBERS\", \"DAYS_LAST_PHONE_CHANGE\"], inplace = True)"
   ]
  },
  {
   "cell_type": "markdown",
   "metadata": {},
   "source": [
    "## Séparation train_test"
   ]
  },
  {
   "cell_type": "code",
   "execution_count": 18,
   "metadata": {},
   "outputs": [],
   "source": [
    "inTrain , inTest = next(GroupShuffleSplit(train_size = 0.7, random_state = 42).\\\n",
    "                        split(data, groups = data[\"SK_ID_CURR\"])\n",
    "                       )\n",
    "def trainset(dataset, subsetter=inTrain):\n",
    "    return dataset.iloc[subsetter]"
   ]
  },
  {
   "cell_type": "code",
   "execution_count": 19,
   "metadata": {},
   "outputs": [],
   "source": [
    "X = data.drop(columns = \"TARGET\")\n",
    "y_train = trainset(data[\"TARGET\"])\n",
    "y_test = data[\"TARGET\"].iloc[inTest]"
   ]
  },
  {
   "cell_type": "code",
   "execution_count": 20,
   "metadata": {},
   "outputs": [
    {
     "data": {
      "text/html": [
       "<div>\n",
       "<style scoped>\n",
       "    .dataframe tbody tr th:only-of-type {\n",
       "        vertical-align: middle;\n",
       "    }\n",
       "\n",
       "    .dataframe tbody tr th {\n",
       "        vertical-align: top;\n",
       "    }\n",
       "\n",
       "    .dataframe thead th {\n",
       "        text-align: right;\n",
       "    }\n",
       "</style>\n",
       "<table border=\"1\" class=\"dataframe\">\n",
       "  <thead>\n",
       "    <tr style=\"text-align: right;\">\n",
       "      <th></th>\n",
       "      <th>SK_ID_CURR</th>\n",
       "      <th>NAME_CONTRACT_TYPE</th>\n",
       "      <th>CODE_GENDER</th>\n",
       "      <th>FLAG_OWN_CAR</th>\n",
       "      <th>FLAG_OWN_REALTY</th>\n",
       "      <th>CNT_CHILDREN</th>\n",
       "      <th>AMT_INCOME_TOTAL</th>\n",
       "      <th>AMT_CREDIT</th>\n",
       "      <th>AMT_ANNUITY</th>\n",
       "      <th>AMT_GOODS_PRICE</th>\n",
       "      <th>NAME_TYPE_SUITE</th>\n",
       "      <th>NAME_INCOME_TYPE</th>\n",
       "      <th>NAME_EDUCATION_TYPE</th>\n",
       "      <th>NAME_FAMILY_STATUS</th>\n",
       "      <th>NAME_HOUSING_TYPE</th>\n",
       "      <th>REGION_POPULATION_RELATIVE</th>\n",
       "      <th>DAYS_BIRTH</th>\n",
       "      <th>DAYS_EMPLOYED</th>\n",
       "      <th>DAYS_REGISTRATION</th>\n",
       "      <th>DAYS_ID_PUBLISH</th>\n",
       "      <th>FLAG_MOBIL</th>\n",
       "      <th>FLAG_EMP_PHONE</th>\n",
       "      <th>FLAG_WORK_PHONE</th>\n",
       "      <th>FLAG_CONT_MOBILE</th>\n",
       "      <th>FLAG_PHONE</th>\n",
       "      <th>FLAG_EMAIL</th>\n",
       "      <th>CNT_FAM_MEMBERS</th>\n",
       "      <th>REGION_RATING_CLIENT</th>\n",
       "      <th>REGION_RATING_CLIENT_W_CITY</th>\n",
       "      <th>WEEKDAY_APPR_PROCESS_START</th>\n",
       "      <th>HOUR_APPR_PROCESS_START</th>\n",
       "      <th>REG_REGION_NOT_LIVE_REGION</th>\n",
       "      <th>REG_REGION_NOT_WORK_REGION</th>\n",
       "      <th>LIVE_REGION_NOT_WORK_REGION</th>\n",
       "      <th>REG_CITY_NOT_LIVE_CITY</th>\n",
       "      <th>REG_CITY_NOT_WORK_CITY</th>\n",
       "      <th>LIVE_CITY_NOT_WORK_CITY</th>\n",
       "      <th>ORGANIZATION_TYPE</th>\n",
       "      <th>EXT_SOURCE_2</th>\n",
       "      <th>OBS_30_CNT_SOCIAL_CIRCLE</th>\n",
       "      <th>DEF_30_CNT_SOCIAL_CIRCLE</th>\n",
       "      <th>OBS_60_CNT_SOCIAL_CIRCLE</th>\n",
       "      <th>DEF_60_CNT_SOCIAL_CIRCLE</th>\n",
       "      <th>DAYS_LAST_PHONE_CHANGE</th>\n",
       "      <th>FLAG_DOCUMENT_2</th>\n",
       "      <th>FLAG_DOCUMENT_3</th>\n",
       "      <th>FLAG_DOCUMENT_4</th>\n",
       "      <th>FLAG_DOCUMENT_5</th>\n",
       "      <th>FLAG_DOCUMENT_6</th>\n",
       "      <th>FLAG_DOCUMENT_7</th>\n",
       "      <th>FLAG_DOCUMENT_8</th>\n",
       "      <th>FLAG_DOCUMENT_9</th>\n",
       "      <th>FLAG_DOCUMENT_10</th>\n",
       "      <th>FLAG_DOCUMENT_11</th>\n",
       "      <th>FLAG_DOCUMENT_12</th>\n",
       "      <th>FLAG_DOCUMENT_13</th>\n",
       "      <th>FLAG_DOCUMENT_14</th>\n",
       "      <th>FLAG_DOCUMENT_15</th>\n",
       "      <th>FLAG_DOCUMENT_16</th>\n",
       "      <th>FLAG_DOCUMENT_17</th>\n",
       "      <th>FLAG_DOCUMENT_18</th>\n",
       "      <th>FLAG_DOCUMENT_19</th>\n",
       "      <th>FLAG_DOCUMENT_20</th>\n",
       "      <th>FLAG_DOCUMENT_21</th>\n",
       "      <th>AMT_REQ_CREDIT_BUREAU_HOUR</th>\n",
       "      <th>AMT_REQ_CREDIT_BUREAU_DAY</th>\n",
       "      <th>AMT_REQ_CREDIT_BUREAU_WEEK</th>\n",
       "      <th>AMT_REQ_CREDIT_BUREAU_MON</th>\n",
       "      <th>AMT_REQ_CREDIT_BUREAU_QRT</th>\n",
       "      <th>AMT_REQ_CREDIT_BUREAU_YEAR</th>\n",
       "    </tr>\n",
       "  </thead>\n",
       "  <tbody>\n",
       "    <tr>\n",
       "      <th>0</th>\n",
       "      <td>100002</td>\n",
       "      <td>Cash loans</td>\n",
       "      <td>M</td>\n",
       "      <td>N</td>\n",
       "      <td>Y</td>\n",
       "      <td>0</td>\n",
       "      <td>202500.0</td>\n",
       "      <td>406597.5</td>\n",
       "      <td>24700.5</td>\n",
       "      <td>351000.0</td>\n",
       "      <td>Unaccompanied</td>\n",
       "      <td>Working</td>\n",
       "      <td>Secondary / secondary special</td>\n",
       "      <td>Single / not married</td>\n",
       "      <td>House / apartment</td>\n",
       "      <td>0.018801</td>\n",
       "      <td>-9461</td>\n",
       "      <td>-637</td>\n",
       "      <td>-3648.0</td>\n",
       "      <td>-2120</td>\n",
       "      <td>1</td>\n",
       "      <td>1</td>\n",
       "      <td>0</td>\n",
       "      <td>1</td>\n",
       "      <td>1</td>\n",
       "      <td>0</td>\n",
       "      <td>1.0</td>\n",
       "      <td>2</td>\n",
       "      <td>2</td>\n",
       "      <td>WEDNESDAY</td>\n",
       "      <td>10</td>\n",
       "      <td>0</td>\n",
       "      <td>0</td>\n",
       "      <td>0</td>\n",
       "      <td>0</td>\n",
       "      <td>0</td>\n",
       "      <td>0</td>\n",
       "      <td>Business Entity Type 3</td>\n",
       "      <td>0.262949</td>\n",
       "      <td>2.0</td>\n",
       "      <td>2.0</td>\n",
       "      <td>2.0</td>\n",
       "      <td>2.0</td>\n",
       "      <td>-1134.0</td>\n",
       "      <td>0</td>\n",
       "      <td>1</td>\n",
       "      <td>0</td>\n",
       "      <td>0</td>\n",
       "      <td>0</td>\n",
       "      <td>0</td>\n",
       "      <td>0</td>\n",
       "      <td>0</td>\n",
       "      <td>0</td>\n",
       "      <td>0</td>\n",
       "      <td>0</td>\n",
       "      <td>0</td>\n",
       "      <td>0</td>\n",
       "      <td>0</td>\n",
       "      <td>0</td>\n",
       "      <td>0</td>\n",
       "      <td>0</td>\n",
       "      <td>0</td>\n",
       "      <td>0</td>\n",
       "      <td>0</td>\n",
       "      <td>0.0</td>\n",
       "      <td>0.0</td>\n",
       "      <td>0.0</td>\n",
       "      <td>0.0</td>\n",
       "      <td>0.0</td>\n",
       "      <td>1.0</td>\n",
       "    </tr>\n",
       "    <tr>\n",
       "      <th>1</th>\n",
       "      <td>100003</td>\n",
       "      <td>Cash loans</td>\n",
       "      <td>F</td>\n",
       "      <td>N</td>\n",
       "      <td>N</td>\n",
       "      <td>0</td>\n",
       "      <td>270000.0</td>\n",
       "      <td>1293502.5</td>\n",
       "      <td>35698.5</td>\n",
       "      <td>1129500.0</td>\n",
       "      <td>Family</td>\n",
       "      <td>State servant</td>\n",
       "      <td>Higher education</td>\n",
       "      <td>Married</td>\n",
       "      <td>House / apartment</td>\n",
       "      <td>0.003541</td>\n",
       "      <td>-16765</td>\n",
       "      <td>-1188</td>\n",
       "      <td>-1186.0</td>\n",
       "      <td>-291</td>\n",
       "      <td>1</td>\n",
       "      <td>1</td>\n",
       "      <td>0</td>\n",
       "      <td>1</td>\n",
       "      <td>1</td>\n",
       "      <td>0</td>\n",
       "      <td>2.0</td>\n",
       "      <td>1</td>\n",
       "      <td>1</td>\n",
       "      <td>MONDAY</td>\n",
       "      <td>11</td>\n",
       "      <td>0</td>\n",
       "      <td>0</td>\n",
       "      <td>0</td>\n",
       "      <td>0</td>\n",
       "      <td>0</td>\n",
       "      <td>0</td>\n",
       "      <td>School</td>\n",
       "      <td>0.622246</td>\n",
       "      <td>1.0</td>\n",
       "      <td>0.0</td>\n",
       "      <td>1.0</td>\n",
       "      <td>0.0</td>\n",
       "      <td>-828.0</td>\n",
       "      <td>0</td>\n",
       "      <td>1</td>\n",
       "      <td>0</td>\n",
       "      <td>0</td>\n",
       "      <td>0</td>\n",
       "      <td>0</td>\n",
       "      <td>0</td>\n",
       "      <td>0</td>\n",
       "      <td>0</td>\n",
       "      <td>0</td>\n",
       "      <td>0</td>\n",
       "      <td>0</td>\n",
       "      <td>0</td>\n",
       "      <td>0</td>\n",
       "      <td>0</td>\n",
       "      <td>0</td>\n",
       "      <td>0</td>\n",
       "      <td>0</td>\n",
       "      <td>0</td>\n",
       "      <td>0</td>\n",
       "      <td>0.0</td>\n",
       "      <td>0.0</td>\n",
       "      <td>0.0</td>\n",
       "      <td>0.0</td>\n",
       "      <td>0.0</td>\n",
       "      <td>0.0</td>\n",
       "    </tr>\n",
       "    <tr>\n",
       "      <th>2</th>\n",
       "      <td>100004</td>\n",
       "      <td>Revolving loans</td>\n",
       "      <td>M</td>\n",
       "      <td>Y</td>\n",
       "      <td>Y</td>\n",
       "      <td>0</td>\n",
       "      <td>67500.0</td>\n",
       "      <td>135000.0</td>\n",
       "      <td>6750.0</td>\n",
       "      <td>135000.0</td>\n",
       "      <td>Unaccompanied</td>\n",
       "      <td>Working</td>\n",
       "      <td>Secondary / secondary special</td>\n",
       "      <td>Single / not married</td>\n",
       "      <td>House / apartment</td>\n",
       "      <td>0.010032</td>\n",
       "      <td>-19046</td>\n",
       "      <td>-225</td>\n",
       "      <td>-4260.0</td>\n",
       "      <td>-2531</td>\n",
       "      <td>1</td>\n",
       "      <td>1</td>\n",
       "      <td>1</td>\n",
       "      <td>1</td>\n",
       "      <td>1</td>\n",
       "      <td>0</td>\n",
       "      <td>1.0</td>\n",
       "      <td>2</td>\n",
       "      <td>2</td>\n",
       "      <td>MONDAY</td>\n",
       "      <td>9</td>\n",
       "      <td>0</td>\n",
       "      <td>0</td>\n",
       "      <td>0</td>\n",
       "      <td>0</td>\n",
       "      <td>0</td>\n",
       "      <td>0</td>\n",
       "      <td>Government</td>\n",
       "      <td>0.555912</td>\n",
       "      <td>0.0</td>\n",
       "      <td>0.0</td>\n",
       "      <td>0.0</td>\n",
       "      <td>0.0</td>\n",
       "      <td>-815.0</td>\n",
       "      <td>0</td>\n",
       "      <td>0</td>\n",
       "      <td>0</td>\n",
       "      <td>0</td>\n",
       "      <td>0</td>\n",
       "      <td>0</td>\n",
       "      <td>0</td>\n",
       "      <td>0</td>\n",
       "      <td>0</td>\n",
       "      <td>0</td>\n",
       "      <td>0</td>\n",
       "      <td>0</td>\n",
       "      <td>0</td>\n",
       "      <td>0</td>\n",
       "      <td>0</td>\n",
       "      <td>0</td>\n",
       "      <td>0</td>\n",
       "      <td>0</td>\n",
       "      <td>0</td>\n",
       "      <td>0</td>\n",
       "      <td>0.0</td>\n",
       "      <td>0.0</td>\n",
       "      <td>0.0</td>\n",
       "      <td>0.0</td>\n",
       "      <td>0.0</td>\n",
       "      <td>0.0</td>\n",
       "    </tr>\n",
       "    <tr>\n",
       "      <th>3</th>\n",
       "      <td>100006</td>\n",
       "      <td>Cash loans</td>\n",
       "      <td>F</td>\n",
       "      <td>N</td>\n",
       "      <td>Y</td>\n",
       "      <td>0</td>\n",
       "      <td>135000.0</td>\n",
       "      <td>312682.5</td>\n",
       "      <td>29686.5</td>\n",
       "      <td>297000.0</td>\n",
       "      <td>Unaccompanied</td>\n",
       "      <td>Working</td>\n",
       "      <td>Secondary / secondary special</td>\n",
       "      <td>Civil marriage</td>\n",
       "      <td>House / apartment</td>\n",
       "      <td>0.008019</td>\n",
       "      <td>-19005</td>\n",
       "      <td>-3039</td>\n",
       "      <td>-9833.0</td>\n",
       "      <td>-2437</td>\n",
       "      <td>1</td>\n",
       "      <td>1</td>\n",
       "      <td>0</td>\n",
       "      <td>1</td>\n",
       "      <td>0</td>\n",
       "      <td>0</td>\n",
       "      <td>2.0</td>\n",
       "      <td>2</td>\n",
       "      <td>2</td>\n",
       "      <td>WEDNESDAY</td>\n",
       "      <td>17</td>\n",
       "      <td>0</td>\n",
       "      <td>0</td>\n",
       "      <td>0</td>\n",
       "      <td>0</td>\n",
       "      <td>0</td>\n",
       "      <td>0</td>\n",
       "      <td>Business Entity Type 3</td>\n",
       "      <td>0.650442</td>\n",
       "      <td>2.0</td>\n",
       "      <td>0.0</td>\n",
       "      <td>2.0</td>\n",
       "      <td>0.0</td>\n",
       "      <td>-617.0</td>\n",
       "      <td>0</td>\n",
       "      <td>1</td>\n",
       "      <td>0</td>\n",
       "      <td>0</td>\n",
       "      <td>0</td>\n",
       "      <td>0</td>\n",
       "      <td>0</td>\n",
       "      <td>0</td>\n",
       "      <td>0</td>\n",
       "      <td>0</td>\n",
       "      <td>0</td>\n",
       "      <td>0</td>\n",
       "      <td>0</td>\n",
       "      <td>0</td>\n",
       "      <td>0</td>\n",
       "      <td>0</td>\n",
       "      <td>0</td>\n",
       "      <td>0</td>\n",
       "      <td>0</td>\n",
       "      <td>0</td>\n",
       "      <td>0.0</td>\n",
       "      <td>0.0</td>\n",
       "      <td>0.0</td>\n",
       "      <td>0.0</td>\n",
       "      <td>0.0</td>\n",
       "      <td>0.0</td>\n",
       "    </tr>\n",
       "    <tr>\n",
       "      <th>4</th>\n",
       "      <td>100007</td>\n",
       "      <td>Cash loans</td>\n",
       "      <td>M</td>\n",
       "      <td>N</td>\n",
       "      <td>Y</td>\n",
       "      <td>0</td>\n",
       "      <td>121500.0</td>\n",
       "      <td>513000.0</td>\n",
       "      <td>21865.5</td>\n",
       "      <td>513000.0</td>\n",
       "      <td>Unaccompanied</td>\n",
       "      <td>Working</td>\n",
       "      <td>Secondary / secondary special</td>\n",
       "      <td>Single / not married</td>\n",
       "      <td>House / apartment</td>\n",
       "      <td>0.028663</td>\n",
       "      <td>-19932</td>\n",
       "      <td>-3038</td>\n",
       "      <td>-4311.0</td>\n",
       "      <td>-3458</td>\n",
       "      <td>1</td>\n",
       "      <td>1</td>\n",
       "      <td>0</td>\n",
       "      <td>1</td>\n",
       "      <td>0</td>\n",
       "      <td>0</td>\n",
       "      <td>1.0</td>\n",
       "      <td>2</td>\n",
       "      <td>2</td>\n",
       "      <td>THURSDAY</td>\n",
       "      <td>11</td>\n",
       "      <td>0</td>\n",
       "      <td>0</td>\n",
       "      <td>0</td>\n",
       "      <td>0</td>\n",
       "      <td>1</td>\n",
       "      <td>1</td>\n",
       "      <td>Religion</td>\n",
       "      <td>0.322738</td>\n",
       "      <td>0.0</td>\n",
       "      <td>0.0</td>\n",
       "      <td>0.0</td>\n",
       "      <td>0.0</td>\n",
       "      <td>-1106.0</td>\n",
       "      <td>0</td>\n",
       "      <td>0</td>\n",
       "      <td>0</td>\n",
       "      <td>0</td>\n",
       "      <td>0</td>\n",
       "      <td>0</td>\n",
       "      <td>1</td>\n",
       "      <td>0</td>\n",
       "      <td>0</td>\n",
       "      <td>0</td>\n",
       "      <td>0</td>\n",
       "      <td>0</td>\n",
       "      <td>0</td>\n",
       "      <td>0</td>\n",
       "      <td>0</td>\n",
       "      <td>0</td>\n",
       "      <td>0</td>\n",
       "      <td>0</td>\n",
       "      <td>0</td>\n",
       "      <td>0</td>\n",
       "      <td>0.0</td>\n",
       "      <td>0.0</td>\n",
       "      <td>0.0</td>\n",
       "      <td>0.0</td>\n",
       "      <td>0.0</td>\n",
       "      <td>0.0</td>\n",
       "    </tr>\n",
       "  </tbody>\n",
       "</table>\n",
       "</div>"
      ],
      "text/plain": [
       "   SK_ID_CURR  ... AMT_REQ_CREDIT_BUREAU_YEAR\n",
       "0      100002  ...                        1.0\n",
       "1      100003  ...                        0.0\n",
       "2      100004  ...                        0.0\n",
       "3      100006  ...                        0.0\n",
       "4      100007  ...                        0.0\n",
       "\n",
       "[5 rows x 70 columns]"
      ]
     },
     "execution_count": 20,
     "metadata": {},
     "output_type": "execute_result"
    }
   ],
   "source": [
    "X.head()"
   ]
  },
  {
   "cell_type": "code",
   "execution_count": 21,
   "metadata": {},
   "outputs": [
    {
     "data": {
      "text/plain": [
       "(307220, 70)"
      ]
     },
     "execution_count": 21,
     "metadata": {},
     "output_type": "execute_result"
    }
   ],
   "source": [
    "X.shape"
   ]
  },
  {
   "cell_type": "code",
   "execution_count": 22,
   "metadata": {},
   "outputs": [
    {
     "data": {
      "text/plain": [
       "(215054,)"
      ]
     },
     "execution_count": 22,
     "metadata": {},
     "output_type": "execute_result"
    }
   ],
   "source": [
    "y_train.shape"
   ]
  },
  {
   "cell_type": "code",
   "execution_count": 23,
   "metadata": {},
   "outputs": [
    {
     "data": {
      "text/plain": [
       "(92166,)"
      ]
     },
     "execution_count": 23,
     "metadata": {},
     "output_type": "execute_result"
    }
   ],
   "source": [
    "y_test.shape"
   ]
  },
  {
   "cell_type": "code",
   "execution_count": 24,
   "metadata": {},
   "outputs": [
    {
     "data": {
      "text/plain": [
       "(215054, 70)"
      ]
     },
     "execution_count": 24,
     "metadata": {},
     "output_type": "execute_result"
    }
   ],
   "source": [
    "trainset(X).shape"
   ]
  },
  {
   "cell_type": "code",
   "execution_count": 25,
   "metadata": {},
   "outputs": [
    {
     "data": {
      "text/html": [
       "<div>\n",
       "<style scoped>\n",
       "    .dataframe tbody tr th:only-of-type {\n",
       "        vertical-align: middle;\n",
       "    }\n",
       "\n",
       "    .dataframe tbody tr th {\n",
       "        vertical-align: top;\n",
       "    }\n",
       "\n",
       "    .dataframe thead th {\n",
       "        text-align: right;\n",
       "    }\n",
       "</style>\n",
       "<table border=\"1\" class=\"dataframe\">\n",
       "  <thead>\n",
       "    <tr style=\"text-align: right;\">\n",
       "      <th></th>\n",
       "      <th>SK_ID_CURR</th>\n",
       "      <th>CNT_CHILDREN</th>\n",
       "      <th>AMT_INCOME_TOTAL</th>\n",
       "      <th>AMT_CREDIT</th>\n",
       "      <th>AMT_ANNUITY</th>\n",
       "      <th>AMT_GOODS_PRICE</th>\n",
       "      <th>REGION_POPULATION_RELATIVE</th>\n",
       "      <th>DAYS_BIRTH</th>\n",
       "      <th>DAYS_EMPLOYED</th>\n",
       "      <th>DAYS_REGISTRATION</th>\n",
       "      <th>DAYS_ID_PUBLISH</th>\n",
       "      <th>FLAG_MOBIL</th>\n",
       "      <th>FLAG_EMP_PHONE</th>\n",
       "      <th>FLAG_WORK_PHONE</th>\n",
       "      <th>FLAG_CONT_MOBILE</th>\n",
       "      <th>FLAG_PHONE</th>\n",
       "      <th>FLAG_EMAIL</th>\n",
       "      <th>CNT_FAM_MEMBERS</th>\n",
       "      <th>REGION_RATING_CLIENT</th>\n",
       "      <th>REGION_RATING_CLIENT_W_CITY</th>\n",
       "      <th>HOUR_APPR_PROCESS_START</th>\n",
       "      <th>REG_REGION_NOT_LIVE_REGION</th>\n",
       "      <th>REG_REGION_NOT_WORK_REGION</th>\n",
       "      <th>LIVE_REGION_NOT_WORK_REGION</th>\n",
       "      <th>REG_CITY_NOT_LIVE_CITY</th>\n",
       "      <th>REG_CITY_NOT_WORK_CITY</th>\n",
       "      <th>LIVE_CITY_NOT_WORK_CITY</th>\n",
       "      <th>EXT_SOURCE_2</th>\n",
       "      <th>OBS_30_CNT_SOCIAL_CIRCLE</th>\n",
       "      <th>DEF_30_CNT_SOCIAL_CIRCLE</th>\n",
       "      <th>OBS_60_CNT_SOCIAL_CIRCLE</th>\n",
       "      <th>DEF_60_CNT_SOCIAL_CIRCLE</th>\n",
       "      <th>DAYS_LAST_PHONE_CHANGE</th>\n",
       "      <th>FLAG_DOCUMENT_2</th>\n",
       "      <th>FLAG_DOCUMENT_3</th>\n",
       "      <th>FLAG_DOCUMENT_4</th>\n",
       "      <th>FLAG_DOCUMENT_5</th>\n",
       "      <th>FLAG_DOCUMENT_6</th>\n",
       "      <th>FLAG_DOCUMENT_7</th>\n",
       "      <th>FLAG_DOCUMENT_8</th>\n",
       "      <th>FLAG_DOCUMENT_9</th>\n",
       "      <th>FLAG_DOCUMENT_10</th>\n",
       "      <th>FLAG_DOCUMENT_11</th>\n",
       "      <th>FLAG_DOCUMENT_12</th>\n",
       "      <th>FLAG_DOCUMENT_13</th>\n",
       "      <th>FLAG_DOCUMENT_14</th>\n",
       "      <th>FLAG_DOCUMENT_15</th>\n",
       "      <th>FLAG_DOCUMENT_16</th>\n",
       "      <th>FLAG_DOCUMENT_17</th>\n",
       "      <th>FLAG_DOCUMENT_18</th>\n",
       "      <th>FLAG_DOCUMENT_19</th>\n",
       "      <th>FLAG_DOCUMENT_20</th>\n",
       "      <th>FLAG_DOCUMENT_21</th>\n",
       "      <th>AMT_REQ_CREDIT_BUREAU_HOUR</th>\n",
       "      <th>AMT_REQ_CREDIT_BUREAU_DAY</th>\n",
       "      <th>AMT_REQ_CREDIT_BUREAU_WEEK</th>\n",
       "      <th>AMT_REQ_CREDIT_BUREAU_MON</th>\n",
       "      <th>AMT_REQ_CREDIT_BUREAU_QRT</th>\n",
       "      <th>AMT_REQ_CREDIT_BUREAU_YEAR</th>\n",
       "    </tr>\n",
       "  </thead>\n",
       "  <tbody>\n",
       "    <tr>\n",
       "      <th>count</th>\n",
       "      <td>307220.000000</td>\n",
       "      <td>307220.000000</td>\n",
       "      <td>3.072200e+05</td>\n",
       "      <td>3.072200e+05</td>\n",
       "      <td>307220.000000</td>\n",
       "      <td>3.072200e+05</td>\n",
       "      <td>307220.000000</td>\n",
       "      <td>307220.000000</td>\n",
       "      <td>307220.000000</td>\n",
       "      <td>307220.000000</td>\n",
       "      <td>307220.000000</td>\n",
       "      <td>307220.0</td>\n",
       "      <td>307220.000000</td>\n",
       "      <td>307220.000000</td>\n",
       "      <td>307220.000000</td>\n",
       "      <td>307220.000000</td>\n",
       "      <td>307220.000000</td>\n",
       "      <td>307220.000000</td>\n",
       "      <td>307220.000000</td>\n",
       "      <td>307220.000000</td>\n",
       "      <td>307220.000000</td>\n",
       "      <td>307220.000000</td>\n",
       "      <td>307220.000000</td>\n",
       "      <td>307220.000000</td>\n",
       "      <td>307220.000000</td>\n",
       "      <td>307220.000000</td>\n",
       "      <td>307220.000000</td>\n",
       "      <td>3.065620e+05</td>\n",
       "      <td>307220.000000</td>\n",
       "      <td>307220.000000</td>\n",
       "      <td>307220.000000</td>\n",
       "      <td>307220.000000</td>\n",
       "      <td>307220.000000</td>\n",
       "      <td>307220.000000</td>\n",
       "      <td>307220.000000</td>\n",
       "      <td>307220.000000</td>\n",
       "      <td>307220.000000</td>\n",
       "      <td>307220.000000</td>\n",
       "      <td>307220.00000</td>\n",
       "      <td>307220.00000</td>\n",
       "      <td>307220.000000</td>\n",
       "      <td>307220.000000</td>\n",
       "      <td>307220.000000</td>\n",
       "      <td>307220.000000</td>\n",
       "      <td>307220.000000</td>\n",
       "      <td>307220.000000</td>\n",
       "      <td>307220.000000</td>\n",
       "      <td>307220.000000</td>\n",
       "      <td>307220.000000</td>\n",
       "      <td>307220.000000</td>\n",
       "      <td>307220.000000</td>\n",
       "      <td>307220.000000</td>\n",
       "      <td>307220.000000</td>\n",
       "      <td>307220.00000</td>\n",
       "      <td>307220.000000</td>\n",
       "      <td>307220.000000</td>\n",
       "      <td>307220.000000</td>\n",
       "      <td>307220.000000</td>\n",
       "      <td>307220.000000</td>\n",
       "    </tr>\n",
       "    <tr>\n",
       "      <th>mean</th>\n",
       "      <td>278171.250368</td>\n",
       "      <td>0.416978</td>\n",
       "      <td>1.688327e+05</td>\n",
       "      <td>5.993174e+05</td>\n",
       "      <td>27120.456294</td>\n",
       "      <td>5.383983e+05</td>\n",
       "      <td>0.020870</td>\n",
       "      <td>-16038.811428</td>\n",
       "      <td>63851.304010</td>\n",
       "      <td>-4986.328699</td>\n",
       "      <td>-2994.390476</td>\n",
       "      <td>1.0</td>\n",
       "      <td>0.819790</td>\n",
       "      <td>0.198867</td>\n",
       "      <td>0.998132</td>\n",
       "      <td>0.280646</td>\n",
       "      <td>0.056712</td>\n",
       "      <td>2.152627</td>\n",
       "      <td>2.052454</td>\n",
       "      <td>2.031499</td>\n",
       "      <td>12.063017</td>\n",
       "      <td>0.015149</td>\n",
       "      <td>0.050758</td>\n",
       "      <td>0.040642</td>\n",
       "      <td>0.078156</td>\n",
       "      <td>0.230402</td>\n",
       "      <td>0.179503</td>\n",
       "      <td>5.143913e-01</td>\n",
       "      <td>1.417717</td>\n",
       "      <td>0.142956</td>\n",
       "      <td>1.400827</td>\n",
       "      <td>0.099717</td>\n",
       "      <td>-962.885496</td>\n",
       "      <td>0.000042</td>\n",
       "      <td>0.710419</td>\n",
       "      <td>0.000081</td>\n",
       "      <td>0.014664</td>\n",
       "      <td>0.088126</td>\n",
       "      <td>0.00014</td>\n",
       "      <td>0.08142</td>\n",
       "      <td>0.003883</td>\n",
       "      <td>0.000020</td>\n",
       "      <td>0.003916</td>\n",
       "      <td>0.000007</td>\n",
       "      <td>0.003528</td>\n",
       "      <td>0.002939</td>\n",
       "      <td>0.001211</td>\n",
       "      <td>0.009938</td>\n",
       "      <td>0.000267</td>\n",
       "      <td>0.008134</td>\n",
       "      <td>0.000596</td>\n",
       "      <td>0.000508</td>\n",
       "      <td>0.000329</td>\n",
       "      <td>0.00554</td>\n",
       "      <td>0.006061</td>\n",
       "      <td>0.029728</td>\n",
       "      <td>0.231404</td>\n",
       "      <td>0.229682</td>\n",
       "      <td>1.643708</td>\n",
       "    </tr>\n",
       "    <tr>\n",
       "      <th>std</th>\n",
       "      <td>102788.220340</td>\n",
       "      <td>0.722048</td>\n",
       "      <td>2.372203e+05</td>\n",
       "      <td>4.025198e+05</td>\n",
       "      <td>14492.130232</td>\n",
       "      <td>3.694486e+05</td>\n",
       "      <td>0.013832</td>\n",
       "      <td>4363.839034</td>\n",
       "      <td>141306.101586</td>\n",
       "      <td>3523.145205</td>\n",
       "      <td>1509.380100</td>\n",
       "      <td>0.0</td>\n",
       "      <td>0.384363</td>\n",
       "      <td>0.399149</td>\n",
       "      <td>0.043184</td>\n",
       "      <td>0.449315</td>\n",
       "      <td>0.231291</td>\n",
       "      <td>0.910624</td>\n",
       "      <td>0.509087</td>\n",
       "      <td>0.502790</td>\n",
       "      <td>3.265946</td>\n",
       "      <td>0.122145</td>\n",
       "      <td>0.219504</td>\n",
       "      <td>0.197459</td>\n",
       "      <td>0.268417</td>\n",
       "      <td>0.421091</td>\n",
       "      <td>0.383774</td>\n",
       "      <td>1.910704e-01</td>\n",
       "      <td>2.398596</td>\n",
       "      <td>0.446065</td>\n",
       "      <td>2.377437</td>\n",
       "      <td>0.361726</td>\n",
       "      <td>826.923550</td>\n",
       "      <td>0.006505</td>\n",
       "      <td>0.453569</td>\n",
       "      <td>0.009020</td>\n",
       "      <td>0.120203</td>\n",
       "      <td>0.283478</td>\n",
       "      <td>0.01183</td>\n",
       "      <td>0.27348</td>\n",
       "      <td>0.062194</td>\n",
       "      <td>0.004419</td>\n",
       "      <td>0.062454</td>\n",
       "      <td>0.002551</td>\n",
       "      <td>0.059296</td>\n",
       "      <td>0.054135</td>\n",
       "      <td>0.034776</td>\n",
       "      <td>0.099191</td>\n",
       "      <td>0.016335</td>\n",
       "      <td>0.089823</td>\n",
       "      <td>0.024399</td>\n",
       "      <td>0.022528</td>\n",
       "      <td>0.018129</td>\n",
       "      <td>0.07803</td>\n",
       "      <td>0.103086</td>\n",
       "      <td>0.190760</td>\n",
       "      <td>0.857088</td>\n",
       "      <td>0.744252</td>\n",
       "      <td>1.855939</td>\n",
       "    </tr>\n",
       "    <tr>\n",
       "      <th>min</th>\n",
       "      <td>100002.000000</td>\n",
       "      <td>0.000000</td>\n",
       "      <td>2.565000e+04</td>\n",
       "      <td>4.500000e+04</td>\n",
       "      <td>1615.500000</td>\n",
       "      <td>4.050000e+04</td>\n",
       "      <td>0.000290</td>\n",
       "      <td>-25229.000000</td>\n",
       "      <td>-17912.000000</td>\n",
       "      <td>-24672.000000</td>\n",
       "      <td>-7197.000000</td>\n",
       "      <td>1.0</td>\n",
       "      <td>0.000000</td>\n",
       "      <td>0.000000</td>\n",
       "      <td>0.000000</td>\n",
       "      <td>0.000000</td>\n",
       "      <td>0.000000</td>\n",
       "      <td>1.000000</td>\n",
       "      <td>1.000000</td>\n",
       "      <td>1.000000</td>\n",
       "      <td>0.000000</td>\n",
       "      <td>0.000000</td>\n",
       "      <td>0.000000</td>\n",
       "      <td>0.000000</td>\n",
       "      <td>0.000000</td>\n",
       "      <td>0.000000</td>\n",
       "      <td>0.000000</td>\n",
       "      <td>8.173617e-08</td>\n",
       "      <td>0.000000</td>\n",
       "      <td>0.000000</td>\n",
       "      <td>0.000000</td>\n",
       "      <td>0.000000</td>\n",
       "      <td>-4292.000000</td>\n",
       "      <td>0.000000</td>\n",
       "      <td>0.000000</td>\n",
       "      <td>0.000000</td>\n",
       "      <td>0.000000</td>\n",
       "      <td>0.000000</td>\n",
       "      <td>0.00000</td>\n",
       "      <td>0.00000</td>\n",
       "      <td>0.000000</td>\n",
       "      <td>0.000000</td>\n",
       "      <td>0.000000</td>\n",
       "      <td>0.000000</td>\n",
       "      <td>0.000000</td>\n",
       "      <td>0.000000</td>\n",
       "      <td>0.000000</td>\n",
       "      <td>0.000000</td>\n",
       "      <td>0.000000</td>\n",
       "      <td>0.000000</td>\n",
       "      <td>0.000000</td>\n",
       "      <td>0.000000</td>\n",
       "      <td>0.000000</td>\n",
       "      <td>0.00000</td>\n",
       "      <td>0.000000</td>\n",
       "      <td>0.000000</td>\n",
       "      <td>0.000000</td>\n",
       "      <td>0.000000</td>\n",
       "      <td>0.000000</td>\n",
       "    </tr>\n",
       "    <tr>\n",
       "      <th>25%</th>\n",
       "      <td>189141.750000</td>\n",
       "      <td>0.000000</td>\n",
       "      <td>1.125000e+05</td>\n",
       "      <td>2.700000e+05</td>\n",
       "      <td>16551.000000</td>\n",
       "      <td>2.385000e+05</td>\n",
       "      <td>0.010006</td>\n",
       "      <td>-19684.000000</td>\n",
       "      <td>-2760.000000</td>\n",
       "      <td>-7480.000000</td>\n",
       "      <td>-4299.000000</td>\n",
       "      <td>1.0</td>\n",
       "      <td>1.000000</td>\n",
       "      <td>0.000000</td>\n",
       "      <td>1.000000</td>\n",
       "      <td>0.000000</td>\n",
       "      <td>0.000000</td>\n",
       "      <td>2.000000</td>\n",
       "      <td>2.000000</td>\n",
       "      <td>2.000000</td>\n",
       "      <td>10.000000</td>\n",
       "      <td>0.000000</td>\n",
       "      <td>0.000000</td>\n",
       "      <td>0.000000</td>\n",
       "      <td>0.000000</td>\n",
       "      <td>0.000000</td>\n",
       "      <td>0.000000</td>\n",
       "      <td>3.924379e-01</td>\n",
       "      <td>0.000000</td>\n",
       "      <td>0.000000</td>\n",
       "      <td>0.000000</td>\n",
       "      <td>0.000000</td>\n",
       "      <td>-1570.000000</td>\n",
       "      <td>0.000000</td>\n",
       "      <td>0.000000</td>\n",
       "      <td>0.000000</td>\n",
       "      <td>0.000000</td>\n",
       "      <td>0.000000</td>\n",
       "      <td>0.00000</td>\n",
       "      <td>0.00000</td>\n",
       "      <td>0.000000</td>\n",
       "      <td>0.000000</td>\n",
       "      <td>0.000000</td>\n",
       "      <td>0.000000</td>\n",
       "      <td>0.000000</td>\n",
       "      <td>0.000000</td>\n",
       "      <td>0.000000</td>\n",
       "      <td>0.000000</td>\n",
       "      <td>0.000000</td>\n",
       "      <td>0.000000</td>\n",
       "      <td>0.000000</td>\n",
       "      <td>0.000000</td>\n",
       "      <td>0.000000</td>\n",
       "      <td>0.00000</td>\n",
       "      <td>0.000000</td>\n",
       "      <td>0.000000</td>\n",
       "      <td>0.000000</td>\n",
       "      <td>0.000000</td>\n",
       "      <td>0.000000</td>\n",
       "    </tr>\n",
       "    <tr>\n",
       "      <th>50%</th>\n",
       "      <td>278194.500000</td>\n",
       "      <td>0.000000</td>\n",
       "      <td>1.485000e+05</td>\n",
       "      <td>5.146020e+05</td>\n",
       "      <td>24916.500000</td>\n",
       "      <td>4.500000e+05</td>\n",
       "      <td>0.018850</td>\n",
       "      <td>-15753.000000</td>\n",
       "      <td>-1213.000000</td>\n",
       "      <td>-4504.000000</td>\n",
       "      <td>-3255.000000</td>\n",
       "      <td>1.0</td>\n",
       "      <td>1.000000</td>\n",
       "      <td>0.000000</td>\n",
       "      <td>1.000000</td>\n",
       "      <td>0.000000</td>\n",
       "      <td>0.000000</td>\n",
       "      <td>2.000000</td>\n",
       "      <td>2.000000</td>\n",
       "      <td>2.000000</td>\n",
       "      <td>12.000000</td>\n",
       "      <td>0.000000</td>\n",
       "      <td>0.000000</td>\n",
       "      <td>0.000000</td>\n",
       "      <td>0.000000</td>\n",
       "      <td>0.000000</td>\n",
       "      <td>0.000000</td>\n",
       "      <td>5.659722e-01</td>\n",
       "      <td>0.000000</td>\n",
       "      <td>0.000000</td>\n",
       "      <td>0.000000</td>\n",
       "      <td>0.000000</td>\n",
       "      <td>-757.000000</td>\n",
       "      <td>0.000000</td>\n",
       "      <td>1.000000</td>\n",
       "      <td>0.000000</td>\n",
       "      <td>0.000000</td>\n",
       "      <td>0.000000</td>\n",
       "      <td>0.00000</td>\n",
       "      <td>0.00000</td>\n",
       "      <td>0.000000</td>\n",
       "      <td>0.000000</td>\n",
       "      <td>0.000000</td>\n",
       "      <td>0.000000</td>\n",
       "      <td>0.000000</td>\n",
       "      <td>0.000000</td>\n",
       "      <td>0.000000</td>\n",
       "      <td>0.000000</td>\n",
       "      <td>0.000000</td>\n",
       "      <td>0.000000</td>\n",
       "      <td>0.000000</td>\n",
       "      <td>0.000000</td>\n",
       "      <td>0.000000</td>\n",
       "      <td>0.00000</td>\n",
       "      <td>0.000000</td>\n",
       "      <td>0.000000</td>\n",
       "      <td>0.000000</td>\n",
       "      <td>0.000000</td>\n",
       "      <td>1.000000</td>\n",
       "    </tr>\n",
       "    <tr>\n",
       "      <th>75%</th>\n",
       "      <td>367126.250000</td>\n",
       "      <td>1.000000</td>\n",
       "      <td>2.025000e+05</td>\n",
       "      <td>8.086500e+05</td>\n",
       "      <td>34596.000000</td>\n",
       "      <td>6.795000e+05</td>\n",
       "      <td>0.028663</td>\n",
       "      <td>-12415.000000</td>\n",
       "      <td>-289.000000</td>\n",
       "      <td>-2009.750000</td>\n",
       "      <td>-1720.000000</td>\n",
       "      <td>1.0</td>\n",
       "      <td>1.000000</td>\n",
       "      <td>0.000000</td>\n",
       "      <td>1.000000</td>\n",
       "      <td>1.000000</td>\n",
       "      <td>0.000000</td>\n",
       "      <td>3.000000</td>\n",
       "      <td>2.000000</td>\n",
       "      <td>2.000000</td>\n",
       "      <td>14.000000</td>\n",
       "      <td>0.000000</td>\n",
       "      <td>0.000000</td>\n",
       "      <td>0.000000</td>\n",
       "      <td>0.000000</td>\n",
       "      <td>0.000000</td>\n",
       "      <td>0.000000</td>\n",
       "      <td>6.636269e-01</td>\n",
       "      <td>2.000000</td>\n",
       "      <td>0.000000</td>\n",
       "      <td>2.000000</td>\n",
       "      <td>0.000000</td>\n",
       "      <td>-274.000000</td>\n",
       "      <td>0.000000</td>\n",
       "      <td>1.000000</td>\n",
       "      <td>0.000000</td>\n",
       "      <td>0.000000</td>\n",
       "      <td>0.000000</td>\n",
       "      <td>0.00000</td>\n",
       "      <td>0.00000</td>\n",
       "      <td>0.000000</td>\n",
       "      <td>0.000000</td>\n",
       "      <td>0.000000</td>\n",
       "      <td>0.000000</td>\n",
       "      <td>0.000000</td>\n",
       "      <td>0.000000</td>\n",
       "      <td>0.000000</td>\n",
       "      <td>0.000000</td>\n",
       "      <td>0.000000</td>\n",
       "      <td>0.000000</td>\n",
       "      <td>0.000000</td>\n",
       "      <td>0.000000</td>\n",
       "      <td>0.000000</td>\n",
       "      <td>0.00000</td>\n",
       "      <td>0.000000</td>\n",
       "      <td>0.000000</td>\n",
       "      <td>0.000000</td>\n",
       "      <td>0.000000</td>\n",
       "      <td>3.000000</td>\n",
       "    </tr>\n",
       "    <tr>\n",
       "      <th>max</th>\n",
       "      <td>456255.000000</td>\n",
       "      <td>19.000000</td>\n",
       "      <td>1.170000e+08</td>\n",
       "      <td>4.050000e+06</td>\n",
       "      <td>258025.500000</td>\n",
       "      <td>4.050000e+06</td>\n",
       "      <td>0.072508</td>\n",
       "      <td>-7489.000000</td>\n",
       "      <td>365243.000000</td>\n",
       "      <td>0.000000</td>\n",
       "      <td>0.000000</td>\n",
       "      <td>1.0</td>\n",
       "      <td>1.000000</td>\n",
       "      <td>1.000000</td>\n",
       "      <td>1.000000</td>\n",
       "      <td>1.000000</td>\n",
       "      <td>1.000000</td>\n",
       "      <td>20.000000</td>\n",
       "      <td>3.000000</td>\n",
       "      <td>3.000000</td>\n",
       "      <td>23.000000</td>\n",
       "      <td>1.000000</td>\n",
       "      <td>1.000000</td>\n",
       "      <td>1.000000</td>\n",
       "      <td>1.000000</td>\n",
       "      <td>1.000000</td>\n",
       "      <td>1.000000</td>\n",
       "      <td>8.549997e-01</td>\n",
       "      <td>348.000000</td>\n",
       "      <td>34.000000</td>\n",
       "      <td>344.000000</td>\n",
       "      <td>24.000000</td>\n",
       "      <td>0.000000</td>\n",
       "      <td>1.000000</td>\n",
       "      <td>1.000000</td>\n",
       "      <td>1.000000</td>\n",
       "      <td>1.000000</td>\n",
       "      <td>1.000000</td>\n",
       "      <td>1.00000</td>\n",
       "      <td>1.00000</td>\n",
       "      <td>1.000000</td>\n",
       "      <td>1.000000</td>\n",
       "      <td>1.000000</td>\n",
       "      <td>1.000000</td>\n",
       "      <td>1.000000</td>\n",
       "      <td>1.000000</td>\n",
       "      <td>1.000000</td>\n",
       "      <td>1.000000</td>\n",
       "      <td>1.000000</td>\n",
       "      <td>1.000000</td>\n",
       "      <td>1.000000</td>\n",
       "      <td>1.000000</td>\n",
       "      <td>1.000000</td>\n",
       "      <td>4.00000</td>\n",
       "      <td>9.000000</td>\n",
       "      <td>8.000000</td>\n",
       "      <td>27.000000</td>\n",
       "      <td>261.000000</td>\n",
       "      <td>25.000000</td>\n",
       "    </tr>\n",
       "  </tbody>\n",
       "</table>\n",
       "</div>"
      ],
      "text/plain": [
       "          SK_ID_CURR  ...  AMT_REQ_CREDIT_BUREAU_YEAR\n",
       "count  307220.000000  ...               307220.000000\n",
       "mean   278171.250368  ...                    1.643708\n",
       "std    102788.220340  ...                    1.855939\n",
       "min    100002.000000  ...                    0.000000\n",
       "25%    189141.750000  ...                    0.000000\n",
       "50%    278194.500000  ...                    1.000000\n",
       "75%    367126.250000  ...                    3.000000\n",
       "max    456255.000000  ...                   25.000000\n",
       "\n",
       "[8 rows x 59 columns]"
      ]
     },
     "execution_count": 25,
     "metadata": {},
     "output_type": "execute_result"
    }
   ],
   "source": [
    "X.describe()"
   ]
  },
  {
   "cell_type": "markdown",
   "metadata": {},
   "source": [
    "## Imputation de valeurs manquantes"
   ]
  },
  {
   "cell_type": "code",
   "execution_count": 26,
   "metadata": {},
   "outputs": [],
   "source": [
    "X.fillna(value = {\"EXT_SOURCE_2\" : trainset(X)[\"EXT_SOURCE_2\"].quantile(0.5)}, \n",
    "         inplace = True)"
   ]
  },
  {
   "cell_type": "markdown",
   "metadata": {},
   "source": [
    "## Duplicats"
   ]
  },
  {
   "cell_type": "code",
   "execution_count": 27,
   "metadata": {},
   "outputs": [
    {
     "name": "stdout",
     "output_type": "stream",
     "text": [
      "Suppression de 0 duplicats\n"
     ]
    }
   ],
   "source": [
    "nrows_prev = X.shape[0]\n",
    "X.drop_duplicates(subset = \"SK_ID_CURR\", inplace = True)\n",
    "print(\"Suppression de {} duplicats\".format(X.shape[0] - nrows_prev))"
   ]
  },
  {
   "cell_type": "markdown",
   "metadata": {},
   "source": [
    "# Fusion avec autres tables - Données statiques"
   ]
  },
  {
   "cell_type": "markdown",
   "metadata": {},
   "source": [
    "## Fusion avec POS_CASH_balance"
   ]
  },
  {
   "cell_type": "code",
   "execution_count": 28,
   "metadata": {},
   "outputs": [],
   "source": [
    "SK_DPD_DEF_min = POS_CASH_balance.loc[:, [\"SK_ID_CURR\", \"SK_DPD_DEF\"]].groupby(by = \"SK_ID_CURR\").min()\n",
    "SK_DPD_DEF_min.rename(columns = {\"SK_DPD_DEF\" : \"SK_DPD_DEF_min\"}, inplace = True)"
   ]
  },
  {
   "cell_type": "code",
   "execution_count": 29,
   "metadata": {},
   "outputs": [],
   "source": [
    "SK_DPD_DEF_max = POS_CASH_balance.loc[:, [\"SK_ID_CURR\", \"SK_DPD_DEF\"]].groupby(by = \"SK_ID_CURR\").max()\n",
    "SK_DPD_DEF_max.rename(columns = {\"SK_DPD_DEF\" : \"SK_DPD_DEF_max\"}, inplace = True)"
   ]
  },
  {
   "cell_type": "code",
   "execution_count": 30,
   "metadata": {},
   "outputs": [],
   "source": [
    "SK_DPD_DEF_med = POS_CASH_balance.loc[:, [\"SK_ID_CURR\", \"SK_DPD_DEF\"]].groupby(by = \"SK_ID_CURR\").agg(lambda X: np.quantile(X, 0.5))\n",
    "SK_DPD_DEF_med.rename(columns = {\"SK_DPD_DEF\" : \"SK_DPD_DEF_med\"}, inplace = True)"
   ]
  },
  {
   "cell_type": "code",
   "execution_count": 31,
   "metadata": {},
   "outputs": [],
   "source": [
    "SK_DPD_DEF_charac = pd.merge(SK_DPD_DEF_min, SK_DPD_DEF_max, on = \"SK_ID_CURR\", how = \"outer\")\n",
    "SK_DPD_DEF_charac = pd.merge(SK_DPD_DEF_charac, SK_DPD_DEF_med, on = \"SK_ID_CURR\", how = \"outer\")"
   ]
  },
  {
   "cell_type": "code",
   "execution_count": 32,
   "metadata": {},
   "outputs": [],
   "source": [
    "X = pd.merge(X, SK_DPD_DEF_charac, on = \"SK_ID_CURR\", how = \"left\")"
   ]
  },
  {
   "cell_type": "code",
   "execution_count": 33,
   "metadata": {},
   "outputs": [],
   "source": [
    "X.fillna(value = {\"SK_DPD_DEF_min\" : trainset(X)[\"SK_DPD_DEF_min\"].quantile(0.5),\n",
    "                 \"SK_DPD_DEF_max\" : trainset(X)[\"SK_DPD_DEF_max\"].quantile(0.5),\n",
    "                 \"SK_DPD_DEF_med\" : trainset(X)[\"SK_DPD_DEF_med\"].quantile(0.5)}, \n",
    "         inplace = True)"
   ]
  },
  {
   "cell_type": "markdown",
   "metadata": {},
   "source": [
    "## Fusion avec previous_application"
   ]
  },
  {
   "cell_type": "code",
   "execution_count": 34,
   "metadata": {},
   "outputs": [],
   "source": [
    "loan_history = previous_application.loc[:, [\"SK_ID_CURR\", \"AMT_CREDIT\"]].groupby(by = \"SK_ID_CURR\").sum()\n",
    "loan_history.rename(columns = {\"AMT_CREDIT\" : \"TOTAL_AMT_CREDIT\"}, inplace = True)"
   ]
  },
  {
   "cell_type": "code",
   "execution_count": 35,
   "metadata": {},
   "outputs": [],
   "source": [
    "X = pd.merge(X, loan_history, on = \"SK_ID_CURR\", how = \"left\")"
   ]
  },
  {
   "cell_type": "code",
   "execution_count": 36,
   "metadata": {},
   "outputs": [],
   "source": [
    "X.fillna(value = {\"TOTAL_AMT_CREDIT\" : 0}, inplace = True)"
   ]
  },
  {
   "cell_type": "markdown",
   "metadata": {},
   "source": [
    "# Table credit_card_balance - Données temporelles"
   ]
  },
  {
   "cell_type": "code",
   "execution_count": 37,
   "metadata": {},
   "outputs": [
    {
     "data": {
      "text/plain": [
       "<matplotlib.axes._subplots.AxesSubplot at 0x2679d2906a0>"
      ]
     },
     "execution_count": 37,
     "metadata": {},
     "output_type": "execute_result"
    },
    {
     "data": {
      "image/png": "[encoded data removed]",
      "text/plain": [
       "<Figure size 1728x720 with 3 Axes>"
      ]
     },
     "metadata": {},
     "output_type": "display_data"
    }
   ],
   "source": [
    "msno.bar(credit_card_balance)"
   ]
  },
  {
   "cell_type": "code",
   "execution_count": 38,
   "metadata": {},
   "outputs": [],
   "source": [
    "credit_card_balance.fillna(0, inplace = True)"
   ]
  },
  {
   "cell_type": "code",
   "execution_count": 39,
   "metadata": {},
   "outputs": [
    {
     "data": {
      "text/plain": [
       "103558"
      ]
     },
     "execution_count": 39,
     "metadata": {},
     "output_type": "execute_result"
    }
   ],
   "source": [
    "len(credit_card_balance[\"SK_ID_CURR\"].unique())"
   ]
  },
  {
   "cell_type": "code",
   "execution_count": 40,
   "metadata": {},
   "outputs": [],
   "source": [
    "credit_card_balance.drop(columns = \"SK_ID_PREV\", inplace = True)"
   ]
  },
  {
   "cell_type": "code",
   "execution_count": 41,
   "metadata": {},
   "outputs": [],
   "source": [
    "X_temporal = pd.merge(X, credit_card_balance, on = \"SK_ID_CURR\", how = \"left\")"
   ]
  },
  {
   "cell_type": "code",
   "execution_count": 42,
   "metadata": {},
   "outputs": [],
   "source": [
    "X_temporal.sort_values([\"SK_ID_CURR\", \"MONTHS_BALANCE\"], inplace = True)"
   ]
  },
  {
   "cell_type": "code",
   "execution_count": 43,
   "metadata": {},
   "outputs": [
    {
     "data": {
      "text/plain": [
       "<matplotlib.axes._subplots.AxesSubplot at 0x26780b1afa0>"
      ]
     },
     "execution_count": 43,
     "metadata": {},
     "output_type": "execute_result"
    },
    {
     "data": {
      "image/png": "[encoded data removed]",
      "text/plain": [
       "<Figure size 1728x720 with 2 Axes>"
      ]
     },
     "metadata": {},
     "output_type": "display_data"
    }
   ],
   "source": [
    "msno.bar(X_temporal)"
   ]
  },
  {
   "cell_type": "code",
   "execution_count": 44,
   "metadata": {},
   "outputs": [],
   "source": [
    "fillna_values2 = {}\n",
    "for colname in ['AMT_BALANCE', 'AMT_CREDIT_LIMIT_ACTUAL', 'AMT_DRAWINGS_ATM_CURRENT','AMT_DRAWINGS_CURRENT', \n",
    "             'AMT_DRAWINGS_OTHER_CURRENT', 'AMT_DRAWINGS_POS_CURRENT', 'AMT_INST_MIN_REGULARITY', 'AMT_PAYMENT_CURRENT', \n",
    "             'AMT_PAYMENT_TOTAL_CURRENT', 'AMT_RECEIVABLE_PRINCIPAL', 'AMT_RECIVABLE', 'AMT_TOTAL_RECEIVABLE', 'CNT_DRAWINGS_ATM_CURRENT', \n",
    "             'CNT_DRAWINGS_CURRENT', 'CNT_DRAWINGS_OTHER_CURRENT', 'CNT_DRAWINGS_POS_CURRENT', 'CNT_INSTALMENT_MATURE_CUM', \n",
    "             'SK_DPD', 'SK_DPD_DEF']:\n",
    "    fillna_values2[colname] = 0\n",
    "fillna_values2['MONTHS_BALANCE'] = -1\n",
    "fillna_values2['NAME_CONTRACT_STATUS'] = \"Active\""
   ]
  },
  {
   "cell_type": "code",
   "execution_count": 45,
   "metadata": {},
   "outputs": [],
   "source": [
    "X_temporal.fillna(value = fillna_values2, inplace = True)"
   ]
  },
  {
   "cell_type": "markdown",
   "metadata": {},
   "source": [
    "## Portée des mois d'observation"
   ]
  },
  {
   "cell_type": "code",
   "execution_count": 46,
   "metadata": {},
   "outputs": [
    {
     "data": {
      "text/plain": [
       "-96.0"
      ]
     },
     "execution_count": 46,
     "metadata": {},
     "output_type": "execute_result"
    }
   ],
   "source": [
    "X_temporal[\"MONTHS_BALANCE\"].min()"
   ]
  },
  {
   "cell_type": "code",
   "execution_count": 47,
   "metadata": {},
   "outputs": [
    {
     "data": {
      "text/plain": [
       "-1.0"
      ]
     },
     "execution_count": 47,
     "metadata": {},
     "output_type": "execute_result"
    }
   ],
   "source": [
    "X_temporal[\"MONTHS_BALANCE\"].max()"
   ]
  },
  {
   "cell_type": "markdown",
   "metadata": {},
   "source": [
    "## Encodage de Name_contract_status"
   ]
  },
  {
   "cell_type": "code",
   "execution_count": 57,
   "metadata": {},
   "outputs": [
    {
     "data": {
      "text/plain": [
       "LabelEncoder()"
      ]
     },
     "execution_count": 57,
     "metadata": {},
     "output_type": "execute_result"
    }
   ],
   "source": [
    "le_NCS = preprocessing.LabelEncoder()\n",
    "le_NCS.fit(X_temporal['NAME_CONTRACT_STATUS'])"
   ]
  },
  {
   "cell_type": "code",
   "execution_count": 58,
   "metadata": {},
   "outputs": [],
   "source": [
    "X_temporal['NAME_CONTRACT_STATUS'] = le_NCS.transform(X_temporal['NAME_CONTRACT_STATUS'])"
   ]
  },
  {
   "cell_type": "markdown",
   "metadata": {},
   "source": [
    "## Création des batch : fonctionnement de la fonction *create_batch*"
   ]
  },
  {
   "cell_type": "code",
   "execution_count": 59,
   "metadata": {},
   "outputs": [],
   "source": [
    "temporal_cols = ['SK_ID_CURR', 'MONTHS_BALANCE', 'AMT_BALANCE', 'AMT_CREDIT_LIMIT_ACTUAL', 'AMT_DRAWINGS_ATM_CURRENT','AMT_DRAWINGS_CURRENT', \n",
    "             'AMT_DRAWINGS_OTHER_CURRENT', 'AMT_DRAWINGS_POS_CURRENT', 'AMT_INST_MIN_REGULARITY', 'AMT_PAYMENT_CURRENT', \n",
    "             'AMT_PAYMENT_TOTAL_CURRENT', 'AMT_RECEIVABLE_PRINCIPAL', 'AMT_RECIVABLE', 'AMT_TOTAL_RECEIVABLE', 'CNT_DRAWINGS_ATM_CURRENT', \n",
    "             'CNT_DRAWINGS_CURRENT', 'CNT_DRAWINGS_OTHER_CURRENT', 'CNT_DRAWINGS_POS_CURRENT', 'CNT_INSTALMENT_MATURE_CUM', \n",
    "                 'SK_DPD', 'SK_DPD_DEF']"
   ]
  },
  {
   "cell_type": "code",
   "execution_count": 60,
   "metadata": {},
   "outputs": [],
   "source": [
    "temp = X_temporal.loc[:, temporal_cols]"
   ]
  },
  {
   "cell_type": "code",
   "execution_count": 61,
   "metadata": {},
   "outputs": [],
   "source": [
    "temp = temp.head(1000)"
   ]
  },
  {
   "cell_type": "markdown",
   "metadata": {},
   "source": [
    "Créons un batch allant du mois -1 jusqu'au maximum :"
   ]
  },
  {
   "cell_type": "code",
   "execution_count": 62,
   "metadata": {},
   "outputs": [],
   "source": [
    "tempcube = create_batch(temp, -1)"
   ]
  },
  {
   "cell_type": "markdown",
   "metadata": {},
   "source": [
    "Regardons l'apparence du cube"
   ]
  },
  {
   "cell_type": "code",
   "execution_count": 63,
   "metadata": {},
   "outputs": [
    {
     "data": {
      "text/plain": [
       "(124, 19, 96)"
      ]
     },
     "execution_count": 63,
     "metadata": {},
     "output_type": "execute_result"
    }
   ],
   "source": [
    "tempcube.shape"
   ]
  },
  {
   "cell_type": "markdown",
   "metadata": {},
   "source": [
    "On voit que les valeurs correspondent bien à celles du dataset :"
   ]
  },
  {
   "cell_type": "code",
   "execution_count": 64,
   "metadata": {},
   "outputs": [
    {
     "data": {
      "text/plain": [
       "array([0., 0., 0., 0., 0., 0., 0., 0., 0., 0., 0., 0., 0., 0., 0., 0., 0.,\n",
       "       0., 0.])"
      ]
     },
     "execution_count": 64,
     "metadata": {},
     "output_type": "execute_result"
    }
   ],
   "source": [
    "tempcube[0, :, 0]"
   ]
  },
  {
   "cell_type": "code",
   "execution_count": 65,
   "metadata": {},
   "outputs": [
    {
     "data": {
      "text/html": [
       "<div>\n",
       "<style scoped>\n",
       "    .dataframe tbody tr th:only-of-type {\n",
       "        vertical-align: middle;\n",
       "    }\n",
       "\n",
       "    .dataframe tbody tr th {\n",
       "        vertical-align: top;\n",
       "    }\n",
       "\n",
       "    .dataframe thead th {\n",
       "        text-align: right;\n",
       "    }\n",
       "</style>\n",
       "<table border=\"1\" class=\"dataframe\">\n",
       "  <thead>\n",
       "    <tr style=\"text-align: right;\">\n",
       "      <th></th>\n",
       "      <th>AMT_BALANCE</th>\n",
       "      <th>AMT_CREDIT_LIMIT_ACTUAL</th>\n",
       "      <th>AMT_DRAWINGS_ATM_CURRENT</th>\n",
       "      <th>AMT_DRAWINGS_CURRENT</th>\n",
       "      <th>AMT_DRAWINGS_OTHER_CURRENT</th>\n",
       "      <th>AMT_DRAWINGS_POS_CURRENT</th>\n",
       "      <th>AMT_INST_MIN_REGULARITY</th>\n",
       "      <th>AMT_PAYMENT_CURRENT</th>\n",
       "      <th>AMT_PAYMENT_TOTAL_CURRENT</th>\n",
       "      <th>AMT_RECEIVABLE_PRINCIPAL</th>\n",
       "      <th>AMT_RECIVABLE</th>\n",
       "      <th>AMT_TOTAL_RECEIVABLE</th>\n",
       "      <th>CNT_DRAWINGS_ATM_CURRENT</th>\n",
       "      <th>CNT_DRAWINGS_CURRENT</th>\n",
       "      <th>CNT_DRAWINGS_OTHER_CURRENT</th>\n",
       "      <th>CNT_DRAWINGS_POS_CURRENT</th>\n",
       "      <th>CNT_INSTALMENT_MATURE_CUM</th>\n",
       "      <th>SK_DPD</th>\n",
       "      <th>SK_DPD_DEF</th>\n",
       "    </tr>\n",
       "  </thead>\n",
       "  <tbody>\n",
       "    <tr>\n",
       "      <th>4</th>\n",
       "      <td>0.0</td>\n",
       "      <td>270000.0</td>\n",
       "      <td>0.0</td>\n",
       "      <td>0.0</td>\n",
       "      <td>0.0</td>\n",
       "      <td>0.0</td>\n",
       "      <td>0.0</td>\n",
       "      <td>0.0</td>\n",
       "      <td>0.0</td>\n",
       "      <td>0.0</td>\n",
       "      <td>0.0</td>\n",
       "      <td>0.0</td>\n",
       "      <td>0.0</td>\n",
       "      <td>0.0</td>\n",
       "      <td>0.0</td>\n",
       "      <td>0.0</td>\n",
       "      <td>0.0</td>\n",
       "      <td>0.0</td>\n",
       "      <td>0.0</td>\n",
       "    </tr>\n",
       "  </tbody>\n",
       "</table>\n",
       "</div>"
      ],
      "text/plain": [
       "   AMT_BALANCE  AMT_CREDIT_LIMIT_ACTUAL  ...  SK_DPD  SK_DPD_DEF\n",
       "4          0.0                 270000.0  ...     0.0         0.0\n",
       "\n",
       "[1 rows x 19 columns]"
      ]
     },
     "execution_count": 65,
     "metadata": {},
     "output_type": "execute_result"
    }
   ],
   "source": [
    "temp.loc[(temp[\"SK_ID_CURR\"] == 100006) & (temp[\"MONTHS_BALANCE\"] == -1), 'AMT_BALANCE':]"
   ]
  },
  {
   "cell_type": "markdown",
   "metadata": {},
   "source": [
    "## Création du batch"
   ]
  },
  {
   "cell_type": "code",
   "execution_count": 66,
   "metadata": {},
   "outputs": [],
   "source": [
    "X_temporal = X_temporal.loc[:, temporal_cols]"
   ]
  },
  {
   "cell_type": "code",
   "execution_count": 67,
   "metadata": {},
   "outputs": [
    {
     "name": "stdout",
     "output_type": "stream",
     "text": [
      "Suppression de 5035 duplicats\n"
     ]
    }
   ],
   "source": [
    "nrows_prev = X_temporal.shape[0]\n",
    "X_temporal.drop_duplicates(subset = [\"SK_ID_CURR\", \"MONTHS_BALANCE\"], inplace = True)\n",
    "print(\"Suppression de {} duplicats\".format(nrows_prev - X_temporal.shape[0]))"
   ]
  },
  {
   "cell_type": "code",
   "execution_count": 68,
   "metadata": {},
   "outputs": [
    {
     "name": "stdout",
     "output_type": "stream",
     "text": [
      "Chargement du pickle\n"
     ]
    }
   ],
   "source": [
    "if os.path.exists(\"./data/pickle_cube\"):\n",
    "    with open(\"./data/pickle_cube\", 'rb') as file:\n",
    "        print(\"Chargement du pickle\")\n",
    "        X_batch = pickle.load(file)\n",
    "else:\n",
    "    start_clock = time.time()\n",
    "    X_batch = create_batch(X_temporal, -1)\n",
    "    print(\"Batch généré en {}s\".format(round(time.time() - start_clock)))"
   ]
  },
  {
   "cell_type": "code",
   "execution_count": 69,
   "metadata": {},
   "outputs": [],
   "source": [
    "if not os.path.exists(\"./data/pickle_cube\"):\n",
    "    with open(\"./data/pickle_cube\", 'wb') as file:\n",
    "            pickle.dump(X_batch, file)"
   ]
  },
  {
   "cell_type": "code",
   "execution_count": 70,
   "metadata": {},
   "outputs": [
    {
     "data": {
      "text/plain": [
       "(307220, 19, 96)"
      ]
     },
     "execution_count": 70,
     "metadata": {},
     "output_type": "execute_result"
    }
   ],
   "source": [
    "X_batch.shape"
   ]
  },
  {
   "cell_type": "code",
   "execution_count": 71,
   "metadata": {},
   "outputs": [],
   "source": [
    "X_train_batch = X_batch[inTrain, :, :]"
   ]
  },
  {
   "cell_type": "code",
   "execution_count": 72,
   "metadata": {},
   "outputs": [
    {
     "data": {
      "text/plain": [
       "(215054, 19, 96)"
      ]
     },
     "execution_count": 72,
     "metadata": {},
     "output_type": "execute_result"
    }
   ],
   "source": [
    "X_train_batch.shape"
   ]
  },
  {
   "cell_type": "markdown",
   "metadata": {},
   "source": [
    "# Définition des variables"
   ]
  },
  {
   "cell_type": "code",
   "execution_count": 73,
   "metadata": {},
   "outputs": [],
   "source": [
    "numcols = X.select_dtypes('number').columns.tolist()"
   ]
  },
  {
   "cell_type": "code",
   "execution_count": 74,
   "metadata": {},
   "outputs": [],
   "source": [
    "idcols = [\"SK_ID_CURR\"]\n",
    "binary_cat_cols = ['FLAG_MOBIL', 'FLAG_EMP_PHONE', 'FLAG_WORK_PHONE', 'FLAG_CONT_MOBILE', 'FLAG_PHONE', 'FLAG_EMAIL','REGION_RATING_CLIENT',\n",
    "                   'REGION_RATING_CLIENT_W_CITY', 'REG_REGION_NOT_LIVE_REGION', 'REG_REGION_NOT_WORK_REGION', 'LIVE_REGION_NOT_WORK_REGION',\n",
    "                   'REG_CITY_NOT_LIVE_CITY', 'REG_CITY_NOT_WORK_CITY', 'LIVE_CITY_NOT_WORK_CITY', 'FLAG_DOCUMENT_2', 'FLAG_DOCUMENT_3',\n",
    "                   'FLAG_DOCUMENT_4', 'FLAG_DOCUMENT_5', 'FLAG_DOCUMENT_6', 'FLAG_DOCUMENT_7', 'FLAG_DOCUMENT_8', 'FLAG_DOCUMENT_9', \n",
    "                   'FLAG_DOCUMENT_10', 'FLAG_DOCUMENT_11', 'FLAG_DOCUMENT_12', 'FLAG_DOCUMENT_13', 'FLAG_DOCUMENT_14', 'FLAG_DOCUMENT_15',\n",
    "                   'FLAG_DOCUMENT_16', 'FLAG_DOCUMENT_17', 'FLAG_DOCUMENT_18', 'FLAG_DOCUMENT_19', 'FLAG_DOCUMENT_20', 'FLAG_DOCUMENT_21']\n",
    "no_info_cols = [\"WEEKDAY_APPR_PROCESS_START\", \"HOUR_APPR_PROCESS_START\"]"
   ]
  },
  {
   "cell_type": "code",
   "execution_count": 75,
   "metadata": {},
   "outputs": [],
   "source": [
    "temp = X.head(10)"
   ]
  },
  {
   "cell_type": "code",
   "execution_count": 76,
   "metadata": {},
   "outputs": [
    {
     "data": {
      "text/plain": [
       "0    Y\n",
       "1    N\n",
       "2    Y\n",
       "3    Y\n",
       "4    Y\n",
       "5    Y\n",
       "6    Y\n",
       "7    Y\n",
       "8    Y\n",
       "9    Y\n",
       "Name: FLAG_OWN_REALTY, dtype: object"
      ]
     },
     "execution_count": 76,
     "metadata": {},
     "output_type": "execute_result"
    }
   ],
   "source": [
    "temp['FLAG_OWN_REALTY']"
   ]
  },
  {
   "cell_type": "code",
   "execution_count": 77,
   "metadata": {},
   "outputs": [],
   "source": [
    "catcols = list(set(X.columns.tolist()).difference(numcols))\n",
    "catcols = list(set(catcols).difference({'WEEKDAY_APPR_PROCESS_START'}))"
   ]
  },
  {
   "cell_type": "code",
   "execution_count": 78,
   "metadata": {},
   "outputs": [],
   "source": [
    "catcols += binary_cat_cols"
   ]
  },
  {
   "cell_type": "code",
   "execution_count": 79,
   "metadata": {},
   "outputs": [],
   "source": [
    "numcols = list(set(numcols).difference(set(idcols + binary_cat_cols + no_info_cols)))"
   ]
  },
  {
   "cell_type": "code",
   "execution_count": 80,
   "metadata": {},
   "outputs": [
    {
     "data": {
      "text/plain": [
       "0"
      ]
     },
     "execution_count": 80,
     "metadata": {},
     "output_type": "execute_result"
    }
   ],
   "source": [
    "X.shape[1] - (len(idcols)+len(catcols)+len(numcols)+len(no_info_cols))"
   ]
  },
  {
   "cell_type": "markdown",
   "metadata": {},
   "source": [
    "# Configuration du réseau de neurones"
   ]
  },
  {
   "cell_type": "code",
   "execution_count": 81,
   "metadata": {},
   "outputs": [],
   "source": [
    "X_enc = dataset_preprocessing(X, catcols)"
   ]
  },
  {
   "cell_type": "code",
   "execution_count": 82,
   "metadata": {},
   "outputs": [],
   "source": [
    "inputs, models = make_all_embedders(X_enc, catcols, numcols)"
   ]
  },
  {
   "cell_type": "code",
   "execution_count": 83,
   "metadata": {},
   "outputs": [],
   "source": [
    "temporal_input = Input(name = \"temporal_input\", shape = (19, 96))\n",
    "temporal_input_masked = Masking(mask_value=0.)(temporal_input)\n",
    "\n",
    "temporal_lstm = LSTM(8, activation=\"relu\")(temporal_input_masked) \n",
    "\n",
    "inputs.append(temporal_input)\n",
    "models.append(temporal_lstm)"
   ]
  },
  {
   "cell_type": "code",
   "execution_count": 84,
   "metadata": {},
   "outputs": [],
   "source": [
    "merged_models = tf.keras.layers.concatenate(models)"
   ]
  },
  {
   "cell_type": "code",
   "execution_count": 141,
   "metadata": {},
   "outputs": [],
   "source": [
    "dense_layer_1 = Dense(200)(merged_models)\n",
    "batchnorm_layer = BatchNormalization()(dense_layer_1)\n",
    "dense_layer_2 = Dense(1, activation = \"sigmoid\")(batchnorm_layer)\n",
    "\n",
    "final_model = Model(inputs = inputs, outputs = dense_layer_2)"
   ]
  },
  {
   "cell_type": "code",
   "execution_count": 142,
   "metadata": {},
   "outputs": [
    {
     "name": "stdout",
     "output_type": "stream",
     "text": [
      "Model: \"model_3\"\n",
      "__________________________________________________________________________________________________\n",
      "Layer (type)                    Output Shape         Param #     Connected to                     \n",
      "==================================================================================================\n",
      "NAME_FAMILY_STATUS_input (Input [(None, 1)]          0                                            \n",
      "__________________________________________________________________________________________________\n",
      "CODE_GENDER_input (InputLayer)  [(None, 1)]          0                                            \n",
      "__________________________________________________________________________________________________\n",
      "FLAG_OWN_CAR_input (InputLayer) [(None, 1)]          0                                            \n",
      "__________________________________________________________________________________________________\n",
      "FLAG_OWN_REALTY_input (InputLay [(None, 1)]          0                                            \n",
      "__________________________________________________________________________________________________\n",
      "NAME_HOUSING_TYPE_input (InputL [(None, 1)]          0                                            \n",
      "__________________________________________________________________________________________________\n",
      "NAME_INCOME_TYPE_input (InputLa [(None, 1)]          0                                            \n",
      "__________________________________________________________________________________________________\n",
      "NAME_CONTRACT_TYPE_input (Input [(None, 1)]          0                                            \n",
      "__________________________________________________________________________________________________\n",
      "NAME_EDUCATION_TYPE_input (Inpu [(None, 1)]          0                                            \n",
      "__________________________________________________________________________________________________\n",
      "NAME_TYPE_SUITE_input (InputLay [(None, 1)]          0                                            \n",
      "__________________________________________________________________________________________________\n",
      "ORGANIZATION_TYPE_input (InputL [(None, 1)]          0                                            \n",
      "__________________________________________________________________________________________________\n",
      "FLAG_MOBIL_input (InputLayer)   [(None, 1)]          0                                            \n",
      "__________________________________________________________________________________________________\n",
      "FLAG_EMP_PHONE_input (InputLaye [(None, 1)]          0                                            \n",
      "__________________________________________________________________________________________________\n",
      "FLAG_WORK_PHONE_input (InputLay [(None, 1)]          0                                            \n",
      "__________________________________________________________________________________________________\n",
      "FLAG_CONT_MOBILE_input (InputLa [(None, 1)]          0                                            \n",
      "__________________________________________________________________________________________________\n",
      "FLAG_PHONE_input (InputLayer)   [(None, 1)]          0                                            \n",
      "__________________________________________________________________________________________________\n",
      "FLAG_EMAIL_input (InputLayer)   [(None, 1)]          0                                            \n",
      "__________________________________________________________________________________________________\n",
      "REGION_RATING_CLIENT_input (Inp [(None, 1)]          0                                            \n",
      "__________________________________________________________________________________________________\n",
      "REGION_RATING_CLIENT_W_CITY_inp [(None, 1)]          0                                            \n",
      "__________________________________________________________________________________________________\n",
      "REG_REGION_NOT_LIVE_REGION_inpu [(None, 1)]          0                                            \n",
      "__________________________________________________________________________________________________\n",
      "REG_REGION_NOT_WORK_REGION_inpu [(None, 1)]          0                                            \n",
      "__________________________________________________________________________________________________\n",
      "LIVE_REGION_NOT_WORK_REGION_inp [(None, 1)]          0                                            \n",
      "__________________________________________________________________________________________________\n",
      "REG_CITY_NOT_LIVE_CITY_input (I [(None, 1)]          0                                            \n",
      "__________________________________________________________________________________________________\n",
      "REG_CITY_NOT_WORK_CITY_input (I [(None, 1)]          0                                            \n",
      "__________________________________________________________________________________________________\n",
      "LIVE_CITY_NOT_WORK_CITY_input ( [(None, 1)]          0                                            \n",
      "__________________________________________________________________________________________________\n",
      "FLAG_DOCUMENT_2_input (InputLay [(None, 1)]          0                                            \n",
      "__________________________________________________________________________________________________\n",
      "FLAG_DOCUMENT_3_input (InputLay [(None, 1)]          0                                            \n",
      "__________________________________________________________________________________________________\n",
      "FLAG_DOCUMENT_4_input (InputLay [(None, 1)]          0                                            \n",
      "__________________________________________________________________________________________________\n",
      "FLAG_DOCUMENT_5_input (InputLay [(None, 1)]          0                                            \n",
      "__________________________________________________________________________________________________\n",
      "FLAG_DOCUMENT_6_input (InputLay [(None, 1)]          0                                            \n",
      "__________________________________________________________________________________________________\n",
      "FLAG_DOCUMENT_7_input (InputLay [(None, 1)]          0                                            \n",
      "__________________________________________________________________________________________________\n",
      "FLAG_DOCUMENT_8_input (InputLay [(None, 1)]          0                                            \n",
      "__________________________________________________________________________________________________\n",
      "FLAG_DOCUMENT_9_input (InputLay [(None, 1)]          0                                            \n",
      "__________________________________________________________________________________________________\n",
      "FLAG_DOCUMENT_10_input (InputLa [(None, 1)]          0                                            \n",
      "__________________________________________________________________________________________________\n",
      "FLAG_DOCUMENT_11_input (InputLa [(None, 1)]          0                                            \n",
      "__________________________________________________________________________________________________\n",
      "FLAG_DOCUMENT_12_input (InputLa [(None, 1)]          0                                            \n",
      "__________________________________________________________________________________________________\n",
      "FLAG_DOCUMENT_13_input (InputLa [(None, 1)]          0                                            \n",
      "__________________________________________________________________________________________________\n",
      "FLAG_DOCUMENT_14_input (InputLa [(None, 1)]          0                                            \n",
      "__________________________________________________________________________________________________\n",
      "FLAG_DOCUMENT_15_input (InputLa [(None, 1)]          0                                            \n",
      "__________________________________________________________________________________________________\n",
      "FLAG_DOCUMENT_16_input (InputLa [(None, 1)]          0                                            \n",
      "__________________________________________________________________________________________________\n",
      "FLAG_DOCUMENT_17_input (InputLa [(None, 1)]          0                                            \n",
      "__________________________________________________________________________________________________\n",
      "FLAG_DOCUMENT_18_input (InputLa [(None, 1)]          0                                            \n",
      "__________________________________________________________________________________________________\n",
      "FLAG_DOCUMENT_19_input (InputLa [(None, 1)]          0                                            \n",
      "__________________________________________________________________________________________________\n",
      "FLAG_DOCUMENT_20_input (InputLa [(None, 1)]          0                                            \n",
      "__________________________________________________________________________________________________\n",
      "FLAG_DOCUMENT_21_input (InputLa [(None, 1)]          0                                            \n",
      "__________________________________________________________________________________________________\n",
      "temporal_input (InputLayer)     [(None, 19, 96)]     0                                            \n",
      "__________________________________________________________________________________________________\n",
      "embedding (Embedding)           (None, 1, 36)        180         NAME_FAMILY_STATUS_input[0][0]   \n",
      "__________________________________________________________________________________________________\n",
      "embedding_1 (Embedding)         (None, 1, 36)        108         CODE_GENDER_input[0][0]          \n",
      "__________________________________________________________________________________________________\n",
      "embedding_2 (Embedding)         (None, 1, 36)        72          FLAG_OWN_CAR_input[0][0]         \n",
      "__________________________________________________________________________________________________\n",
      "embedding_3 (Embedding)         (None, 1, 36)        72          FLAG_OWN_REALTY_input[0][0]      \n",
      "__________________________________________________________________________________________________\n",
      "embedding_4 (Embedding)         (None, 1, 36)        216         NAME_HOUSING_TYPE_input[0][0]    \n",
      "__________________________________________________________________________________________________\n",
      "embedding_5 (Embedding)         (None, 1, 36)        288         NAME_INCOME_TYPE_input[0][0]     \n",
      "__________________________________________________________________________________________________\n",
      "embedding_6 (Embedding)         (None, 1, 36)        72          NAME_CONTRACT_TYPE_input[0][0]   \n",
      "__________________________________________________________________________________________________\n",
      "embedding_7 (Embedding)         (None, 1, 36)        180         NAME_EDUCATION_TYPE_input[0][0]  \n",
      "__________________________________________________________________________________________________\n",
      "embedding_8 (Embedding)         (None, 1, 36)        252         NAME_TYPE_SUITE_input[0][0]      \n",
      "__________________________________________________________________________________________________\n",
      "embedding_9 (Embedding)         (None, 1, 36)        2088        ORGANIZATION_TYPE_input[0][0]    \n",
      "__________________________________________________________________________________________________\n",
      "embedding_10 (Embedding)        (None, 1, 36)        36          FLAG_MOBIL_input[0][0]           \n",
      "__________________________________________________________________________________________________\n",
      "embedding_11 (Embedding)        (None, 1, 36)        72          FLAG_EMP_PHONE_input[0][0]       \n",
      "__________________________________________________________________________________________________\n",
      "embedding_12 (Embedding)        (None, 1, 36)        72          FLAG_WORK_PHONE_input[0][0]      \n",
      "__________________________________________________________________________________________________\n",
      "embedding_13 (Embedding)        (None, 1, 36)        72          FLAG_CONT_MOBILE_input[0][0]     \n",
      "__________________________________________________________________________________________________\n",
      "embedding_14 (Embedding)        (None, 1, 36)        72          FLAG_PHONE_input[0][0]           \n",
      "__________________________________________________________________________________________________\n",
      "embedding_15 (Embedding)        (None, 1, 36)        72          FLAG_EMAIL_input[0][0]           \n",
      "__________________________________________________________________________________________________\n",
      "embedding_16 (Embedding)        (None, 1, 36)        108         REGION_RATING_CLIENT_input[0][0] \n",
      "__________________________________________________________________________________________________\n",
      "embedding_17 (Embedding)        (None, 1, 36)        108         REGION_RATING_CLIENT_W_CITY_input\n",
      "__________________________________________________________________________________________________\n",
      "embedding_18 (Embedding)        (None, 1, 36)        72          REG_REGION_NOT_LIVE_REGION_input[\n",
      "__________________________________________________________________________________________________\n",
      "embedding_19 (Embedding)        (None, 1, 36)        72          REG_REGION_NOT_WORK_REGION_input[\n",
      "__________________________________________________________________________________________________\n",
      "embedding_20 (Embedding)        (None, 1, 36)        72          LIVE_REGION_NOT_WORK_REGION_input\n",
      "__________________________________________________________________________________________________\n",
      "embedding_21 (Embedding)        (None, 1, 36)        72          REG_CITY_NOT_LIVE_CITY_input[0][0\n",
      "__________________________________________________________________________________________________\n",
      "embedding_22 (Embedding)        (None, 1, 36)        72          REG_CITY_NOT_WORK_CITY_input[0][0\n",
      "__________________________________________________________________________________________________\n",
      "embedding_23 (Embedding)        (None, 1, 36)        72          LIVE_CITY_NOT_WORK_CITY_input[0][\n",
      "__________________________________________________________________________________________________\n",
      "embedding_24 (Embedding)        (None, 1, 36)        72          FLAG_DOCUMENT_2_input[0][0]      \n",
      "__________________________________________________________________________________________________\n",
      "embedding_25 (Embedding)        (None, 1, 36)        72          FLAG_DOCUMENT_3_input[0][0]      \n",
      "__________________________________________________________________________________________________\n",
      "embedding_26 (Embedding)        (None, 1, 36)        72          FLAG_DOCUMENT_4_input[0][0]      \n",
      "__________________________________________________________________________________________________\n",
      "embedding_27 (Embedding)        (None, 1, 36)        72          FLAG_DOCUMENT_5_input[0][0]      \n",
      "__________________________________________________________________________________________________\n",
      "embedding_28 (Embedding)        (None, 1, 36)        72          FLAG_DOCUMENT_6_input[0][0]      \n",
      "__________________________________________________________________________________________________\n",
      "embedding_29 (Embedding)        (None, 1, 36)        72          FLAG_DOCUMENT_7_input[0][0]      \n",
      "__________________________________________________________________________________________________\n",
      "embedding_30 (Embedding)        (None, 1, 36)        72          FLAG_DOCUMENT_8_input[0][0]      \n",
      "__________________________________________________________________________________________________\n",
      "embedding_31 (Embedding)        (None, 1, 36)        72          FLAG_DOCUMENT_9_input[0][0]      \n",
      "__________________________________________________________________________________________________\n",
      "embedding_32 (Embedding)        (None, 1, 36)        72          FLAG_DOCUMENT_10_input[0][0]     \n",
      "__________________________________________________________________________________________________\n",
      "embedding_33 (Embedding)        (None, 1, 36)        72          FLAG_DOCUMENT_11_input[0][0]     \n",
      "__________________________________________________________________________________________________\n",
      "embedding_34 (Embedding)        (None, 1, 36)        72          FLAG_DOCUMENT_12_input[0][0]     \n",
      "__________________________________________________________________________________________________\n",
      "embedding_35 (Embedding)        (None, 1, 36)        72          FLAG_DOCUMENT_13_input[0][0]     \n",
      "__________________________________________________________________________________________________\n",
      "embedding_36 (Embedding)        (None, 1, 36)        72          FLAG_DOCUMENT_14_input[0][0]     \n",
      "__________________________________________________________________________________________________\n",
      "embedding_37 (Embedding)        (None, 1, 36)        72          FLAG_DOCUMENT_15_input[0][0]     \n",
      "__________________________________________________________________________________________________\n",
      "embedding_38 (Embedding)        (None, 1, 36)        72          FLAG_DOCUMENT_16_input[0][0]     \n",
      "__________________________________________________________________________________________________\n",
      "embedding_39 (Embedding)        (None, 1, 36)        72          FLAG_DOCUMENT_17_input[0][0]     \n",
      "__________________________________________________________________________________________________\n",
      "embedding_40 (Embedding)        (None, 1, 36)        72          FLAG_DOCUMENT_18_input[0][0]     \n",
      "__________________________________________________________________________________________________\n",
      "embedding_41 (Embedding)        (None, 1, 36)        72          FLAG_DOCUMENT_19_input[0][0]     \n",
      "__________________________________________________________________________________________________\n",
      "embedding_42 (Embedding)        (None, 1, 36)        72          FLAG_DOCUMENT_20_input[0][0]     \n",
      "__________________________________________________________________________________________________\n",
      "embedding_43 (Embedding)        (None, 1, 36)        72          FLAG_DOCUMENT_21_input[0][0]     \n",
      "__________________________________________________________________________________________________\n",
      "masking (Masking)               (None, 19, 96)       0           temporal_input[0][0]             \n",
      "__________________________________________________________________________________________________\n",
      "reshape (Reshape)               (None, 36)           0           embedding[0][0]                  \n",
      "__________________________________________________________________________________________________\n",
      "reshape_1 (Reshape)             (None, 36)           0           embedding_1[0][0]                \n",
      "__________________________________________________________________________________________________\n",
      "reshape_2 (Reshape)             (None, 36)           0           embedding_2[0][0]                \n",
      "__________________________________________________________________________________________________\n",
      "reshape_3 (Reshape)             (None, 36)           0           embedding_3[0][0]                \n",
      "__________________________________________________________________________________________________\n",
      "reshape_4 (Reshape)             (None, 36)           0           embedding_4[0][0]                \n",
      "__________________________________________________________________________________________________\n",
      "reshape_5 (Reshape)             (None, 36)           0           embedding_5[0][0]                \n",
      "__________________________________________________________________________________________________\n",
      "reshape_6 (Reshape)             (None, 36)           0           embedding_6[0][0]                \n",
      "__________________________________________________________________________________________________\n",
      "reshape_7 (Reshape)             (None, 36)           0           embedding_7[0][0]                \n",
      "__________________________________________________________________________________________________\n",
      "reshape_8 (Reshape)             (None, 36)           0           embedding_8[0][0]                \n",
      "__________________________________________________________________________________________________\n",
      "reshape_9 (Reshape)             (None, 36)           0           embedding_9[0][0]                \n",
      "__________________________________________________________________________________________________\n",
      "reshape_10 (Reshape)            (None, 36)           0           embedding_10[0][0]               \n",
      "__________________________________________________________________________________________________\n",
      "reshape_11 (Reshape)            (None, 36)           0           embedding_11[0][0]               \n",
      "__________________________________________________________________________________________________\n",
      "reshape_12 (Reshape)            (None, 36)           0           embedding_12[0][0]               \n",
      "__________________________________________________________________________________________________\n",
      "reshape_13 (Reshape)            (None, 36)           0           embedding_13[0][0]               \n",
      "__________________________________________________________________________________________________\n",
      "reshape_14 (Reshape)            (None, 36)           0           embedding_14[0][0]               \n",
      "__________________________________________________________________________________________________\n",
      "reshape_15 (Reshape)            (None, 36)           0           embedding_15[0][0]               \n",
      "__________________________________________________________________________________________________\n",
      "reshape_16 (Reshape)            (None, 36)           0           embedding_16[0][0]               \n",
      "__________________________________________________________________________________________________\n",
      "reshape_17 (Reshape)            (None, 36)           0           embedding_17[0][0]               \n",
      "__________________________________________________________________________________________________\n",
      "reshape_18 (Reshape)            (None, 36)           0           embedding_18[0][0]               \n",
      "__________________________________________________________________________________________________\n",
      "reshape_19 (Reshape)            (None, 36)           0           embedding_19[0][0]               \n",
      "__________________________________________________________________________________________________\n",
      "reshape_20 (Reshape)            (None, 36)           0           embedding_20[0][0]               \n",
      "__________________________________________________________________________________________________\n",
      "reshape_21 (Reshape)            (None, 36)           0           embedding_21[0][0]               \n",
      "__________________________________________________________________________________________________\n",
      "reshape_22 (Reshape)            (None, 36)           0           embedding_22[0][0]               \n",
      "__________________________________________________________________________________________________\n",
      "reshape_23 (Reshape)            (None, 36)           0           embedding_23[0][0]               \n",
      "__________________________________________________________________________________________________\n",
      "reshape_24 (Reshape)            (None, 36)           0           embedding_24[0][0]               \n",
      "__________________________________________________________________________________________________\n",
      "reshape_25 (Reshape)            (None, 36)           0           embedding_25[0][0]               \n",
      "__________________________________________________________________________________________________\n",
      "reshape_26 (Reshape)            (None, 36)           0           embedding_26[0][0]               \n",
      "__________________________________________________________________________________________________\n",
      "reshape_27 (Reshape)            (None, 36)           0           embedding_27[0][0]               \n",
      "__________________________________________________________________________________________________\n",
      "reshape_28 (Reshape)            (None, 36)           0           embedding_28[0][0]               \n",
      "__________________________________________________________________________________________________\n",
      "reshape_29 (Reshape)            (None, 36)           0           embedding_29[0][0]               \n",
      "__________________________________________________________________________________________________\n",
      "reshape_30 (Reshape)            (None, 36)           0           embedding_30[0][0]               \n",
      "__________________________________________________________________________________________________\n",
      "reshape_31 (Reshape)            (None, 36)           0           embedding_31[0][0]               \n",
      "__________________________________________________________________________________________________\n",
      "reshape_32 (Reshape)            (None, 36)           0           embedding_32[0][0]               \n",
      "__________________________________________________________________________________________________\n",
      "reshape_33 (Reshape)            (None, 36)           0           embedding_33[0][0]               \n",
      "__________________________________________________________________________________________________\n",
      "reshape_34 (Reshape)            (None, 36)           0           embedding_34[0][0]               \n",
      "__________________________________________________________________________________________________\n",
      "reshape_35 (Reshape)            (None, 36)           0           embedding_35[0][0]               \n",
      "__________________________________________________________________________________________________\n",
      "reshape_36 (Reshape)            (None, 36)           0           embedding_36[0][0]               \n",
      "__________________________________________________________________________________________________\n",
      "reshape_37 (Reshape)            (None, 36)           0           embedding_37[0][0]               \n",
      "__________________________________________________________________________________________________\n",
      "reshape_38 (Reshape)            (None, 36)           0           embedding_38[0][0]               \n",
      "__________________________________________________________________________________________________\n",
      "reshape_39 (Reshape)            (None, 36)           0           embedding_39[0][0]               \n",
      "__________________________________________________________________________________________________\n",
      "reshape_40 (Reshape)            (None, 36)           0           embedding_40[0][0]               \n",
      "__________________________________________________________________________________________________\n",
      "reshape_41 (Reshape)            (None, 36)           0           embedding_41[0][0]               \n",
      "__________________________________________________________________________________________________\n",
      "reshape_42 (Reshape)            (None, 36)           0           embedding_42[0][0]               \n",
      "__________________________________________________________________________________________________\n",
      "reshape_43 (Reshape)            (None, 36)           0           embedding_43[0][0]               \n",
      "__________________________________________________________________________________________________\n",
      "num_input (InputLayer)          [(None, 27)]         0                                            \n",
      "__________________________________________________________________________________________________\n",
      "lstm (LSTM)                     (None, 8)            3360        masking[0][0]                    \n",
      "__________________________________________________________________________________________________\n",
      "concatenate (Concatenate)       (None, 1619)         0           reshape[0][0]                    \n",
      "                                                                 reshape_1[0][0]                  \n",
      "                                                                 reshape_2[0][0]                  \n",
      "                                                                 reshape_3[0][0]                  \n",
      "                                                                 reshape_4[0][0]                  \n",
      "                                                                 reshape_5[0][0]                  \n",
      "                                                                 reshape_6[0][0]                  \n",
      "                                                                 reshape_7[0][0]                  \n",
      "                                                                 reshape_8[0][0]                  \n",
      "                                                                 reshape_9[0][0]                  \n",
      "                                                                 reshape_10[0][0]                 \n",
      "                                                                 reshape_11[0][0]                 \n",
      "                                                                 reshape_12[0][0]                 \n",
      "                                                                 reshape_13[0][0]                 \n",
      "                                                                 reshape_14[0][0]                 \n",
      "                                                                 reshape_15[0][0]                 \n",
      "                                                                 reshape_16[0][0]                 \n",
      "                                                                 reshape_17[0][0]                 \n",
      "                                                                 reshape_18[0][0]                 \n",
      "                                                                 reshape_19[0][0]                 \n",
      "                                                                 reshape_20[0][0]                 \n",
      "                                                                 reshape_21[0][0]                 \n",
      "                                                                 reshape_22[0][0]                 \n",
      "                                                                 reshape_23[0][0]                 \n",
      "                                                                 reshape_24[0][0]                 \n",
      "                                                                 reshape_25[0][0]                 \n",
      "                                                                 reshape_26[0][0]                 \n",
      "                                                                 reshape_27[0][0]                 \n",
      "                                                                 reshape_28[0][0]                 \n",
      "                                                                 reshape_29[0][0]                 \n",
      "                                                                 reshape_30[0][0]                 \n",
      "                                                                 reshape_31[0][0]                 \n",
      "                                                                 reshape_32[0][0]                 \n",
      "                                                                 reshape_33[0][0]                 \n",
      "                                                                 reshape_34[0][0]                 \n",
      "                                                                 reshape_35[0][0]                 \n",
      "                                                                 reshape_36[0][0]                 \n",
      "                                                                 reshape_37[0][0]                 \n",
      "                                                                 reshape_38[0][0]                 \n",
      "                                                                 reshape_39[0][0]                 \n",
      "                                                                 reshape_40[0][0]                 \n",
      "                                                                 reshape_41[0][0]                 \n",
      "                                                                 reshape_42[0][0]                 \n",
      "                                                                 reshape_43[0][0]                 \n",
      "                                                                 num_input[0][0]                  \n",
      "                                                                 lstm[0][0]                       \n",
      "__________________________________________________________________________________________________\n",
      "dense_6 (Dense)                 (None, 200)          324000      concatenate[0][0]                \n",
      "__________________________________________________________________________________________________\n",
      "batch_normalization_3 (BatchNor (None, 200)          800         dense_6[0][0]                    \n",
      "__________________________________________________________________________________________________\n",
      "dense_7 (Dense)                 (None, 1)            201         batch_normalization_3[0][0]      \n",
      "==================================================================================================\n",
      "Total params: 334,373\n",
      "Trainable params: 333,973\n",
      "Non-trainable params: 400\n",
      "__________________________________________________________________________________________________\n"
     ]
    }
   ],
   "source": [
    "final_model.summary()"
   ]
  },
  {
   "cell_type": "code",
   "execution_count": 143,
   "metadata": {},
   "outputs": [],
   "source": [
    "roc_metric = tf.keras.metrics.AUC(\n",
    "    num_thresholds=200, curve='ROC',\n",
    "    summation_method='interpolation', name=None, dtype=None,\n",
    "    thresholds=None, multi_label=False, label_weights=None,\n",
    ")"
   ]
  },
  {
   "cell_type": "code",
   "execution_count": 144,
   "metadata": {},
   "outputs": [
    {
     "data": {
      "text/plain": [
       "11.411496508339585"
      ]
     },
     "execution_count": 144,
     "metadata": {},
     "output_type": "execute_result"
    }
   ],
   "source": [
    "y_train[y_train == 0].shape[0] / y_train[y_train == 1].shape[0]"
   ]
  },
  {
   "cell_type": "code",
   "execution_count": 145,
   "metadata": {},
   "outputs": [],
   "source": [
    "class_weight = {0: 1.,\n",
    "                1: 11.\n",
    "               }"
   ]
  },
  {
   "cell_type": "code",
   "execution_count": 146,
   "metadata": {},
   "outputs": [],
   "source": [
    "final_model.compile(loss = \"binary_crossentropy\", metrics = [roc_metric], optimizer = \"adam\")"
   ]
  },
  {
   "cell_type": "code",
   "execution_count": 149,
   "metadata": {},
   "outputs": [],
   "source": [
    "callback = tf.keras.callbacks.EarlyStopping(monitor='val_roc_metric', patience=3, min_delta = 0.008, \n",
    "                                            restore_best_weights = True)"
   ]
  },
  {
   "cell_type": "markdown",
   "metadata": {},
   "source": [
    "## Définition des sets de sub_train et sub_eval"
   ]
  },
  {
   "cell_type": "code",
   "execution_count": 89,
   "metadata": {},
   "outputs": [],
   "source": [
    "X_enc_train = trainset(X_enc)"
   ]
  },
  {
   "cell_type": "code",
   "execution_count": 90,
   "metadata": {},
   "outputs": [],
   "source": [
    "inSubTrain , inSubEval = next(GroupShuffleSplit(train_size = 0.8, random_state = 42).\\\n",
    "                        split(X_enc_train, groups = X_enc_train[\"SK_ID_CURR\"])\n",
    "                       )"
   ]
  },
  {
   "cell_type": "code",
   "execution_count": 96,
   "metadata": {},
   "outputs": [],
   "source": [
    "X_enc_subtrain = trainset(X_enc_train, subsetter=inSubTrain)\n",
    "X_enc_subeval = trainset(X_enc_train, subsetter=inSubEval)"
   ]
  },
  {
   "cell_type": "code",
   "execution_count": 98,
   "metadata": {},
   "outputs": [],
   "source": [
    "X_subtrain_batch = X_train_batch[inSubTrain, :, :]\n",
    "X_subeval_batch = X_train_batch[inSubEval, :, :]"
   ]
  },
  {
   "cell_type": "code",
   "execution_count": 117,
   "metadata": {},
   "outputs": [
    {
     "data": {
      "text/plain": [
       "LabelEncoder()"
      ]
     },
     "execution_count": 117,
     "metadata": {},
     "output_type": "execute_result"
    }
   ],
   "source": [
    "y_le = preprocessing.LabelEncoder()\n",
    "y_le.fit(y_train)"
   ]
  },
  {
   "cell_type": "code",
   "execution_count": 97,
   "metadata": {},
   "outputs": [],
   "source": [
    "y_enc_subtrain = trainset(y_train, subsetter=inSubTrain)\n",
    "y_enc_subeval = trainset(y_train, subsetter=inSubEval)"
   ]
  },
  {
   "cell_type": "markdown",
   "metadata": {},
   "source": [
    "## Entraînement du modèle"
   ]
  },
  {
   "cell_type": "code",
   "execution_count": 99,
   "metadata": {},
   "outputs": [],
   "source": [
    "input_dict = {}\n",
    "for categorical_var in catcols:\n",
    "    keyname = categorical_var + \"_input\" \n",
    "    input_dict[keyname] = X_enc_subtrain[categorical_var]\n",
    "input_dict[\"num_input\"] = X_enc_subtrain[numcols]\n",
    "input_dict[\"temporal_input\"] = X_subtrain_batch\n",
    "\n",
    "eval_dict = {}\n",
    "for categorical_var in catcols:\n",
    "    keyname = categorical_var + \"_input\" \n",
    "    eval_dict[keyname] = X_enc_subeval[categorical_var]\n",
    "eval_dict[\"num_input\"] = X_enc_subeval[numcols]\n",
    "eval_dict[\"temporal_input\"] = X_subeval_batch"
   ]
  },
  {
   "cell_type": "code",
   "execution_count": 100,
   "metadata": {},
   "outputs": [],
   "source": [
    "tf.config.run_functions_eagerly(True)"
   ]
  },
  {
   "cell_type": "code",
   "execution_count": 148,
   "metadata": {},
   "outputs": [
    {
     "name": "stderr",
     "output_type": "stream",
     "text": [
      "C:\\Users\\Antoine\\anaconda3\\lib\\site-packages\\tensorflow\\python\\data\\ops\\dataset_ops.py:3503: UserWarning: Even though the tf.config.experimental_run_functions_eagerly option is set, this option does not apply to tf.data functions. tf.data functions are still traced and executed as graphs.\n",
      "  warnings.warn(\n"
     ]
    },
    {
     "name": "stdout",
     "output_type": "stream",
     "text": [
      "Epoch 1/20\n",
      " 550/1721 [========>.....................] - ETA: 4:17 - loss: 1.2710 - auc_2: 0.5714"
     ]
    },
    {
     "ename": "KeyboardInterrupt",
     "evalue": "",
     "output_type": "error",
     "traceback": [
      "Traceback \u001b[1;36m(most recent call last)\u001b[0m:\n",
      "  File \u001b[0;32m\"<ipython-input-148-5b6064898645>\"\u001b[0m, line \u001b[0;32m1\u001b[0m, in \u001b[0;35m<module>\u001b[0m\n    final_model.fit(input_dict, y_enc_subtrain, epochs = 20, batch_size = 100,\n",
      "  File \u001b[0;32m\"C:\\Users\\Antoine\\anaconda3\\lib\\site-packages\\tensorflow\\python\\keras\\engine\\training.py\"\u001b[0m, line \u001b[0;32m1100\u001b[0m, in \u001b[0;35mfit\u001b[0m\n    tmp_logs = self.train_function(iterator)\n",
      "  File \u001b[0;32m\"C:\\Users\\Antoine\\anaconda3\\lib\\site-packages\\tensorflow\\python\\keras\\engine\\training.py\"\u001b[0m, line \u001b[0;32m805\u001b[0m, in \u001b[0;35mtrain_function\u001b[0m\n    return step_function(self, iterator)\n",
      "  File \u001b[0;32m\"C:\\Users\\Antoine\\anaconda3\\lib\\site-packages\\tensorflow\\python\\keras\\engine\\training.py\"\u001b[0m, line \u001b[0;32m795\u001b[0m, in \u001b[0;35mstep_function\u001b[0m\n    outputs = model.distribute_strategy.run(run_step, args=(data,))\n",
      "  File \u001b[0;32m\"C:\\Users\\Antoine\\anaconda3\\lib\\site-packages\\tensorflow\\python\\distribute\\distribute_lib.py\"\u001b[0m, line \u001b[0;32m1259\u001b[0m, in \u001b[0;35mrun\u001b[0m\n    return self._extended.call_for_each_replica(fn, args=args, kwargs=kwargs)\n",
      "  File \u001b[0;32m\"C:\\Users\\Antoine\\anaconda3\\lib\\site-packages\\tensorflow\\python\\distribute\\distribute_lib.py\"\u001b[0m, line \u001b[0;32m2730\u001b[0m, in \u001b[0;35mcall_for_each_replica\u001b[0m\n    return self._call_for_each_replica(fn, args, kwargs)\n",
      "  File \u001b[0;32m\"C:\\Users\\Antoine\\anaconda3\\lib\\site-packages\\tensorflow\\python\\distribute\\distribute_lib.py\"\u001b[0m, line \u001b[0;32m3417\u001b[0m, in \u001b[0;35m_call_for_each_replica\u001b[0m\n    return fn(*args, **kwargs)\n",
      "  File \u001b[0;32m\"C:\\Users\\Antoine\\anaconda3\\lib\\site-packages\\tensorflow\\python\\autograph\\impl\\api.py\"\u001b[0m, line \u001b[0;32m572\u001b[0m, in \u001b[0;35mwrapper\u001b[0m\n    return func(*args, **kwargs)\n",
      "  File \u001b[0;32m\"C:\\Users\\Antoine\\anaconda3\\lib\\site-packages\\tensorflow\\python\\keras\\engine\\training.py\"\u001b[0m, line \u001b[0;32m788\u001b[0m, in \u001b[0;35mrun_step\u001b[0m\n    outputs = model.train_step(data)\n",
      "  File \u001b[0;32m\"C:\\Users\\Antoine\\anaconda3\\lib\\site-packages\\tensorflow\\python\\keras\\engine\\training.py\"\u001b[0m, line \u001b[0;32m757\u001b[0m, in \u001b[0;35mtrain_step\u001b[0m\n    self.optimizer.minimize(loss, self.trainable_variables, tape=tape)\n",
      "  File \u001b[0;32m\"C:\\Users\\Antoine\\anaconda3\\lib\\site-packages\\tensorflow\\python\\keras\\optimizer_v2\\optimizer_v2.py\"\u001b[0m, line \u001b[0;32m496\u001b[0m, in \u001b[0;35mminimize\u001b[0m\n    grads_and_vars = self._compute_gradients(\n",
      "  File \u001b[0;32m\"C:\\Users\\Antoine\\anaconda3\\lib\\site-packages\\tensorflow\\python\\keras\\optimizer_v2\\optimizer_v2.py\"\u001b[0m, line \u001b[0;32m548\u001b[0m, in \u001b[0;35m_compute_gradients\u001b[0m\n    grads_and_vars = self._get_gradients(tape, loss, var_list, grad_loss)\n",
      "  File \u001b[0;32m\"C:\\Users\\Antoine\\anaconda3\\lib\\site-packages\\tensorflow\\python\\keras\\optimizer_v2\\optimizer_v2.py\"\u001b[0m, line \u001b[0;32m441\u001b[0m, in \u001b[0;35m_get_gradients\u001b[0m\n    grads = tape.gradient(loss, var_list, grad_loss)\n",
      "  File \u001b[0;32m\"C:\\Users\\Antoine\\anaconda3\\lib\\site-packages\\tensorflow\\python\\eager\\backprop.py\"\u001b[0m, line \u001b[0;32m1080\u001b[0m, in \u001b[0;35mgradient\u001b[0m\n    flat_grad = imperative_grad.imperative_grad(\n",
      "  File \u001b[0;32m\"C:\\Users\\Antoine\\anaconda3\\lib\\site-packages\\tensorflow\\python\\eager\\imperative_grad.py\"\u001b[0m, line \u001b[0;32m71\u001b[0m, in \u001b[0;35mimperative_grad\u001b[0m\n    return pywrap_tfe.TFE_Py_TapeGradient(\n",
      "  File \u001b[0;32m\"C:\\Users\\Antoine\\anaconda3\\lib\\site-packages\\tensorflow\\python\\eager\\backprop.py\"\u001b[0m, line \u001b[0;32m162\u001b[0m, in \u001b[0;35m_gradient_function\u001b[0m\n    return grad_fn(mock_op, *out_grads)\n",
      "  File \u001b[0;32m\"C:\\Users\\Antoine\\anaconda3\\lib\\site-packages\\tensorflow\\python\\ops\\math_grad.py\"\u001b[0m, line \u001b[0;32m1637\u001b[0m, in \u001b[0;35m_SelectGradV2\u001b[0m\n    gy = math_ops.reduce_sum(gy, keepdims=True, axis=reduce_y)\n",
      "  File \u001b[0;32m\"C:\\Users\\Antoine\\anaconda3\\lib\\site-packages\\tensorflow\\python\\util\\dispatch.py\"\u001b[0m, line \u001b[0;32m201\u001b[0m, in \u001b[0;35mwrapper\u001b[0m\n    return target(*args, **kwargs)\n",
      "  File \u001b[0;32m\"C:\\Users\\Antoine\\anaconda3\\lib\\site-packages\\tensorflow\\python\\ops\\math_ops.py\"\u001b[0m, line \u001b[0;32m2043\u001b[0m, in \u001b[0;35mreduce_sum\u001b[0m\n    return reduce_sum_with_dims(input_tensor, axis, keepdims, name,\n",
      "  File \u001b[0;32m\"C:\\Users\\Antoine\\anaconda3\\lib\\site-packages\\tensorflow\\python\\ops\\math_ops.py\"\u001b[0m, line \u001b[0;32m2055\u001b[0m, in \u001b[0;35mreduce_sum_with_dims\u001b[0m\n    gen_math_ops._sum(input_tensor, dims, keepdims, name=name))\n",
      "\u001b[1;36m  File \u001b[1;32m\"C:\\Users\\Antoine\\anaconda3\\lib\\site-packages\\tensorflow\\python\\ops\\gen_math_ops.py\"\u001b[1;36m, line \u001b[1;32m10368\u001b[1;36m, in \u001b[1;35m_sum\u001b[1;36m\u001b[0m\n\u001b[1;33m    _result = pywrap_tfe.TFE_Py_FastPathExecute(\u001b[0m\n",
      "\u001b[1;31mKeyboardInterrupt\u001b[0m\n"
     ]
    }
   ],
   "source": [
    "final_model.fit(input_dict, y_enc_subtrain, epochs = 20, batch_size = 100, \n",
    "                validation_data = (eval_dict, y_enc_subeval), callbacks = [callback], class_weight=class_weight, verbose = 1)"
   ]
  },
  {
   "cell_type": "code",
   "execution_count": 104,
   "metadata": {},
   "outputs": [],
   "source": [
    "if not os.path.exists(\"./data/final_model\"):\n",
    "    final_model.save_weights(\"./data/final_model_weights.h5\")"
   ]
  },
  {
   "cell_type": "markdown",
   "metadata": {},
   "source": [
    "# Evaluation du modèle"
   ]
  },
  {
   "cell_type": "code",
   "execution_count": 105,
   "metadata": {},
   "outputs": [],
   "source": [
    "X_test = trainset(X_enc, subsetter = inTest)"
   ]
  },
  {
   "cell_type": "code",
   "execution_count": 106,
   "metadata": {},
   "outputs": [],
   "source": [
    "X_test_batch = X_batch[inTest, :, :]"
   ]
  },
  {
   "cell_type": "code",
   "execution_count": 107,
   "metadata": {},
   "outputs": [],
   "source": [
    "test_dict = {}\n",
    "for categorical_var in catcols:\n",
    "    keyname = categorical_var + \"_input\" \n",
    "    test_dict[keyname] = X_test[categorical_var]\n",
    "test_dict[\"num_input\"] = X_test[numcols]\n",
    "test_dict[\"temporal_input\"] = X_test_batch"
   ]
  },
  {
   "cell_type": "code",
   "execution_count": 108,
   "metadata": {},
   "outputs": [
    {
     "name": "stderr",
     "output_type": "stream",
     "text": [
      "C:\\Users\\Antoine\\anaconda3\\lib\\site-packages\\tensorflow\\python\\data\\ops\\dataset_ops.py:3503: UserWarning: Even though the tf.config.experimental_run_functions_eagerly option is set, this option does not apply to tf.data functions. tf.data functions are still traced and executed as graphs.\n",
      "  warnings.warn(\n",
      "C:\\Users\\Antoine\\anaconda3\\lib\\site-packages\\tensorflow\\python\\data\\ops\\dataset_ops.py:3503: UserWarning: Even though the tf.config.experimental_run_functions_eagerly option is set, this option does not apply to tf.data functions. tf.data functions are still traced and executed as graphs.\n",
      "  warnings.warn(\n"
     ]
    },
    {
     "name": "stdout",
     "output_type": "stream",
     "text": [
      "ERROR:tensorflow:==================================\n",
      "Object was never used (type <class 'tensorflow.python.ops.tensor_array_ops.TensorArray'>):\n",
      "<tensorflow.python.ops.tensor_array_ops.TensorArray object at 0x000002678231BF40>\n",
      "If you want to mark it as used call its \"mark_used()\" method.\n",
      "It was originally created here:\n",
      "  File \"C:\\Users\\Antoine\\anaconda3\\lib\\site-packages\\tensorflow\\python\\keras\\backend.py\", line 4454, in <genexpr>\n",
      "    ta.write(time, out)  File \"C:\\Users\\Antoine\\anaconda3\\lib\\site-packages\\tensorflow\\python\\util\\tf_should_use.py\", line 247, in wrapped\n",
      "    return _add_should_use_warning(fn(*args, **kwargs),\n",
      "==================================\n"
     ]
    }
   ],
   "source": [
    "eval_predictions = final_model.predict(test_dict, batch_size = 100)"
   ]
  },
  {
   "cell_type": "code",
   "execution_count": 109,
   "metadata": {},
   "outputs": [
    {
     "data": {
      "text/plain": [
       "array([[0.10318682],\n",
       "       [0.07924166],\n",
       "       [0.05827382],\n",
       "       [0.07146597],\n",
       "       [0.08587801]], dtype=float32)"
      ]
     },
     "execution_count": 109,
     "metadata": {},
     "output_type": "execute_result"
    }
   ],
   "source": [
    "predictions[:5]"
   ]
  },
  {
   "cell_type": "code",
   "execution_count": 111,
   "metadata": {},
   "outputs": [
    {
     "data": {
      "text/plain": [
       "0         1\n",
       "2         0\n",
       "4         0\n",
       "6         0\n",
       "10        0\n",
       "         ..\n",
       "307484    0\n",
       "307485    0\n",
       "307503    0\n",
       "307508    0\n",
       "307510    0\n",
       "Name: TARGET, Length: 92166, dtype: int64"
      ]
     },
     "execution_count": 111,
     "metadata": {},
     "output_type": "execute_result"
    }
   ],
   "source": [
    "y_test"
   ]
  },
  {
   "cell_type": "code",
   "execution_count": 125,
   "metadata": {},
   "outputs": [
    {
     "name": "stderr",
     "output_type": "stream",
     "text": [
      "C:\\Users\\Antoine\\anaconda3\\lib\\site-packages\\sklearn\\utils\\validation.py:73: DataConversionWarning: A column-vector y was passed when a 1d array was expected. Please change the shape of y to (n_samples, ), for example using ravel().\n",
      "  return f(**kwargs)\n"
     ]
    },
    {
     "ename": "ValueError",
     "evalue": "y contains previously unseen labels: [1.6427040e-04 1.8945336e-04 8.8769197e-04 ... 8.5661334e-01 8.6713314e-01\n 9.9491107e-01]",
     "output_type": "error",
     "traceback": [
      "Traceback \u001b[1;36m(most recent call last)\u001b[0m:\n",
      "  File \u001b[0;32m\"<ipython-input-125-119f7cbe6f13>\"\u001b[0m, line \u001b[0;32m1\u001b[0m, in \u001b[0;35m<module>\u001b[0m\n    y_le.inverse_transform(predictions)\n",
      "\u001b[1;36m  File \u001b[1;32m\"C:\\Users\\Antoine\\anaconda3\\lib\\site-packages\\sklearn\\preprocessing\\_label.py\"\u001b[1;36m, line \u001b[1;32m300\u001b[1;36m, in \u001b[1;35minverse_transform\u001b[1;36m\u001b[0m\n\u001b[1;33m    raise ValueError(\u001b[0m\n",
      "\u001b[1;31mValueError\u001b[0m\u001b[1;31m:\u001b[0m y contains previously unseen labels: [1.6427040e-04 1.8945336e-04 8.8769197e-04 ... 8.5661334e-01 8.6713314e-01\n 9.9491107e-01]\n"
     ]
    }
   ],
   "source": [
    "y_le.inverse_transform(predictions)"
   ]
  },
  {
   "cell_type": "code",
   "execution_count": null,
   "metadata": {},
   "outputs": [],
   "source": []
  }
 ],
 "metadata": {
  "kernelspec": {
   "display_name": "Python 3 (Spyder)",
   "language": "python3",
   "name": "python3"
  },
  "language_info": {
   "codemirror_mode": {
    "name": "ipython",
    "version": 3
   },
   "file_extension": ".py",
   "mimetype": "text/x-python",
   "name": "python",
   "nbconvert_exporter": "python",
   "pygments_lexer": "ipython3",
   "version": "3.8.3"
  },
  "toc": {
   "base_numbering": 1,
   "nav_menu": {},
   "number_sections": true,
   "sideBar": false,
   "skip_h1_title": false,
   "title_cell": "Table of Contents",
   "title_sidebar": "Contents",
   "toc_cell": true,
   "toc_position": {},
   "toc_section_display": true,
   "toc_window_display": false
  }
 },
 "nbformat": 4,
 "nbformat_minor": 4
}
