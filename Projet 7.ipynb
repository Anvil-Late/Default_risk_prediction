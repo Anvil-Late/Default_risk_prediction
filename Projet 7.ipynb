{
 "cells": [
  {
   "cell_type": "markdown",
   "metadata": {
    "toc": true
   },
   "source": [
    "<h1>Table of Contents<span class=\"tocSkip\"></span></h1>\n",
    "<div class=\"toc\"><ul class=\"toc-item\"><li><span><a href=\"#Objectif\" data-toc-modified-id=\"Objectif-1\"><span class=\"toc-item-num\">1&nbsp;&nbsp;</span>Objectif</a></span></li><li><span><a href=\"#Chargement-des-packages\" data-toc-modified-id=\"Chargement-des-packages-2\"><span class=\"toc-item-num\">2&nbsp;&nbsp;</span>Chargement des packages</a></span></li><li><span><a href=\"#Chargement-des-datasets\" data-toc-modified-id=\"Chargement-des-datasets-3\"><span class=\"toc-item-num\">3&nbsp;&nbsp;</span>Chargement des datasets</a></span></li><li><span><a href=\"#Fonctions-personnalisées\" data-toc-modified-id=\"Fonctions-personnalisées-4\"><span class=\"toc-item-num\">4&nbsp;&nbsp;</span>Fonctions personnalisées</a></span></li><li><span><a href=\"#Exploration-et-pré-traitement\" data-toc-modified-id=\"Exploration-et-pré-traitement-5\"><span class=\"toc-item-num\">5&nbsp;&nbsp;</span>Exploration et pré-traitement</a></span><ul class=\"toc-item\"><li><span><a href=\"#Découverte-des-datasets\" data-toc-modified-id=\"Découverte-des-datasets-5.1\"><span class=\"toc-item-num\">5.1&nbsp;&nbsp;</span>Découverte des datasets</a></span></li><li><span><a href=\"#Valeurs-manquantes---Dataset-principal\" data-toc-modified-id=\"Valeurs-manquantes---Dataset-principal-5.2\"><span class=\"toc-item-num\">5.2&nbsp;&nbsp;</span>Valeurs manquantes - Dataset principal</a></span></li><li><span><a href=\"#Séparation-train_test\" data-toc-modified-id=\"Séparation-train_test-5.3\"><span class=\"toc-item-num\">5.3&nbsp;&nbsp;</span>Séparation train_test</a></span></li><li><span><a href=\"#Imputation-de-valeurs-manquantes\" data-toc-modified-id=\"Imputation-de-valeurs-manquantes-5.4\"><span class=\"toc-item-num\">5.4&nbsp;&nbsp;</span>Imputation de valeurs manquantes</a></span></li><li><span><a href=\"#Duplicats\" data-toc-modified-id=\"Duplicats-5.5\"><span class=\"toc-item-num\">5.5&nbsp;&nbsp;</span>Duplicats</a></span></li></ul></li><li><span><a href=\"#Fusion-avec-autres-tables---Données-statiques\" data-toc-modified-id=\"Fusion-avec-autres-tables---Données-statiques-6\"><span class=\"toc-item-num\">6&nbsp;&nbsp;</span>Fusion avec autres tables - Données statiques</a></span><ul class=\"toc-item\"><li><span><a href=\"#Fusion-avec-POS_CASH_balance\" data-toc-modified-id=\"Fusion-avec-POS_CASH_balance-6.1\"><span class=\"toc-item-num\">6.1&nbsp;&nbsp;</span>Fusion avec POS_CASH_balance</a></span></li><li><span><a href=\"#Fusion-avec-previous_application\" data-toc-modified-id=\"Fusion-avec-previous_application-6.2\"><span class=\"toc-item-num\">6.2&nbsp;&nbsp;</span>Fusion avec previous_application</a></span></li><li><span><a href=\"#Fusion-avec-bureau\" data-toc-modified-id=\"Fusion-avec-bureau-6.3\"><span class=\"toc-item-num\">6.3&nbsp;&nbsp;</span>Fusion avec bureau</a></span></li></ul></li><li><span><a href=\"#Table-credit_card_balance---Données-temporelles\" data-toc-modified-id=\"Table-credit_card_balance---Données-temporelles-7\"><span class=\"toc-item-num\">7&nbsp;&nbsp;</span>Table credit_card_balance - Données temporelles</a></span><ul class=\"toc-item\"><li><span><a href=\"#Portée-des-mois-d'observation\" data-toc-modified-id=\"Portée-des-mois-d'observation-7.1\"><span class=\"toc-item-num\">7.1&nbsp;&nbsp;</span>Portée des mois d'observation</a></span></li><li><span><a href=\"#Encodage-de-Name_contract_status\" data-toc-modified-id=\"Encodage-de-Name_contract_status-7.2\"><span class=\"toc-item-num\">7.2&nbsp;&nbsp;</span>Encodage de Name_contract_status</a></span></li><li><span><a href=\"#Création-des-batch-:-fonctionnement-de-la-fonction-create_batch\" data-toc-modified-id=\"Création-des-batch-:-fonctionnement-de-la-fonction-create_batch-7.3\"><span class=\"toc-item-num\">7.3&nbsp;&nbsp;</span>Création des batch : fonctionnement de la fonction <em>create_batch</em></a></span></li><li><span><a href=\"#Création-du-batch\" data-toc-modified-id=\"Création-du-batch-7.4\"><span class=\"toc-item-num\">7.4&nbsp;&nbsp;</span>Création du batch</a></span></li></ul></li><li><span><a href=\"#Définition-des-variables\" data-toc-modified-id=\"Définition-des-variables-8\"><span class=\"toc-item-num\">8&nbsp;&nbsp;</span>Définition des variables</a></span></li><li><span><a href=\"#Configuration-du-réseau-de-neurones\" data-toc-modified-id=\"Configuration-du-réseau-de-neurones-9\"><span class=\"toc-item-num\">9&nbsp;&nbsp;</span>Configuration du réseau de neurones</a></span><ul class=\"toc-item\"><li><span><a href=\"#Définition-des-sets-de-sub_train-et-sub_eval\" data-toc-modified-id=\"Définition-des-sets-de-sub_train-et-sub_eval-9.1\"><span class=\"toc-item-num\">9.1&nbsp;&nbsp;</span>Définition des sets de sub_train et sub_eval</a></span></li><li><span><a href=\"#Entraînement-du-modèle\" data-toc-modified-id=\"Entraînement-du-modèle-9.2\"><span class=\"toc-item-num\">9.2&nbsp;&nbsp;</span>Entraînement du modèle</a></span></li></ul></li><li><span><a href=\"#Modèle-XGBoost\" data-toc-modified-id=\"Modèle-XGBoost-10\"><span class=\"toc-item-num\">10&nbsp;&nbsp;</span>Modèle XGBoost</a></span></li></ul></div>"
   ]
  },
  {
   "cell_type": "markdown",
   "metadata": {},
   "source": [
    "# Objectif"
   ]
  },
  {
   "cell_type": "markdown",
   "metadata": {},
   "source": []
  },
  {
   "cell_type": "markdown",
   "metadata": {},
   "source": [
    "# Chargement des packages"
   ]
  },
  {
   "cell_type": "code",
   "execution_count": 134,
   "metadata": {},
   "outputs": [],
   "source": [
    "%matplotlib inline\n",
    "\n",
    "import numpy as np\n",
    "import matplotlib.pyplot as plt\n",
    "from matplotlib import cm\n",
    "from mpl_toolkits import mplot3d\n",
    "import pandas as pd\n",
    "import seaborn as sns\n",
    "import os\n",
    "import missingno as msno\n",
    "import warnings\n",
    "import time\n",
    "from urllib import request\n",
    "from zipfile import ZipFile\n",
    "from sklearn.model_selection import GroupShuffleSplit\n",
    "from sklearn import preprocessing\n",
    "import datetime\n",
    "import tensorflow as tf\n",
    "from tensorflow.keras.layers import Input, Embedding, Reshape, Dense, BatchNormalization, Masking, LSTM\n",
    "from tensorflow.keras.models import Model\n",
    "from sklearn.preprocessing import LabelEncoder, StandardScaler, OneHotEncoder\n",
    "from sklearn.model_selection import GroupShuffleSplit, train_test_split\n",
    "from sklearn.model_selection import cross_val_score\n",
    "import pickle\n",
    "import hyperopt\n",
    "from hyperopt import fmin, tpe, hp, STATUS_OK, Trials, space_eval\n",
    "import xgboost as xgb\n",
    "from random import seed\n",
    "\n",
    "pd.options.mode.chained_assignment = None \n",
    "warnings.simplefilter(action='ignore', category=FutureWarning)\n",
    "\n",
    "# ----- Paramètres -----\n",
    "\n",
    "## Nom du dossier data\n",
    "path = \"./data\"\n",
    "## Nom du fichier zip\n",
    "filepath = path + \"/prj7_data.zip\"\n",
    "## Source du fichier zip\n",
    "zip_url = \"https://storage.googleapis.com/kaggle-competitions-data/kaggle-v2/9120/860599/bundle/archive.zip?GoogleAccessId=web-data@kaggle-161607.iam.gserviceaccount.com&Expires=1620896494&Signature=sExz0pdzSGvmb6V0LSOB27qrh%2BIB2ZaVOYLGj2wAds8eSSdEn%2FhQEN%2FXh1vPXEiXLYwoVM1QLc5E6t7ujJnJuspXqhqRD9zUSSar6y0F%2Fi1gDMk1klzSCL0mLUNr1%2BkLohz3L%2BNikWROA7rXceZH7Hi5nL7QBluzkL2G8bNseDn6YFp%2FlRkK%2FY18Plyxx2mU3%2FuDmAeamc6NZENSDcPgKoxWxz0wWBw%2BXFcsIBvcLx3tSs%2Bdg4HDzi0xyFtBtXMyiACmFTZyLcwkDfqFAAUZSBYsV%2Bvp%2Foe7aPC0jYLYo7O9Nv40wjfhj3QRa95ipqDOxB4cSXW%2FqlT0Ai4isYNuPA%3D%3D&response-content-disposition=attachment%3B+filename%3Dhome-credit-default-risk.zip\""
   ]
  },
  {
   "cell_type": "markdown",
   "metadata": {},
   "source": [
    "# Chargement des datasets"
   ]
  },
  {
   "cell_type": "code",
   "execution_count": 2,
   "metadata": {},
   "outputs": [],
   "source": [
    "# Création du dossier data\n",
    "if not os.path.exists(path):\n",
    "    os.makedirs(path)\n",
    "\n",
    "# Téléchargement et dézippage des datasets\n",
    "if not os.path.exists(filepath):\n",
    "    r = requests.get(zip_url, allow_redirects=True)\n",
    "\n",
    "    open(filepath, 'wb').write(r.content)\n",
    "\n",
    "    with ZipFile(filepath, \"r\") as zipObj:\n",
    "        zipObj.extractall(path)"
   ]
  },
  {
   "cell_type": "code",
   "execution_count": 3,
   "metadata": {},
   "outputs": [],
   "source": [
    "application_test = pd.read_csv(\"./data/application_test.csv\")\n",
    "application_train = pd.read_csv(\"./data/application_train.csv\")\n",
    "bureau = pd.read_csv(\"./data/bureau.csv\")\n",
    "bureau_balance = pd.read_csv(\"./data/bureau_balance.csv\")\n",
    "credit_card_balance = pd.read_csv(\"./data/credit_card_balance.csv\")\n",
    "HomeCredit_columns_description = pd.read_csv(\"./data/HomeCredit_columns_description.csv\", engine = \"python\")\n",
    "installments_payments = pd.read_csv(\"./data/installments_payments.csv\")\n",
    "POS_CASH_balance = pd.read_csv(\"./data/POS_CASH_balance.csv\")\n",
    "previous_application = pd.read_csv(\"./data/previous_application.csv\")"
   ]
  },
  {
   "cell_type": "markdown",
   "metadata": {},
   "source": [
    "# Fonctions personnalisées"
   ]
  },
  {
   "cell_type": "code",
   "execution_count": 4,
   "metadata": {},
   "outputs": [],
   "source": [
    "def describe_dataset(dataset):\n",
    "    print(\"Le dataset contient {} observations et {} variables\".format(dataset.shape[0], dataset.shape[1]))\n",
    "    print(\"\\n\")\n",
    "    if dataset.shape[1] <= 20:\n",
    "        print(\"Variables du dataset :\")\n",
    "        print(dataset.columns.tolist())\n",
    "        print(\"\\n\")\n",
    "    print(\"Vue d'ensemble des valeurs manquantes :\")\n",
    "    print(dataset.isna().sum())\n",
    "    \n",
    "\n",
    "def create_batch(dataframe, time_start, t_colname=\"MONTHS_BALANCE\", id_colname=\"SK_ID_CURR\"):\n",
    "    # Calculate number of time blocks\n",
    "    oldest_time = -96\n",
    "    n_time_blocks = -(oldest_time - time_start) + 1\n",
    "    \n",
    "    # Define which months to iterate on\n",
    "    time_range = [-timestamp for timestamp in range(-time_start, -oldest_time + 1)]\n",
    "    # Define list of client IDs\n",
    "    id_list = dataframe[id_colname].unique().tolist()\n",
    "    id_list.sort()\n",
    "    \n",
    "    # Figure out output cube shape\n",
    "    observations_shape = len(id_list) \n",
    "    features_shape = dataframe.drop(columns = [t_colname, id_colname]).shape[1]\n",
    "    \n",
    "    # Create output cube\n",
    "    output_cube = np.zeros((observations_shape, features_shape, n_time_blocks))\n",
    "\n",
    "    # Fill cube\n",
    "    for x, unique_id in enumerate(id_list):\n",
    "        client_info = dataframe.loc[dataframe[id_colname] == unique_id, :]\n",
    "        for z, month in enumerate(time_range):                      \n",
    "            if month in client_info[t_colname].tolist():\n",
    "                monthly_client_info = client_info.loc[client_info[t_colname] == month, :].drop(columns = [t_colname, id_colname])\n",
    "                output_cube[x, :, z] = monthly_client_info\n",
    "                \n",
    "    return(output_cube)\n",
    "\n",
    "def dataset_preprocessing(dataframe, categorical_features):\n",
    "    for categorical_var in categorical_features:\n",
    "        encoder = preprocessing.LabelEncoder()\n",
    "        dataframe[categorical_var] = encoder.fit_transform(dataframe[categorical_var])\n",
    "    return dataframe\n",
    "\n",
    "def create_embedding_model(categorical_variable_vector, input_layer_name):\n",
    "    variable_nbins = len(categorical_variable_vector.unique())\n",
    "    input_layer = Input(shape = (1,), name = input_layer_name)\n",
    "    embedding_layer = Embedding(variable_nbins, 36, \n",
    "                            trainable = True, \n",
    "                           embeddings_initializer = tf.initializers.random_normal\n",
    "                           )(input_layer)\n",
    "    reshape_layer = Reshape(target_shape = (36,))(embedding_layer)\n",
    "    return(input_layer, reshape_layer)\n",
    "\n",
    "def make_all_embedders(dataset, categorical_variables_list, numerical_variables_list):\n",
    "    models = []\n",
    "    inputs = []\n",
    "    for categorical_var in categorical_variables_list:\n",
    "        input_layer_name = categorical_var + \"_input\"\n",
    "        (inpt, outpt) = create_embedding_model(dataset[categorical_var], input_layer_name = input_layer_name)\n",
    "        inputs.append(inpt)\n",
    "        models.append(outpt)\n",
    "    num_inpt = Input(shape = (len(numerical_variables_list)), name = \"num_input\")\n",
    "    inputs.append(num_inpt)\n",
    "    models.append(num_inpt)\n",
    "    return(inputs, models)"
   ]
  },
  {
   "cell_type": "markdown",
   "metadata": {},
   "source": [
    "# Exploration et pré-traitement"
   ]
  },
  {
   "cell_type": "markdown",
   "metadata": {},
   "source": [
    "## Découverte des datasets"
   ]
  },
  {
   "cell_type": "code",
   "execution_count": 5,
   "metadata": {},
   "outputs": [],
   "source": [
    "dataset_list = [application_test, application_train, bureau, bureau_balance, credit_card_balance, \n",
    "               HomeCredit_columns_description, installments_payments, POS_CASH_balance, previous_application]\n",
    "dataset_list_names = [\"application_test\", \"application_train\", \"bureau\", \"bureau_balance\", \"credit_card_balance\", \n",
    "               \"HomeCredit_columns_description\", \"installments_payments\", \"POS_CASH_balance\", \"previous_application\"]"
   ]
  },
  {
   "cell_type": "code",
   "execution_count": 6,
   "metadata": {},
   "outputs": [
    {
     "name": "stdout",
     "output_type": "stream",
     "text": [
      "Exploration du dataset application_test\n",
      "Le dataset contient 48744 observations et 121 variables\n",
      "\n",
      "\n",
      "Vue d'ensemble des valeurs manquantes :\n",
      "SK_ID_CURR                       0\n",
      "NAME_CONTRACT_TYPE               0\n",
      "CODE_GENDER                      0\n",
      "FLAG_OWN_CAR                     0\n",
      "FLAG_OWN_REALTY                  0\n",
      "                              ... \n",
      "AMT_REQ_CREDIT_BUREAU_DAY     6049\n",
      "AMT_REQ_CREDIT_BUREAU_WEEK    6049\n",
      "AMT_REQ_CREDIT_BUREAU_MON     6049\n",
      "AMT_REQ_CREDIT_BUREAU_QRT     6049\n",
      "AMT_REQ_CREDIT_BUREAU_YEAR    6049\n",
      "Length: 121, dtype: int64\n",
      "\n",
      "\n",
      "---------------------------------\n",
      "\n",
      "\n",
      "Exploration du dataset application_train\n",
      "Le dataset contient 307511 observations et 122 variables\n",
      "\n",
      "\n",
      "Vue d'ensemble des valeurs manquantes :\n",
      "SK_ID_CURR                        0\n",
      "TARGET                            0\n",
      "NAME_CONTRACT_TYPE                0\n",
      "CODE_GENDER                       0\n",
      "FLAG_OWN_CAR                      0\n",
      "                              ...  \n",
      "AMT_REQ_CREDIT_BUREAU_DAY     41519\n",
      "AMT_REQ_CREDIT_BUREAU_WEEK    41519\n",
      "AMT_REQ_CREDIT_BUREAU_MON     41519\n",
      "AMT_REQ_CREDIT_BUREAU_QRT     41519\n",
      "AMT_REQ_CREDIT_BUREAU_YEAR    41519\n",
      "Length: 122, dtype: int64\n",
      "\n",
      "\n",
      "---------------------------------\n",
      "\n",
      "\n",
      "Exploration du dataset bureau\n",
      "Le dataset contient 1716428 observations et 17 variables\n",
      "\n",
      "\n",
      "Variables du dataset :\n",
      "['SK_ID_CURR', 'SK_ID_BUREAU', 'CREDIT_ACTIVE', 'CREDIT_CURRENCY', 'DAYS_CREDIT', 'CREDIT_DAY_OVERDUE', 'DAYS_CREDIT_ENDDATE', 'DAYS_ENDDATE_FACT', 'AMT_CREDIT_MAX_OVERDUE', 'CNT_CREDIT_PROLONG', 'AMT_CREDIT_SUM', 'AMT_CREDIT_SUM_DEBT', 'AMT_CREDIT_SUM_LIMIT', 'AMT_CREDIT_SUM_OVERDUE', 'CREDIT_TYPE', 'DAYS_CREDIT_UPDATE', 'AMT_ANNUITY']\n",
      "\n",
      "\n",
      "Vue d'ensemble des valeurs manquantes :\n",
      "SK_ID_CURR                      0\n",
      "SK_ID_BUREAU                    0\n",
      "CREDIT_ACTIVE                   0\n",
      "CREDIT_CURRENCY                 0\n",
      "DAYS_CREDIT                     0\n",
      "CREDIT_DAY_OVERDUE              0\n",
      "DAYS_CREDIT_ENDDATE        105553\n",
      "DAYS_ENDDATE_FACT          633653\n",
      "AMT_CREDIT_MAX_OVERDUE    1124488\n",
      "CNT_CREDIT_PROLONG              0\n",
      "AMT_CREDIT_SUM                 13\n",
      "AMT_CREDIT_SUM_DEBT        257669\n",
      "AMT_CREDIT_SUM_LIMIT       591780\n",
      "AMT_CREDIT_SUM_OVERDUE          0\n",
      "CREDIT_TYPE                     0\n",
      "DAYS_CREDIT_UPDATE              0\n",
      "AMT_ANNUITY               1226791\n",
      "dtype: int64\n",
      "\n",
      "\n",
      "---------------------------------\n",
      "\n",
      "\n",
      "Exploration du dataset bureau_balance\n",
      "Le dataset contient 27299925 observations et 3 variables\n",
      "\n",
      "\n",
      "Variables du dataset :\n",
      "['SK_ID_BUREAU', 'MONTHS_BALANCE', 'STATUS']\n",
      "\n",
      "\n",
      "Vue d'ensemble des valeurs manquantes :\n",
      "SK_ID_BUREAU      0\n",
      "MONTHS_BALANCE    0\n",
      "STATUS            0\n",
      "dtype: int64\n",
      "\n",
      "\n",
      "---------------------------------\n",
      "\n",
      "\n",
      "Exploration du dataset credit_card_balance\n",
      "Le dataset contient 3840312 observations et 23 variables\n",
      "\n",
      "\n",
      "Vue d'ensemble des valeurs manquantes :\n",
      "SK_ID_PREV                         0\n",
      "SK_ID_CURR                         0\n",
      "MONTHS_BALANCE                     0\n",
      "AMT_BALANCE                        0\n",
      "AMT_CREDIT_LIMIT_ACTUAL            0\n",
      "AMT_DRAWINGS_ATM_CURRENT      749816\n",
      "AMT_DRAWINGS_CURRENT               0\n",
      "AMT_DRAWINGS_OTHER_CURRENT    749816\n",
      "AMT_DRAWINGS_POS_CURRENT      749816\n",
      "AMT_INST_MIN_REGULARITY       305236\n",
      "AMT_PAYMENT_CURRENT           767988\n",
      "AMT_PAYMENT_TOTAL_CURRENT          0\n",
      "AMT_RECEIVABLE_PRINCIPAL           0\n",
      "AMT_RECIVABLE                      0\n",
      "AMT_TOTAL_RECEIVABLE               0\n",
      "CNT_DRAWINGS_ATM_CURRENT      749816\n",
      "CNT_DRAWINGS_CURRENT               0\n",
      "CNT_DRAWINGS_OTHER_CURRENT    749816\n",
      "CNT_DRAWINGS_POS_CURRENT      749816\n",
      "CNT_INSTALMENT_MATURE_CUM     305236\n",
      "NAME_CONTRACT_STATUS               0\n",
      "SK_DPD                             0\n",
      "SK_DPD_DEF                         0\n",
      "dtype: int64\n",
      "\n",
      "\n",
      "---------------------------------\n",
      "\n",
      "\n",
      "Exploration du dataset HomeCredit_columns_description\n",
      "Le dataset contient 219 observations et 5 variables\n",
      "\n",
      "\n",
      "Variables du dataset :\n",
      "['Unnamed: 0', 'Table', 'Row', 'Description', 'Special']\n",
      "\n",
      "\n",
      "Vue d'ensemble des valeurs manquantes :\n",
      "Unnamed: 0       0\n",
      "Table            0\n",
      "Row              0\n",
      "Description      0\n",
      "Special        133\n",
      "dtype: int64\n",
      "\n",
      "\n",
      "---------------------------------\n",
      "\n",
      "\n",
      "Exploration du dataset installments_payments\n",
      "Le dataset contient 13605401 observations et 8 variables\n",
      "\n",
      "\n",
      "Variables du dataset :\n",
      "['SK_ID_PREV', 'SK_ID_CURR', 'NUM_INSTALMENT_VERSION', 'NUM_INSTALMENT_NUMBER', 'DAYS_INSTALMENT', 'DAYS_ENTRY_PAYMENT', 'AMT_INSTALMENT', 'AMT_PAYMENT']\n",
      "\n",
      "\n",
      "Vue d'ensemble des valeurs manquantes :\n",
      "SK_ID_PREV                   0\n",
      "SK_ID_CURR                   0\n",
      "NUM_INSTALMENT_VERSION       0\n",
      "NUM_INSTALMENT_NUMBER        0\n",
      "DAYS_INSTALMENT              0\n",
      "DAYS_ENTRY_PAYMENT        2905\n",
      "AMT_INSTALMENT               0\n",
      "AMT_PAYMENT               2905\n",
      "dtype: int64\n",
      "\n",
      "\n",
      "---------------------------------\n",
      "\n",
      "\n",
      "Exploration du dataset POS_CASH_balance\n",
      "Le dataset contient 10001358 observations et 8 variables\n",
      "\n",
      "\n",
      "Variables du dataset :\n",
      "['SK_ID_PREV', 'SK_ID_CURR', 'MONTHS_BALANCE', 'CNT_INSTALMENT', 'CNT_INSTALMENT_FUTURE', 'NAME_CONTRACT_STATUS', 'SK_DPD', 'SK_DPD_DEF']\n",
      "\n",
      "\n",
      "Vue d'ensemble des valeurs manquantes :\n",
      "SK_ID_PREV                   0\n",
      "SK_ID_CURR                   0\n",
      "MONTHS_BALANCE               0\n",
      "CNT_INSTALMENT           26071\n",
      "CNT_INSTALMENT_FUTURE    26087\n",
      "NAME_CONTRACT_STATUS         0\n",
      "SK_DPD                       0\n",
      "SK_DPD_DEF                   0\n",
      "dtype: int64\n",
      "\n",
      "\n",
      "---------------------------------\n",
      "\n",
      "\n",
      "Exploration du dataset previous_application\n",
      "Le dataset contient 1670214 observations et 37 variables\n",
      "\n",
      "\n",
      "Vue d'ensemble des valeurs manquantes :\n",
      "SK_ID_PREV                           0\n",
      "SK_ID_CURR                           0\n",
      "NAME_CONTRACT_TYPE                   0\n",
      "AMT_ANNUITY                     372235\n",
      "AMT_APPLICATION                      0\n",
      "AMT_CREDIT                           1\n",
      "AMT_DOWN_PAYMENT                895844\n",
      "AMT_GOODS_PRICE                 385515\n",
      "WEEKDAY_APPR_PROCESS_START           0\n",
      "HOUR_APPR_PROCESS_START              0\n",
      "FLAG_LAST_APPL_PER_CONTRACT          0\n",
      "NFLAG_LAST_APPL_IN_DAY               0\n",
      "RATE_DOWN_PAYMENT               895844\n",
      "RATE_INTEREST_PRIMARY          1664263\n",
      "RATE_INTEREST_PRIVILEGED       1664263\n",
      "NAME_CASH_LOAN_PURPOSE               0\n",
      "NAME_CONTRACT_STATUS                 0\n",
      "DAYS_DECISION                        0\n",
      "NAME_PAYMENT_TYPE                    0\n",
      "CODE_REJECT_REASON                   0\n",
      "NAME_TYPE_SUITE                 820405\n",
      "NAME_CLIENT_TYPE                     0\n",
      "NAME_GOODS_CATEGORY                  0\n",
      "NAME_PORTFOLIO                       0\n",
      "NAME_PRODUCT_TYPE                    0\n",
      "CHANNEL_TYPE                         0\n",
      "SELLERPLACE_AREA                     0\n",
      "NAME_SELLER_INDUSTRY                 0\n",
      "CNT_PAYMENT                     372230\n",
      "NAME_YIELD_GROUP                     0\n",
      "PRODUCT_COMBINATION                346\n",
      "DAYS_FIRST_DRAWING              673065\n",
      "DAYS_FIRST_DUE                  673065\n",
      "DAYS_LAST_DUE_1ST_VERSION       673065\n",
      "DAYS_LAST_DUE                   673065\n",
      "DAYS_TERMINATION                673065\n",
      "NFLAG_INSURED_ON_APPROVAL       673065\n",
      "dtype: int64\n",
      "\n",
      "\n",
      "---------------------------------\n",
      "\n",
      "\n"
     ]
    }
   ],
   "source": [
    "for dataset, dataset_name in zip(dataset_list, dataset_list_names):\n",
    "    print(\"Exploration du dataset {}\".format(dataset_name))\n",
    "    describe_dataset(dataset)\n",
    "    print(\"\\n\")\n",
    "    print(\"---------------------------------\")\n",
    "    print(\"\\n\")"
   ]
  },
  {
   "cell_type": "code",
   "execution_count": 7,
   "metadata": {},
   "outputs": [],
   "source": [
    "if not os.path.exists(\"./databook.xlsx\"):\n",
    "    HomeCredit_columns_description.to_excel(\"./databook.xlsx\")"
   ]
  },
  {
   "cell_type": "code",
   "execution_count": 8,
   "metadata": {},
   "outputs": [
    {
     "data": {
      "text/plain": [
       "Index(['SK_ID_CURR', 'NAME_CONTRACT_TYPE', 'CODE_GENDER', 'FLAG_OWN_CAR',\n",
       "       'FLAG_OWN_REALTY', 'CNT_CHILDREN', 'AMT_INCOME_TOTAL', 'AMT_CREDIT',\n",
       "       'AMT_ANNUITY', 'AMT_GOODS_PRICE',\n",
       "       ...\n",
       "       'FLAG_DOCUMENT_18', 'FLAG_DOCUMENT_19', 'FLAG_DOCUMENT_20',\n",
       "       'FLAG_DOCUMENT_21', 'AMT_REQ_CREDIT_BUREAU_HOUR',\n",
       "       'AMT_REQ_CREDIT_BUREAU_DAY', 'AMT_REQ_CREDIT_BUREAU_WEEK',\n",
       "       'AMT_REQ_CREDIT_BUREAU_MON', 'AMT_REQ_CREDIT_BUREAU_QRT',\n",
       "       'AMT_REQ_CREDIT_BUREAU_YEAR'],\n",
       "      dtype='object', length=121)"
      ]
     },
     "execution_count": 8,
     "metadata": {},
     "output_type": "execute_result"
    }
   ],
   "source": [
    "application_test.columns"
   ]
  },
  {
   "cell_type": "code",
   "execution_count": 9,
   "metadata": {
    "scrolled": true
   },
   "outputs": [
    {
     "data": {
      "text/plain": [
       "Index(['SK_ID_CURR', 'TARGET', 'NAME_CONTRACT_TYPE', 'CODE_GENDER',\n",
       "       'FLAG_OWN_CAR', 'FLAG_OWN_REALTY', 'CNT_CHILDREN', 'AMT_INCOME_TOTAL',\n",
       "       'AMT_CREDIT', 'AMT_ANNUITY',\n",
       "       ...\n",
       "       'FLAG_DOCUMENT_18', 'FLAG_DOCUMENT_19', 'FLAG_DOCUMENT_20',\n",
       "       'FLAG_DOCUMENT_21', 'AMT_REQ_CREDIT_BUREAU_HOUR',\n",
       "       'AMT_REQ_CREDIT_BUREAU_DAY', 'AMT_REQ_CREDIT_BUREAU_WEEK',\n",
       "       'AMT_REQ_CREDIT_BUREAU_MON', 'AMT_REQ_CREDIT_BUREAU_QRT',\n",
       "       'AMT_REQ_CREDIT_BUREAU_YEAR'],\n",
       "      dtype='object', length=122)"
      ]
     },
     "execution_count": 9,
     "metadata": {},
     "output_type": "execute_result"
    }
   ],
   "source": [
    "application_train.columns"
   ]
  },
  {
   "cell_type": "markdown",
   "metadata": {},
   "source": [
    "## Valeurs manquantes - Dataset principal"
   ]
  },
  {
   "cell_type": "code",
   "execution_count": 10,
   "metadata": {},
   "outputs": [
    {
     "data": {
      "text/plain": [
       "<matplotlib.axes._subplots.AxesSubplot at 0x1d10fe34160>"
      ]
     },
     "execution_count": 10,
     "metadata": {},
     "output_type": "execute_result"
    },
    {
     "data": {
      "image/png": "[encoded data removed]",
      "text/plain": [
       "<Figure size 1728x720 with 2 Axes>"
      ]
     },
     "metadata": {
      "needs_background": "light"
     },
     "output_type": "display_data"
    }
   ],
   "source": [
    "msno.bar(application_train)"
   ]
  },
  {
   "cell_type": "code",
   "execution_count": 11,
   "metadata": {},
   "outputs": [],
   "source": [
    "na_count = application_train.isna().sum()"
   ]
  },
  {
   "cell_type": "code",
   "execution_count": 12,
   "metadata": {},
   "outputs": [
    {
     "name": "stdout",
     "output_type": "stream",
     "text": [
      "51\n"
     ]
    }
   ],
   "source": [
    "na_count_df = pd.DataFrame()\n",
    "na_count_df[\"column\"] = na_count.index\n",
    "na_count_df[\"nas\"] = na_count.values\n",
    "na_count_df[\"na_proportion\"] = na_count_df[\"nas\"].apply(lambda X : round(X / application_train.shape[0], 2))\n",
    "\n",
    "drop_cols_list = na_count_df.loc[na_count_df[\"na_proportion\"] >= 0.2, \"column\"].tolist()\n",
    "print(len(drop_cols_list))"
   ]
  },
  {
   "cell_type": "code",
   "execution_count": 13,
   "metadata": {},
   "outputs": [],
   "source": [
    "data = application_train.drop(columns = drop_cols_list)"
   ]
  },
  {
   "cell_type": "code",
   "execution_count": 14,
   "metadata": {},
   "outputs": [],
   "source": [
    "na_count2 = data.isna().sum()"
   ]
  },
  {
   "cell_type": "code",
   "execution_count": 15,
   "metadata": {},
   "outputs": [
    {
     "data": {
      "text/plain": [
       "AMT_ANNUITY                      12\n",
       "AMT_GOODS_PRICE                 278\n",
       "NAME_TYPE_SUITE                1292\n",
       "CNT_FAM_MEMBERS                   2\n",
       "EXT_SOURCE_2                    660\n",
       "OBS_30_CNT_SOCIAL_CIRCLE       1021\n",
       "DEF_30_CNT_SOCIAL_CIRCLE       1021\n",
       "OBS_60_CNT_SOCIAL_CIRCLE       1021\n",
       "DEF_60_CNT_SOCIAL_CIRCLE       1021\n",
       "DAYS_LAST_PHONE_CHANGE            1\n",
       "AMT_REQ_CREDIT_BUREAU_HOUR    41519\n",
       "AMT_REQ_CREDIT_BUREAU_DAY     41519\n",
       "AMT_REQ_CREDIT_BUREAU_WEEK    41519\n",
       "AMT_REQ_CREDIT_BUREAU_MON     41519\n",
       "AMT_REQ_CREDIT_BUREAU_QRT     41519\n",
       "AMT_REQ_CREDIT_BUREAU_YEAR    41519\n",
       "dtype: int64"
      ]
     },
     "execution_count": 15,
     "metadata": {},
     "output_type": "execute_result"
    }
   ],
   "source": [
    "na_count2[na_count2 > 0]"
   ]
  },
  {
   "cell_type": "code",
   "execution_count": 16,
   "metadata": {},
   "outputs": [],
   "source": [
    "fillna_values = {}\n",
    "\n",
    "for column in [\"OBS_30_CNT_SOCIAL_CIRCLE\", \"DEF_30_CNT_SOCIAL_CIRCLE\", \"OBS_60_CNT_SOCIAL_CIRCLE\", \"DEF_60_CNT_SOCIAL_CIRCLE\",\n",
    " \"AMT_REQ_CREDIT_BUREAU_HOUR\", \"AMT_REQ_CREDIT_BUREAU_DAY\", \"AMT_REQ_CREDIT_BUREAU_WEEK\", \"AMT_REQ_CREDIT_BUREAU_MON\",\n",
    "    \"AMT_REQ_CREDIT_BUREAU_QRT\", \"AMT_REQ_CREDIT_BUREAU_YEAR\"]:\n",
    "    fillna_values[column] = 0\n",
    "    \n",
    "fillna_values[\"NAME_TYPE_SUITE\"] = \"Unaccompanied\"\n",
    "\n",
    "data.fillna(value = fillna_values, inplace = True)"
   ]
  },
  {
   "cell_type": "code",
   "execution_count": 17,
   "metadata": {},
   "outputs": [],
   "source": [
    "data.dropna(subset = [\"AMT_ANNUITY\", \"AMT_GOODS_PRICE\", \"CNT_FAM_MEMBERS\", \"DAYS_LAST_PHONE_CHANGE\"], inplace = True)"
   ]
  },
  {
   "cell_type": "markdown",
   "metadata": {},
   "source": [
    "## Séparation train_test"
   ]
  },
  {
   "cell_type": "code",
   "execution_count": 18,
   "metadata": {},
   "outputs": [],
   "source": [
    "inTrain , inTest = next(GroupShuffleSplit(train_size = 0.7, random_state = 42).\\\n",
    "                        split(data, groups = data[\"SK_ID_CURR\"])\n",
    "                       )\n",
    "def trainset(dataset, subsetter=inTrain):\n",
    "    return dataset.iloc[subsetter]"
   ]
  },
  {
   "cell_type": "code",
   "execution_count": 19,
   "metadata": {},
   "outputs": [],
   "source": [
    "X = data.drop(columns = \"TARGET\")\n",
    "y_train = trainset(data[\"TARGET\"])\n",
    "y_test = data[\"TARGET\"].iloc[inTest]"
   ]
  },
  {
   "cell_type": "code",
   "execution_count": 20,
   "metadata": {},
   "outputs": [
    {
     "data": {
      "text/html": [
       "<div>\n",
       "<style scoped>\n",
       "    .dataframe tbody tr th:only-of-type {\n",
       "        vertical-align: middle;\n",
       "    }\n",
       "\n",
       "    .dataframe tbody tr th {\n",
       "        vertical-align: top;\n",
       "    }\n",
       "\n",
       "    .dataframe thead th {\n",
       "        text-align: right;\n",
       "    }\n",
       "</style>\n",
       "<table border=\"1\" class=\"dataframe\">\n",
       "  <thead>\n",
       "    <tr style=\"text-align: right;\">\n",
       "      <th></th>\n",
       "      <th>SK_ID_CURR</th>\n",
       "      <th>NAME_CONTRACT_TYPE</th>\n",
       "      <th>CODE_GENDER</th>\n",
       "      <th>FLAG_OWN_CAR</th>\n",
       "      <th>FLAG_OWN_REALTY</th>\n",
       "      <th>CNT_CHILDREN</th>\n",
       "      <th>AMT_INCOME_TOTAL</th>\n",
       "      <th>AMT_CREDIT</th>\n",
       "      <th>AMT_ANNUITY</th>\n",
       "      <th>AMT_GOODS_PRICE</th>\n",
       "      <th>...</th>\n",
       "      <th>FLAG_DOCUMENT_18</th>\n",
       "      <th>FLAG_DOCUMENT_19</th>\n",
       "      <th>FLAG_DOCUMENT_20</th>\n",
       "      <th>FLAG_DOCUMENT_21</th>\n",
       "      <th>AMT_REQ_CREDIT_BUREAU_HOUR</th>\n",
       "      <th>AMT_REQ_CREDIT_BUREAU_DAY</th>\n",
       "      <th>AMT_REQ_CREDIT_BUREAU_WEEK</th>\n",
       "      <th>AMT_REQ_CREDIT_BUREAU_MON</th>\n",
       "      <th>AMT_REQ_CREDIT_BUREAU_QRT</th>\n",
       "      <th>AMT_REQ_CREDIT_BUREAU_YEAR</th>\n",
       "    </tr>\n",
       "  </thead>\n",
       "  <tbody>\n",
       "    <tr>\n",
       "      <th>0</th>\n",
       "      <td>100002</td>\n",
       "      <td>Cash loans</td>\n",
       "      <td>M</td>\n",
       "      <td>N</td>\n",
       "      <td>Y</td>\n",
       "      <td>0</td>\n",
       "      <td>202500.0</td>\n",
       "      <td>406597.5</td>\n",
       "      <td>24700.5</td>\n",
       "      <td>351000.0</td>\n",
       "      <td>...</td>\n",
       "      <td>0</td>\n",
       "      <td>0</td>\n",
       "      <td>0</td>\n",
       "      <td>0</td>\n",
       "      <td>0.0</td>\n",
       "      <td>0.0</td>\n",
       "      <td>0.0</td>\n",
       "      <td>0.0</td>\n",
       "      <td>0.0</td>\n",
       "      <td>1.0</td>\n",
       "    </tr>\n",
       "    <tr>\n",
       "      <th>1</th>\n",
       "      <td>100003</td>\n",
       "      <td>Cash loans</td>\n",
       "      <td>F</td>\n",
       "      <td>N</td>\n",
       "      <td>N</td>\n",
       "      <td>0</td>\n",
       "      <td>270000.0</td>\n",
       "      <td>1293502.5</td>\n",
       "      <td>35698.5</td>\n",
       "      <td>1129500.0</td>\n",
       "      <td>...</td>\n",
       "      <td>0</td>\n",
       "      <td>0</td>\n",
       "      <td>0</td>\n",
       "      <td>0</td>\n",
       "      <td>0.0</td>\n",
       "      <td>0.0</td>\n",
       "      <td>0.0</td>\n",
       "      <td>0.0</td>\n",
       "      <td>0.0</td>\n",
       "      <td>0.0</td>\n",
       "    </tr>\n",
       "    <tr>\n",
       "      <th>2</th>\n",
       "      <td>100004</td>\n",
       "      <td>Revolving loans</td>\n",
       "      <td>M</td>\n",
       "      <td>Y</td>\n",
       "      <td>Y</td>\n",
       "      <td>0</td>\n",
       "      <td>67500.0</td>\n",
       "      <td>135000.0</td>\n",
       "      <td>6750.0</td>\n",
       "      <td>135000.0</td>\n",
       "      <td>...</td>\n",
       "      <td>0</td>\n",
       "      <td>0</td>\n",
       "      <td>0</td>\n",
       "      <td>0</td>\n",
       "      <td>0.0</td>\n",
       "      <td>0.0</td>\n",
       "      <td>0.0</td>\n",
       "      <td>0.0</td>\n",
       "      <td>0.0</td>\n",
       "      <td>0.0</td>\n",
       "    </tr>\n",
       "    <tr>\n",
       "      <th>3</th>\n",
       "      <td>100006</td>\n",
       "      <td>Cash loans</td>\n",
       "      <td>F</td>\n",
       "      <td>N</td>\n",
       "      <td>Y</td>\n",
       "      <td>0</td>\n",
       "      <td>135000.0</td>\n",
       "      <td>312682.5</td>\n",
       "      <td>29686.5</td>\n",
       "      <td>297000.0</td>\n",
       "      <td>...</td>\n",
       "      <td>0</td>\n",
       "      <td>0</td>\n",
       "      <td>0</td>\n",
       "      <td>0</td>\n",
       "      <td>0.0</td>\n",
       "      <td>0.0</td>\n",
       "      <td>0.0</td>\n",
       "      <td>0.0</td>\n",
       "      <td>0.0</td>\n",
       "      <td>0.0</td>\n",
       "    </tr>\n",
       "    <tr>\n",
       "      <th>4</th>\n",
       "      <td>100007</td>\n",
       "      <td>Cash loans</td>\n",
       "      <td>M</td>\n",
       "      <td>N</td>\n",
       "      <td>Y</td>\n",
       "      <td>0</td>\n",
       "      <td>121500.0</td>\n",
       "      <td>513000.0</td>\n",
       "      <td>21865.5</td>\n",
       "      <td>513000.0</td>\n",
       "      <td>...</td>\n",
       "      <td>0</td>\n",
       "      <td>0</td>\n",
       "      <td>0</td>\n",
       "      <td>0</td>\n",
       "      <td>0.0</td>\n",
       "      <td>0.0</td>\n",
       "      <td>0.0</td>\n",
       "      <td>0.0</td>\n",
       "      <td>0.0</td>\n",
       "      <td>0.0</td>\n",
       "    </tr>\n",
       "  </tbody>\n",
       "</table>\n",
       "<p>5 rows × 70 columns</p>\n",
       "</div>"
      ],
      "text/plain": [
       "   SK_ID_CURR NAME_CONTRACT_TYPE CODE_GENDER FLAG_OWN_CAR FLAG_OWN_REALTY  \\\n",
       "0      100002         Cash loans           M            N               Y   \n",
       "1      100003         Cash loans           F            N               N   \n",
       "2      100004    Revolving loans           M            Y               Y   \n",
       "3      100006         Cash loans           F            N               Y   \n",
       "4      100007         Cash loans           M            N               Y   \n",
       "\n",
       "   CNT_CHILDREN  AMT_INCOME_TOTAL  AMT_CREDIT  AMT_ANNUITY  AMT_GOODS_PRICE  \\\n",
       "0             0          202500.0    406597.5      24700.5         351000.0   \n",
       "1             0          270000.0   1293502.5      35698.5        1129500.0   \n",
       "2             0           67500.0    135000.0       6750.0         135000.0   \n",
       "3             0          135000.0    312682.5      29686.5         297000.0   \n",
       "4             0          121500.0    513000.0      21865.5         513000.0   \n",
       "\n",
       "   ... FLAG_DOCUMENT_18 FLAG_DOCUMENT_19 FLAG_DOCUMENT_20 FLAG_DOCUMENT_21  \\\n",
       "0  ...                0                0                0                0   \n",
       "1  ...                0                0                0                0   \n",
       "2  ...                0                0                0                0   \n",
       "3  ...                0                0                0                0   \n",
       "4  ...                0                0                0                0   \n",
       "\n",
       "  AMT_REQ_CREDIT_BUREAU_HOUR  AMT_REQ_CREDIT_BUREAU_DAY  \\\n",
       "0                        0.0                        0.0   \n",
       "1                        0.0                        0.0   \n",
       "2                        0.0                        0.0   \n",
       "3                        0.0                        0.0   \n",
       "4                        0.0                        0.0   \n",
       "\n",
       "   AMT_REQ_CREDIT_BUREAU_WEEK  AMT_REQ_CREDIT_BUREAU_MON  \\\n",
       "0                         0.0                        0.0   \n",
       "1                         0.0                        0.0   \n",
       "2                         0.0                        0.0   \n",
       "3                         0.0                        0.0   \n",
       "4                         0.0                        0.0   \n",
       "\n",
       "   AMT_REQ_CREDIT_BUREAU_QRT  AMT_REQ_CREDIT_BUREAU_YEAR  \n",
       "0                        0.0                         1.0  \n",
       "1                        0.0                         0.0  \n",
       "2                        0.0                         0.0  \n",
       "3                        0.0                         0.0  \n",
       "4                        0.0                         0.0  \n",
       "\n",
       "[5 rows x 70 columns]"
      ]
     },
     "execution_count": 20,
     "metadata": {},
     "output_type": "execute_result"
    }
   ],
   "source": [
    "X.head()"
   ]
  },
  {
   "cell_type": "code",
   "execution_count": 21,
   "metadata": {},
   "outputs": [
    {
     "data": {
      "text/plain": [
       "(307220, 70)"
      ]
     },
     "execution_count": 21,
     "metadata": {},
     "output_type": "execute_result"
    }
   ],
   "source": [
    "X.shape"
   ]
  },
  {
   "cell_type": "code",
   "execution_count": 22,
   "metadata": {},
   "outputs": [
    {
     "data": {
      "text/plain": [
       "(215054,)"
      ]
     },
     "execution_count": 22,
     "metadata": {},
     "output_type": "execute_result"
    }
   ],
   "source": [
    "y_train.shape"
   ]
  },
  {
   "cell_type": "code",
   "execution_count": 23,
   "metadata": {},
   "outputs": [
    {
     "data": {
      "text/plain": [
       "(92166,)"
      ]
     },
     "execution_count": 23,
     "metadata": {},
     "output_type": "execute_result"
    }
   ],
   "source": [
    "y_test.shape"
   ]
  },
  {
   "cell_type": "code",
   "execution_count": 24,
   "metadata": {},
   "outputs": [
    {
     "data": {
      "text/plain": [
       "(215054, 70)"
      ]
     },
     "execution_count": 24,
     "metadata": {},
     "output_type": "execute_result"
    }
   ],
   "source": [
    "trainset(X).shape"
   ]
  },
  {
   "cell_type": "code",
   "execution_count": 25,
   "metadata": {},
   "outputs": [
    {
     "data": {
      "text/html": [
       "<div>\n",
       "<style scoped>\n",
       "    .dataframe tbody tr th:only-of-type {\n",
       "        vertical-align: middle;\n",
       "    }\n",
       "\n",
       "    .dataframe tbody tr th {\n",
       "        vertical-align: top;\n",
       "    }\n",
       "\n",
       "    .dataframe thead th {\n",
       "        text-align: right;\n",
       "    }\n",
       "</style>\n",
       "<table border=\"1\" class=\"dataframe\">\n",
       "  <thead>\n",
       "    <tr style=\"text-align: right;\">\n",
       "      <th></th>\n",
       "      <th>SK_ID_CURR</th>\n",
       "      <th>CNT_CHILDREN</th>\n",
       "      <th>AMT_INCOME_TOTAL</th>\n",
       "      <th>AMT_CREDIT</th>\n",
       "      <th>AMT_ANNUITY</th>\n",
       "      <th>AMT_GOODS_PRICE</th>\n",
       "      <th>REGION_POPULATION_RELATIVE</th>\n",
       "      <th>DAYS_BIRTH</th>\n",
       "      <th>DAYS_EMPLOYED</th>\n",
       "      <th>DAYS_REGISTRATION</th>\n",
       "      <th>...</th>\n",
       "      <th>FLAG_DOCUMENT_18</th>\n",
       "      <th>FLAG_DOCUMENT_19</th>\n",
       "      <th>FLAG_DOCUMENT_20</th>\n",
       "      <th>FLAG_DOCUMENT_21</th>\n",
       "      <th>AMT_REQ_CREDIT_BUREAU_HOUR</th>\n",
       "      <th>AMT_REQ_CREDIT_BUREAU_DAY</th>\n",
       "      <th>AMT_REQ_CREDIT_BUREAU_WEEK</th>\n",
       "      <th>AMT_REQ_CREDIT_BUREAU_MON</th>\n",
       "      <th>AMT_REQ_CREDIT_BUREAU_QRT</th>\n",
       "      <th>AMT_REQ_CREDIT_BUREAU_YEAR</th>\n",
       "    </tr>\n",
       "  </thead>\n",
       "  <tbody>\n",
       "    <tr>\n",
       "      <th>count</th>\n",
       "      <td>307220.000000</td>\n",
       "      <td>307220.000000</td>\n",
       "      <td>3.072200e+05</td>\n",
       "      <td>3.072200e+05</td>\n",
       "      <td>307220.000000</td>\n",
       "      <td>3.072200e+05</td>\n",
       "      <td>307220.000000</td>\n",
       "      <td>307220.000000</td>\n",
       "      <td>307220.000000</td>\n",
       "      <td>307220.000000</td>\n",
       "      <td>...</td>\n",
       "      <td>307220.000000</td>\n",
       "      <td>307220.000000</td>\n",
       "      <td>307220.000000</td>\n",
       "      <td>307220.000000</td>\n",
       "      <td>307220.00000</td>\n",
       "      <td>307220.000000</td>\n",
       "      <td>307220.000000</td>\n",
       "      <td>307220.000000</td>\n",
       "      <td>307220.000000</td>\n",
       "      <td>307220.000000</td>\n",
       "    </tr>\n",
       "    <tr>\n",
       "      <th>mean</th>\n",
       "      <td>278171.250368</td>\n",
       "      <td>0.416978</td>\n",
       "      <td>1.688327e+05</td>\n",
       "      <td>5.993174e+05</td>\n",
       "      <td>27120.456294</td>\n",
       "      <td>5.383983e+05</td>\n",
       "      <td>0.020870</td>\n",
       "      <td>-16038.811428</td>\n",
       "      <td>63851.304010</td>\n",
       "      <td>-4986.328699</td>\n",
       "      <td>...</td>\n",
       "      <td>0.008134</td>\n",
       "      <td>0.000596</td>\n",
       "      <td>0.000508</td>\n",
       "      <td>0.000329</td>\n",
       "      <td>0.00554</td>\n",
       "      <td>0.006061</td>\n",
       "      <td>0.029728</td>\n",
       "      <td>0.231404</td>\n",
       "      <td>0.229682</td>\n",
       "      <td>1.643708</td>\n",
       "    </tr>\n",
       "    <tr>\n",
       "      <th>std</th>\n",
       "      <td>102788.220340</td>\n",
       "      <td>0.722048</td>\n",
       "      <td>2.372203e+05</td>\n",
       "      <td>4.025198e+05</td>\n",
       "      <td>14492.130232</td>\n",
       "      <td>3.694486e+05</td>\n",
       "      <td>0.013832</td>\n",
       "      <td>4363.839034</td>\n",
       "      <td>141306.101586</td>\n",
       "      <td>3523.145205</td>\n",
       "      <td>...</td>\n",
       "      <td>0.089823</td>\n",
       "      <td>0.024399</td>\n",
       "      <td>0.022528</td>\n",
       "      <td>0.018129</td>\n",
       "      <td>0.07803</td>\n",
       "      <td>0.103086</td>\n",
       "      <td>0.190760</td>\n",
       "      <td>0.857088</td>\n",
       "      <td>0.744252</td>\n",
       "      <td>1.855939</td>\n",
       "    </tr>\n",
       "    <tr>\n",
       "      <th>min</th>\n",
       "      <td>100002.000000</td>\n",
       "      <td>0.000000</td>\n",
       "      <td>2.565000e+04</td>\n",
       "      <td>4.500000e+04</td>\n",
       "      <td>1615.500000</td>\n",
       "      <td>4.050000e+04</td>\n",
       "      <td>0.000290</td>\n",
       "      <td>-25229.000000</td>\n",
       "      <td>-17912.000000</td>\n",
       "      <td>-24672.000000</td>\n",
       "      <td>...</td>\n",
       "      <td>0.000000</td>\n",
       "      <td>0.000000</td>\n",
       "      <td>0.000000</td>\n",
       "      <td>0.000000</td>\n",
       "      <td>0.00000</td>\n",
       "      <td>0.000000</td>\n",
       "      <td>0.000000</td>\n",
       "      <td>0.000000</td>\n",
       "      <td>0.000000</td>\n",
       "      <td>0.000000</td>\n",
       "    </tr>\n",
       "    <tr>\n",
       "      <th>25%</th>\n",
       "      <td>189141.750000</td>\n",
       "      <td>0.000000</td>\n",
       "      <td>1.125000e+05</td>\n",
       "      <td>2.700000e+05</td>\n",
       "      <td>16551.000000</td>\n",
       "      <td>2.385000e+05</td>\n",
       "      <td>0.010006</td>\n",
       "      <td>-19684.000000</td>\n",
       "      <td>-2760.000000</td>\n",
       "      <td>-7480.000000</td>\n",
       "      <td>...</td>\n",
       "      <td>0.000000</td>\n",
       "      <td>0.000000</td>\n",
       "      <td>0.000000</td>\n",
       "      <td>0.000000</td>\n",
       "      <td>0.00000</td>\n",
       "      <td>0.000000</td>\n",
       "      <td>0.000000</td>\n",
       "      <td>0.000000</td>\n",
       "      <td>0.000000</td>\n",
       "      <td>0.000000</td>\n",
       "    </tr>\n",
       "    <tr>\n",
       "      <th>50%</th>\n",
       "      <td>278194.500000</td>\n",
       "      <td>0.000000</td>\n",
       "      <td>1.485000e+05</td>\n",
       "      <td>5.146020e+05</td>\n",
       "      <td>24916.500000</td>\n",
       "      <td>4.500000e+05</td>\n",
       "      <td>0.018850</td>\n",
       "      <td>-15753.000000</td>\n",
       "      <td>-1213.000000</td>\n",
       "      <td>-4504.000000</td>\n",
       "      <td>...</td>\n",
       "      <td>0.000000</td>\n",
       "      <td>0.000000</td>\n",
       "      <td>0.000000</td>\n",
       "      <td>0.000000</td>\n",
       "      <td>0.00000</td>\n",
       "      <td>0.000000</td>\n",
       "      <td>0.000000</td>\n",
       "      <td>0.000000</td>\n",
       "      <td>0.000000</td>\n",
       "      <td>1.000000</td>\n",
       "    </tr>\n",
       "    <tr>\n",
       "      <th>75%</th>\n",
       "      <td>367126.250000</td>\n",
       "      <td>1.000000</td>\n",
       "      <td>2.025000e+05</td>\n",
       "      <td>8.086500e+05</td>\n",
       "      <td>34596.000000</td>\n",
       "      <td>6.795000e+05</td>\n",
       "      <td>0.028663</td>\n",
       "      <td>-12415.000000</td>\n",
       "      <td>-289.000000</td>\n",
       "      <td>-2009.750000</td>\n",
       "      <td>...</td>\n",
       "      <td>0.000000</td>\n",
       "      <td>0.000000</td>\n",
       "      <td>0.000000</td>\n",
       "      <td>0.000000</td>\n",
       "      <td>0.00000</td>\n",
       "      <td>0.000000</td>\n",
       "      <td>0.000000</td>\n",
       "      <td>0.000000</td>\n",
       "      <td>0.000000</td>\n",
       "      <td>3.000000</td>\n",
       "    </tr>\n",
       "    <tr>\n",
       "      <th>max</th>\n",
       "      <td>456255.000000</td>\n",
       "      <td>19.000000</td>\n",
       "      <td>1.170000e+08</td>\n",
       "      <td>4.050000e+06</td>\n",
       "      <td>258025.500000</td>\n",
       "      <td>4.050000e+06</td>\n",
       "      <td>0.072508</td>\n",
       "      <td>-7489.000000</td>\n",
       "      <td>365243.000000</td>\n",
       "      <td>0.000000</td>\n",
       "      <td>...</td>\n",
       "      <td>1.000000</td>\n",
       "      <td>1.000000</td>\n",
       "      <td>1.000000</td>\n",
       "      <td>1.000000</td>\n",
       "      <td>4.00000</td>\n",
       "      <td>9.000000</td>\n",
       "      <td>8.000000</td>\n",
       "      <td>27.000000</td>\n",
       "      <td>261.000000</td>\n",
       "      <td>25.000000</td>\n",
       "    </tr>\n",
       "  </tbody>\n",
       "</table>\n",
       "<p>8 rows × 59 columns</p>\n",
       "</div>"
      ],
      "text/plain": [
       "          SK_ID_CURR   CNT_CHILDREN  AMT_INCOME_TOTAL    AMT_CREDIT  \\\n",
       "count  307220.000000  307220.000000      3.072200e+05  3.072200e+05   \n",
       "mean   278171.250368       0.416978      1.688327e+05  5.993174e+05   \n",
       "std    102788.220340       0.722048      2.372203e+05  4.025198e+05   \n",
       "min    100002.000000       0.000000      2.565000e+04  4.500000e+04   \n",
       "25%    189141.750000       0.000000      1.125000e+05  2.700000e+05   \n",
       "50%    278194.500000       0.000000      1.485000e+05  5.146020e+05   \n",
       "75%    367126.250000       1.000000      2.025000e+05  8.086500e+05   \n",
       "max    456255.000000      19.000000      1.170000e+08  4.050000e+06   \n",
       "\n",
       "         AMT_ANNUITY  AMT_GOODS_PRICE  REGION_POPULATION_RELATIVE  \\\n",
       "count  307220.000000     3.072200e+05               307220.000000   \n",
       "mean    27120.456294     5.383983e+05                    0.020870   \n",
       "std     14492.130232     3.694486e+05                    0.013832   \n",
       "min      1615.500000     4.050000e+04                    0.000290   \n",
       "25%     16551.000000     2.385000e+05                    0.010006   \n",
       "50%     24916.500000     4.500000e+05                    0.018850   \n",
       "75%     34596.000000     6.795000e+05                    0.028663   \n",
       "max    258025.500000     4.050000e+06                    0.072508   \n",
       "\n",
       "          DAYS_BIRTH  DAYS_EMPLOYED  DAYS_REGISTRATION  ...  FLAG_DOCUMENT_18  \\\n",
       "count  307220.000000  307220.000000      307220.000000  ...     307220.000000   \n",
       "mean   -16038.811428   63851.304010       -4986.328699  ...          0.008134   \n",
       "std      4363.839034  141306.101586        3523.145205  ...          0.089823   \n",
       "min    -25229.000000  -17912.000000      -24672.000000  ...          0.000000   \n",
       "25%    -19684.000000   -2760.000000       -7480.000000  ...          0.000000   \n",
       "50%    -15753.000000   -1213.000000       -4504.000000  ...          0.000000   \n",
       "75%    -12415.000000    -289.000000       -2009.750000  ...          0.000000   \n",
       "max     -7489.000000  365243.000000           0.000000  ...          1.000000   \n",
       "\n",
       "       FLAG_DOCUMENT_19  FLAG_DOCUMENT_20  FLAG_DOCUMENT_21  \\\n",
       "count     307220.000000     307220.000000     307220.000000   \n",
       "mean           0.000596          0.000508          0.000329   \n",
       "std            0.024399          0.022528          0.018129   \n",
       "min            0.000000          0.000000          0.000000   \n",
       "25%            0.000000          0.000000          0.000000   \n",
       "50%            0.000000          0.000000          0.000000   \n",
       "75%            0.000000          0.000000          0.000000   \n",
       "max            1.000000          1.000000          1.000000   \n",
       "\n",
       "       AMT_REQ_CREDIT_BUREAU_HOUR  AMT_REQ_CREDIT_BUREAU_DAY  \\\n",
       "count                307220.00000              307220.000000   \n",
       "mean                      0.00554                   0.006061   \n",
       "std                       0.07803                   0.103086   \n",
       "min                       0.00000                   0.000000   \n",
       "25%                       0.00000                   0.000000   \n",
       "50%                       0.00000                   0.000000   \n",
       "75%                       0.00000                   0.000000   \n",
       "max                       4.00000                   9.000000   \n",
       "\n",
       "       AMT_REQ_CREDIT_BUREAU_WEEK  AMT_REQ_CREDIT_BUREAU_MON  \\\n",
       "count               307220.000000              307220.000000   \n",
       "mean                     0.029728                   0.231404   \n",
       "std                      0.190760                   0.857088   \n",
       "min                      0.000000                   0.000000   \n",
       "25%                      0.000000                   0.000000   \n",
       "50%                      0.000000                   0.000000   \n",
       "75%                      0.000000                   0.000000   \n",
       "max                      8.000000                  27.000000   \n",
       "\n",
       "       AMT_REQ_CREDIT_BUREAU_QRT  AMT_REQ_CREDIT_BUREAU_YEAR  \n",
       "count              307220.000000               307220.000000  \n",
       "mean                    0.229682                    1.643708  \n",
       "std                     0.744252                    1.855939  \n",
       "min                     0.000000                    0.000000  \n",
       "25%                     0.000000                    0.000000  \n",
       "50%                     0.000000                    1.000000  \n",
       "75%                     0.000000                    3.000000  \n",
       "max                   261.000000                   25.000000  \n",
       "\n",
       "[8 rows x 59 columns]"
      ]
     },
     "execution_count": 25,
     "metadata": {},
     "output_type": "execute_result"
    }
   ],
   "source": [
    "X.describe()"
   ]
  },
  {
   "cell_type": "markdown",
   "metadata": {},
   "source": [
    "## Imputation de valeurs manquantes"
   ]
  },
  {
   "cell_type": "code",
   "execution_count": 26,
   "metadata": {},
   "outputs": [],
   "source": [
    "X.fillna(value = {\"EXT_SOURCE_2\" : trainset(X)[\"EXT_SOURCE_2\"].quantile(0.5)}, \n",
    "         inplace = True)"
   ]
  },
  {
   "cell_type": "markdown",
   "metadata": {},
   "source": [
    "## Duplicats"
   ]
  },
  {
   "cell_type": "code",
   "execution_count": 27,
   "metadata": {},
   "outputs": [
    {
     "name": "stdout",
     "output_type": "stream",
     "text": [
      "Suppression de 0 duplicats\n"
     ]
    }
   ],
   "source": [
    "nrows_prev = X.shape[0]\n",
    "X.drop_duplicates(subset = \"SK_ID_CURR\", inplace = True)\n",
    "print(\"Suppression de {} duplicats\".format(X.shape[0] - nrows_prev))"
   ]
  },
  {
   "cell_type": "markdown",
   "metadata": {},
   "source": [
    "# Fusion avec autres tables - Données statiques"
   ]
  },
  {
   "cell_type": "markdown",
   "metadata": {},
   "source": [
    "## Fusion avec POS_CASH_balance"
   ]
  },
  {
   "cell_type": "code",
   "execution_count": 28,
   "metadata": {},
   "outputs": [],
   "source": [
    "SK_DPD_DEF_min = POS_CASH_balance.loc[:, [\"SK_ID_CURR\", \"SK_DPD_DEF\"]].groupby(by = \"SK_ID_CURR\").min()\n",
    "SK_DPD_DEF_min.rename(columns = {\"SK_DPD_DEF\" : \"SK_DPD_DEF_min\"}, inplace = True)"
   ]
  },
  {
   "cell_type": "code",
   "execution_count": 29,
   "metadata": {},
   "outputs": [],
   "source": [
    "SK_DPD_DEF_max = POS_CASH_balance.loc[:, [\"SK_ID_CURR\", \"SK_DPD_DEF\"]].groupby(by = \"SK_ID_CURR\").max()\n",
    "SK_DPD_DEF_max.rename(columns = {\"SK_DPD_DEF\" : \"SK_DPD_DEF_max\"}, inplace = True)"
   ]
  },
  {
   "cell_type": "code",
   "execution_count": 30,
   "metadata": {},
   "outputs": [],
   "source": [
    "SK_DPD_DEF_med = POS_CASH_balance.loc[:, [\"SK_ID_CURR\", \"SK_DPD_DEF\"]].groupby(by = \"SK_ID_CURR\").agg(lambda X: np.quantile(X, 0.5))\n",
    "SK_DPD_DEF_med.rename(columns = {\"SK_DPD_DEF\" : \"SK_DPD_DEF_med\"}, inplace = True)"
   ]
  },
  {
   "cell_type": "code",
   "execution_count": 31,
   "metadata": {},
   "outputs": [],
   "source": [
    "SK_DPD_DEF_charac = pd.merge(SK_DPD_DEF_min, SK_DPD_DEF_max, on = \"SK_ID_CURR\", how = \"outer\")\n",
    "SK_DPD_DEF_charac = pd.merge(SK_DPD_DEF_charac, SK_DPD_DEF_med, on = \"SK_ID_CURR\", how = \"outer\")"
   ]
  },
  {
   "cell_type": "code",
   "execution_count": 32,
   "metadata": {},
   "outputs": [],
   "source": [
    "X = pd.merge(X, SK_DPD_DEF_charac, on = \"SK_ID_CURR\", how = \"left\")"
   ]
  },
  {
   "cell_type": "code",
   "execution_count": 33,
   "metadata": {},
   "outputs": [],
   "source": [
    "X.fillna(value = {\"SK_DPD_DEF_min\" : trainset(X)[\"SK_DPD_DEF_min\"].quantile(0.5),\n",
    "                 \"SK_DPD_DEF_max\" : trainset(X)[\"SK_DPD_DEF_max\"].quantile(0.5),\n",
    "                 \"SK_DPD_DEF_med\" : trainset(X)[\"SK_DPD_DEF_med\"].quantile(0.5)}, \n",
    "         inplace = True)"
   ]
  },
  {
   "cell_type": "markdown",
   "metadata": {},
   "source": [
    "## Fusion avec previous_application"
   ]
  },
  {
   "cell_type": "code",
   "execution_count": 34,
   "metadata": {},
   "outputs": [],
   "source": [
    "loan_history = previous_application.loc[:, [\"SK_ID_CURR\", \"AMT_CREDIT\"]].groupby(by = \"SK_ID_CURR\").sum()\n",
    "loan_history.rename(columns = {\"AMT_CREDIT\" : \"TOTAL_AMT_CREDIT\"}, inplace = True)"
   ]
  },
  {
   "cell_type": "code",
   "execution_count": 35,
   "metadata": {},
   "outputs": [],
   "source": [
    "X = pd.merge(X, loan_history, on = \"SK_ID_CURR\", how = \"left\")"
   ]
  },
  {
   "cell_type": "code",
   "execution_count": 36,
   "metadata": {},
   "outputs": [],
   "source": [
    "X.fillna(value = {\"TOTAL_AMT_CREDIT\" : 0}, inplace = True)"
   ]
  },
  {
   "cell_type": "markdown",
   "metadata": {},
   "source": [
    "## Fusion avec bureau"
   ]
  },
  {
   "cell_type": "code",
   "execution_count": 37,
   "metadata": {},
   "outputs": [
    {
     "data": {
      "text/plain": [
       "<matplotlib.axes._subplots.AxesSubplot at 0x1d1756bf400>"
      ]
     },
     "execution_count": 37,
     "metadata": {},
     "output_type": "execute_result"
    },
    {
     "data": {
      "image/png": "[encoded data removed]",
      "text/plain": [
       "<Figure size 1728x720 with 3 Axes>"
      ]
     },
     "metadata": {
      "needs_background": "light"
     },
     "output_type": "display_data"
    }
   ],
   "source": [
    "msno.bar(bureau)"
   ]
  },
  {
   "cell_type": "code",
   "execution_count": 38,
   "metadata": {},
   "outputs": [],
   "source": [
    "def numstats(df, group_var, df_name):\n",
    "\n",
    "    # Remove id variables other than grouping variable\n",
    "    for col in df:\n",
    "        if col != group_var and 'SK_ID' in col:\n",
    "            df = df.drop(columns = col)\n",
    "            \n",
    "    group_ids = df[group_var]\n",
    "    numeric_df = df.select_dtypes('number')\n",
    "    numeric_df[group_var] = group_ids\n",
    "\n",
    "    # Group by the specified variable and calculate the statistics\n",
    "    agg = numeric_df.groupby(group_var).agg(['count', 'mean', 'max', 'min', 'sum']).reset_index()\n",
    "\n",
    "    # Need to create new column names\n",
    "    columns = [group_var]\n",
    "\n",
    "    # Iterate through the variables names\n",
    "    for var in agg.columns.levels[0]:\n",
    "        # Skip the grouping variable\n",
    "        if var != group_var:\n",
    "            # Iterate through the stat names\n",
    "            for stat in agg.columns.levels[1][:-1]:\n",
    "                # Make a new column name for the variable and stat\n",
    "                columns.append('%s_%s_%s' % (df_name, var, stat))\n",
    "\n",
    "    agg.columns = columns\n",
    "    return agg\n",
    "\n",
    "def catstats(df, group_var, df_name):\n",
    " \n",
    "    # Select the categorical columns\n",
    "    categorical = pd.get_dummies(df.select_dtypes('object'))\n",
    "\n",
    "    # Make sure to put the identifying id on the column\n",
    "    categorical[group_var] = df[group_var]\n",
    "\n",
    "    # Groupby the group var and calculate the sum and mean\n",
    "    categorical = categorical.groupby(group_var).agg(['sum', 'mean'])\n",
    "    \n",
    "    column_names = []\n",
    "    \n",
    "    # Iterate through the columns in level 0\n",
    "    for var in categorical.columns.levels[0]:\n",
    "        # Iterate through the stats in level 1\n",
    "        for stat in ['count', 'count_norm']:\n",
    "            # Make a new column name\n",
    "            column_names.append('%s_%s_%s' % (df_name, var, stat))\n",
    "    \n",
    "    categorical.columns = column_names\n",
    "    \n",
    "    return categorical"
   ]
  },
  {
   "cell_type": "code",
   "execution_count": 39,
   "metadata": {},
   "outputs": [
    {
     "data": {
      "text/html": [
       "<div>\n",
       "<style scoped>\n",
       "    .dataframe tbody tr th:only-of-type {\n",
       "        vertical-align: middle;\n",
       "    }\n",
       "\n",
       "    .dataframe tbody tr th {\n",
       "        vertical-align: top;\n",
       "    }\n",
       "\n",
       "    .dataframe thead th {\n",
       "        text-align: right;\n",
       "    }\n",
       "</style>\n",
       "<table border=\"1\" class=\"dataframe\">\n",
       "  <thead>\n",
       "    <tr style=\"text-align: right;\">\n",
       "      <th></th>\n",
       "      <th>SK_ID_CURR</th>\n",
       "      <th>bureau_DAYS_CREDIT_count</th>\n",
       "      <th>bureau_DAYS_CREDIT_mean</th>\n",
       "      <th>bureau_DAYS_CREDIT_max</th>\n",
       "      <th>bureau_DAYS_CREDIT_min</th>\n",
       "      <th>bureau_DAYS_CREDIT_sum</th>\n",
       "      <th>bureau_CREDIT_DAY_OVERDUE_count</th>\n",
       "      <th>bureau_CREDIT_DAY_OVERDUE_mean</th>\n",
       "      <th>bureau_CREDIT_DAY_OVERDUE_max</th>\n",
       "      <th>bureau_CREDIT_DAY_OVERDUE_min</th>\n",
       "      <th>...</th>\n",
       "      <th>bureau_DAYS_CREDIT_UPDATE_count</th>\n",
       "      <th>bureau_DAYS_CREDIT_UPDATE_mean</th>\n",
       "      <th>bureau_DAYS_CREDIT_UPDATE_max</th>\n",
       "      <th>bureau_DAYS_CREDIT_UPDATE_min</th>\n",
       "      <th>bureau_DAYS_CREDIT_UPDATE_sum</th>\n",
       "      <th>bureau_AMT_ANNUITY_count</th>\n",
       "      <th>bureau_AMT_ANNUITY_mean</th>\n",
       "      <th>bureau_AMT_ANNUITY_max</th>\n",
       "      <th>bureau_AMT_ANNUITY_min</th>\n",
       "      <th>bureau_AMT_ANNUITY_sum</th>\n",
       "    </tr>\n",
       "  </thead>\n",
       "  <tbody>\n",
       "    <tr>\n",
       "      <th>0</th>\n",
       "      <td>100001</td>\n",
       "      <td>7</td>\n",
       "      <td>-735.000000</td>\n",
       "      <td>-49</td>\n",
       "      <td>-1572</td>\n",
       "      <td>-5145</td>\n",
       "      <td>7</td>\n",
       "      <td>0.0</td>\n",
       "      <td>0</td>\n",
       "      <td>0</td>\n",
       "      <td>...</td>\n",
       "      <td>7</td>\n",
       "      <td>-93.142857</td>\n",
       "      <td>-6</td>\n",
       "      <td>-155</td>\n",
       "      <td>-652</td>\n",
       "      <td>7</td>\n",
       "      <td>3545.357143</td>\n",
       "      <td>10822.5</td>\n",
       "      <td>0.0</td>\n",
       "      <td>24817.5</td>\n",
       "    </tr>\n",
       "    <tr>\n",
       "      <th>1</th>\n",
       "      <td>100002</td>\n",
       "      <td>8</td>\n",
       "      <td>-874.000000</td>\n",
       "      <td>-103</td>\n",
       "      <td>-1437</td>\n",
       "      <td>-6992</td>\n",
       "      <td>8</td>\n",
       "      <td>0.0</td>\n",
       "      <td>0</td>\n",
       "      <td>0</td>\n",
       "      <td>...</td>\n",
       "      <td>8</td>\n",
       "      <td>-499.875000</td>\n",
       "      <td>-7</td>\n",
       "      <td>-1185</td>\n",
       "      <td>-3999</td>\n",
       "      <td>7</td>\n",
       "      <td>0.000000</td>\n",
       "      <td>0.0</td>\n",
       "      <td>0.0</td>\n",
       "      <td>0.0</td>\n",
       "    </tr>\n",
       "    <tr>\n",
       "      <th>2</th>\n",
       "      <td>100003</td>\n",
       "      <td>4</td>\n",
       "      <td>-1400.750000</td>\n",
       "      <td>-606</td>\n",
       "      <td>-2586</td>\n",
       "      <td>-5603</td>\n",
       "      <td>4</td>\n",
       "      <td>0.0</td>\n",
       "      <td>0</td>\n",
       "      <td>0</td>\n",
       "      <td>...</td>\n",
       "      <td>4</td>\n",
       "      <td>-816.000000</td>\n",
       "      <td>-43</td>\n",
       "      <td>-2131</td>\n",
       "      <td>-3264</td>\n",
       "      <td>0</td>\n",
       "      <td>NaN</td>\n",
       "      <td>NaN</td>\n",
       "      <td>NaN</td>\n",
       "      <td>0.0</td>\n",
       "    </tr>\n",
       "    <tr>\n",
       "      <th>3</th>\n",
       "      <td>100004</td>\n",
       "      <td>2</td>\n",
       "      <td>-867.000000</td>\n",
       "      <td>-408</td>\n",
       "      <td>-1326</td>\n",
       "      <td>-1734</td>\n",
       "      <td>2</td>\n",
       "      <td>0.0</td>\n",
       "      <td>0</td>\n",
       "      <td>0</td>\n",
       "      <td>...</td>\n",
       "      <td>2</td>\n",
       "      <td>-532.000000</td>\n",
       "      <td>-382</td>\n",
       "      <td>-682</td>\n",
       "      <td>-1064</td>\n",
       "      <td>0</td>\n",
       "      <td>NaN</td>\n",
       "      <td>NaN</td>\n",
       "      <td>NaN</td>\n",
       "      <td>0.0</td>\n",
       "    </tr>\n",
       "    <tr>\n",
       "      <th>4</th>\n",
       "      <td>100005</td>\n",
       "      <td>3</td>\n",
       "      <td>-190.666667</td>\n",
       "      <td>-62</td>\n",
       "      <td>-373</td>\n",
       "      <td>-572</td>\n",
       "      <td>3</td>\n",
       "      <td>0.0</td>\n",
       "      <td>0</td>\n",
       "      <td>0</td>\n",
       "      <td>...</td>\n",
       "      <td>3</td>\n",
       "      <td>-54.333333</td>\n",
       "      <td>-11</td>\n",
       "      <td>-121</td>\n",
       "      <td>-163</td>\n",
       "      <td>3</td>\n",
       "      <td>1420.500000</td>\n",
       "      <td>4261.5</td>\n",
       "      <td>0.0</td>\n",
       "      <td>4261.5</td>\n",
       "    </tr>\n",
       "  </tbody>\n",
       "</table>\n",
       "<p>5 rows × 61 columns</p>\n",
       "</div>"
      ],
      "text/plain": [
       "   SK_ID_CURR  bureau_DAYS_CREDIT_count  bureau_DAYS_CREDIT_mean  \\\n",
       "0      100001                         7              -735.000000   \n",
       "1      100002                         8              -874.000000   \n",
       "2      100003                         4             -1400.750000   \n",
       "3      100004                         2              -867.000000   \n",
       "4      100005                         3              -190.666667   \n",
       "\n",
       "   bureau_DAYS_CREDIT_max  bureau_DAYS_CREDIT_min  bureau_DAYS_CREDIT_sum  \\\n",
       "0                     -49                   -1572                   -5145   \n",
       "1                    -103                   -1437                   -6992   \n",
       "2                    -606                   -2586                   -5603   \n",
       "3                    -408                   -1326                   -1734   \n",
       "4                     -62                    -373                    -572   \n",
       "\n",
       "   bureau_CREDIT_DAY_OVERDUE_count  bureau_CREDIT_DAY_OVERDUE_mean  \\\n",
       "0                                7                             0.0   \n",
       "1                                8                             0.0   \n",
       "2                                4                             0.0   \n",
       "3                                2                             0.0   \n",
       "4                                3                             0.0   \n",
       "\n",
       "   bureau_CREDIT_DAY_OVERDUE_max  bureau_CREDIT_DAY_OVERDUE_min  ...  \\\n",
       "0                              0                              0  ...   \n",
       "1                              0                              0  ...   \n",
       "2                              0                              0  ...   \n",
       "3                              0                              0  ...   \n",
       "4                              0                              0  ...   \n",
       "\n",
       "   bureau_DAYS_CREDIT_UPDATE_count  bureau_DAYS_CREDIT_UPDATE_mean  \\\n",
       "0                                7                      -93.142857   \n",
       "1                                8                     -499.875000   \n",
       "2                                4                     -816.000000   \n",
       "3                                2                     -532.000000   \n",
       "4                                3                      -54.333333   \n",
       "\n",
       "   bureau_DAYS_CREDIT_UPDATE_max  bureau_DAYS_CREDIT_UPDATE_min  \\\n",
       "0                             -6                           -155   \n",
       "1                             -7                          -1185   \n",
       "2                            -43                          -2131   \n",
       "3                           -382                           -682   \n",
       "4                            -11                           -121   \n",
       "\n",
       "   bureau_DAYS_CREDIT_UPDATE_sum  bureau_AMT_ANNUITY_count  \\\n",
       "0                           -652                         7   \n",
       "1                          -3999                         7   \n",
       "2                          -3264                         0   \n",
       "3                          -1064                         0   \n",
       "4                           -163                         3   \n",
       "\n",
       "   bureau_AMT_ANNUITY_mean  bureau_AMT_ANNUITY_max  bureau_AMT_ANNUITY_min  \\\n",
       "0              3545.357143                 10822.5                     0.0   \n",
       "1                 0.000000                     0.0                     0.0   \n",
       "2                      NaN                     NaN                     NaN   \n",
       "3                      NaN                     NaN                     NaN   \n",
       "4              1420.500000                  4261.5                     0.0   \n",
       "\n",
       "   bureau_AMT_ANNUITY_sum  \n",
       "0                 24817.5  \n",
       "1                     0.0  \n",
       "2                     0.0  \n",
       "3                     0.0  \n",
       "4                  4261.5  \n",
       "\n",
       "[5 rows x 61 columns]"
      ]
     },
     "execution_count": 39,
     "metadata": {},
     "output_type": "execute_result"
    }
   ],
   "source": [
    "num_stats_bureau = numstats(bureau.drop(columns = ['SK_ID_BUREAU']), group_var = 'SK_ID_CURR', df_name = 'bureau')\n",
    "num_stats_bureau.head()"
   ]
  },
  {
   "cell_type": "code",
   "execution_count": 40,
   "metadata": {},
   "outputs": [
    {
     "data": {
      "text/html": [
       "<div>\n",
       "<style scoped>\n",
       "    .dataframe tbody tr th:only-of-type {\n",
       "        vertical-align: middle;\n",
       "    }\n",
       "\n",
       "    .dataframe tbody tr th {\n",
       "        vertical-align: top;\n",
       "    }\n",
       "\n",
       "    .dataframe thead th {\n",
       "        text-align: right;\n",
       "    }\n",
       "</style>\n",
       "<table border=\"1\" class=\"dataframe\">\n",
       "  <thead>\n",
       "    <tr style=\"text-align: right;\">\n",
       "      <th></th>\n",
       "      <th>bureau_CREDIT_ACTIVE_Active_count</th>\n",
       "      <th>bureau_CREDIT_ACTIVE_Active_count_norm</th>\n",
       "      <th>bureau_CREDIT_ACTIVE_Bad debt_count</th>\n",
       "      <th>bureau_CREDIT_ACTIVE_Bad debt_count_norm</th>\n",
       "      <th>bureau_CREDIT_ACTIVE_Closed_count</th>\n",
       "      <th>bureau_CREDIT_ACTIVE_Closed_count_norm</th>\n",
       "      <th>bureau_CREDIT_ACTIVE_Sold_count</th>\n",
       "      <th>bureau_CREDIT_ACTIVE_Sold_count_norm</th>\n",
       "      <th>bureau_CREDIT_CURRENCY_currency 1_count</th>\n",
       "      <th>bureau_CREDIT_CURRENCY_currency 1_count_norm</th>\n",
       "      <th>...</th>\n",
       "      <th>bureau_CREDIT_TYPE_Microloan_count</th>\n",
       "      <th>bureau_CREDIT_TYPE_Microloan_count_norm</th>\n",
       "      <th>bureau_CREDIT_TYPE_Mobile operator loan_count</th>\n",
       "      <th>bureau_CREDIT_TYPE_Mobile operator loan_count_norm</th>\n",
       "      <th>bureau_CREDIT_TYPE_Mortgage_count</th>\n",
       "      <th>bureau_CREDIT_TYPE_Mortgage_count_norm</th>\n",
       "      <th>bureau_CREDIT_TYPE_Real estate loan_count</th>\n",
       "      <th>bureau_CREDIT_TYPE_Real estate loan_count_norm</th>\n",
       "      <th>bureau_CREDIT_TYPE_Unknown type of loan_count</th>\n",
       "      <th>bureau_CREDIT_TYPE_Unknown type of loan_count_norm</th>\n",
       "    </tr>\n",
       "    <tr>\n",
       "      <th>SK_ID_CURR</th>\n",
       "      <th></th>\n",
       "      <th></th>\n",
       "      <th></th>\n",
       "      <th></th>\n",
       "      <th></th>\n",
       "      <th></th>\n",
       "      <th></th>\n",
       "      <th></th>\n",
       "      <th></th>\n",
       "      <th></th>\n",
       "      <th></th>\n",
       "      <th></th>\n",
       "      <th></th>\n",
       "      <th></th>\n",
       "      <th></th>\n",
       "      <th></th>\n",
       "      <th></th>\n",
       "      <th></th>\n",
       "      <th></th>\n",
       "      <th></th>\n",
       "      <th></th>\n",
       "    </tr>\n",
       "  </thead>\n",
       "  <tbody>\n",
       "    <tr>\n",
       "      <th>100001</th>\n",
       "      <td>3</td>\n",
       "      <td>0.428571</td>\n",
       "      <td>0</td>\n",
       "      <td>0.0</td>\n",
       "      <td>4</td>\n",
       "      <td>0.571429</td>\n",
       "      <td>0</td>\n",
       "      <td>0.0</td>\n",
       "      <td>7</td>\n",
       "      <td>1.0</td>\n",
       "      <td>...</td>\n",
       "      <td>0</td>\n",
       "      <td>0.0</td>\n",
       "      <td>0</td>\n",
       "      <td>0.0</td>\n",
       "      <td>0</td>\n",
       "      <td>0.0</td>\n",
       "      <td>0</td>\n",
       "      <td>0.0</td>\n",
       "      <td>0</td>\n",
       "      <td>0.0</td>\n",
       "    </tr>\n",
       "    <tr>\n",
       "      <th>100002</th>\n",
       "      <td>2</td>\n",
       "      <td>0.250000</td>\n",
       "      <td>0</td>\n",
       "      <td>0.0</td>\n",
       "      <td>6</td>\n",
       "      <td>0.750000</td>\n",
       "      <td>0</td>\n",
       "      <td>0.0</td>\n",
       "      <td>8</td>\n",
       "      <td>1.0</td>\n",
       "      <td>...</td>\n",
       "      <td>0</td>\n",
       "      <td>0.0</td>\n",
       "      <td>0</td>\n",
       "      <td>0.0</td>\n",
       "      <td>0</td>\n",
       "      <td>0.0</td>\n",
       "      <td>0</td>\n",
       "      <td>0.0</td>\n",
       "      <td>0</td>\n",
       "      <td>0.0</td>\n",
       "    </tr>\n",
       "    <tr>\n",
       "      <th>100003</th>\n",
       "      <td>1</td>\n",
       "      <td>0.250000</td>\n",
       "      <td>0</td>\n",
       "      <td>0.0</td>\n",
       "      <td>3</td>\n",
       "      <td>0.750000</td>\n",
       "      <td>0</td>\n",
       "      <td>0.0</td>\n",
       "      <td>4</td>\n",
       "      <td>1.0</td>\n",
       "      <td>...</td>\n",
       "      <td>0</td>\n",
       "      <td>0.0</td>\n",
       "      <td>0</td>\n",
       "      <td>0.0</td>\n",
       "      <td>0</td>\n",
       "      <td>0.0</td>\n",
       "      <td>0</td>\n",
       "      <td>0.0</td>\n",
       "      <td>0</td>\n",
       "      <td>0.0</td>\n",
       "    </tr>\n",
       "    <tr>\n",
       "      <th>100004</th>\n",
       "      <td>0</td>\n",
       "      <td>0.000000</td>\n",
       "      <td>0</td>\n",
       "      <td>0.0</td>\n",
       "      <td>2</td>\n",
       "      <td>1.000000</td>\n",
       "      <td>0</td>\n",
       "      <td>0.0</td>\n",
       "      <td>2</td>\n",
       "      <td>1.0</td>\n",
       "      <td>...</td>\n",
       "      <td>0</td>\n",
       "      <td>0.0</td>\n",
       "      <td>0</td>\n",
       "      <td>0.0</td>\n",
       "      <td>0</td>\n",
       "      <td>0.0</td>\n",
       "      <td>0</td>\n",
       "      <td>0.0</td>\n",
       "      <td>0</td>\n",
       "      <td>0.0</td>\n",
       "    </tr>\n",
       "    <tr>\n",
       "      <th>100005</th>\n",
       "      <td>2</td>\n",
       "      <td>0.666667</td>\n",
       "      <td>0</td>\n",
       "      <td>0.0</td>\n",
       "      <td>1</td>\n",
       "      <td>0.333333</td>\n",
       "      <td>0</td>\n",
       "      <td>0.0</td>\n",
       "      <td>3</td>\n",
       "      <td>1.0</td>\n",
       "      <td>...</td>\n",
       "      <td>0</td>\n",
       "      <td>0.0</td>\n",
       "      <td>0</td>\n",
       "      <td>0.0</td>\n",
       "      <td>0</td>\n",
       "      <td>0.0</td>\n",
       "      <td>0</td>\n",
       "      <td>0.0</td>\n",
       "      <td>0</td>\n",
       "      <td>0.0</td>\n",
       "    </tr>\n",
       "  </tbody>\n",
       "</table>\n",
       "<p>5 rows × 46 columns</p>\n",
       "</div>"
      ],
      "text/plain": [
       "            bureau_CREDIT_ACTIVE_Active_count  \\\n",
       "SK_ID_CURR                                      \n",
       "100001                                      3   \n",
       "100002                                      2   \n",
       "100003                                      1   \n",
       "100004                                      0   \n",
       "100005                                      2   \n",
       "\n",
       "            bureau_CREDIT_ACTIVE_Active_count_norm  \\\n",
       "SK_ID_CURR                                           \n",
       "100001                                    0.428571   \n",
       "100002                                    0.250000   \n",
       "100003                                    0.250000   \n",
       "100004                                    0.000000   \n",
       "100005                                    0.666667   \n",
       "\n",
       "            bureau_CREDIT_ACTIVE_Bad debt_count  \\\n",
       "SK_ID_CURR                                        \n",
       "100001                                        0   \n",
       "100002                                        0   \n",
       "100003                                        0   \n",
       "100004                                        0   \n",
       "100005                                        0   \n",
       "\n",
       "            bureau_CREDIT_ACTIVE_Bad debt_count_norm  \\\n",
       "SK_ID_CURR                                             \n",
       "100001                                           0.0   \n",
       "100002                                           0.0   \n",
       "100003                                           0.0   \n",
       "100004                                           0.0   \n",
       "100005                                           0.0   \n",
       "\n",
       "            bureau_CREDIT_ACTIVE_Closed_count  \\\n",
       "SK_ID_CURR                                      \n",
       "100001                                      4   \n",
       "100002                                      6   \n",
       "100003                                      3   \n",
       "100004                                      2   \n",
       "100005                                      1   \n",
       "\n",
       "            bureau_CREDIT_ACTIVE_Closed_count_norm  \\\n",
       "SK_ID_CURR                                           \n",
       "100001                                    0.571429   \n",
       "100002                                    0.750000   \n",
       "100003                                    0.750000   \n",
       "100004                                    1.000000   \n",
       "100005                                    0.333333   \n",
       "\n",
       "            bureau_CREDIT_ACTIVE_Sold_count  \\\n",
       "SK_ID_CURR                                    \n",
       "100001                                    0   \n",
       "100002                                    0   \n",
       "100003                                    0   \n",
       "100004                                    0   \n",
       "100005                                    0   \n",
       "\n",
       "            bureau_CREDIT_ACTIVE_Sold_count_norm  \\\n",
       "SK_ID_CURR                                         \n",
       "100001                                       0.0   \n",
       "100002                                       0.0   \n",
       "100003                                       0.0   \n",
       "100004                                       0.0   \n",
       "100005                                       0.0   \n",
       "\n",
       "            bureau_CREDIT_CURRENCY_currency 1_count  \\\n",
       "SK_ID_CURR                                            \n",
       "100001                                            7   \n",
       "100002                                            8   \n",
       "100003                                            4   \n",
       "100004                                            2   \n",
       "100005                                            3   \n",
       "\n",
       "            bureau_CREDIT_CURRENCY_currency 1_count_norm  ...  \\\n",
       "SK_ID_CURR                                                ...   \n",
       "100001                                               1.0  ...   \n",
       "100002                                               1.0  ...   \n",
       "100003                                               1.0  ...   \n",
       "100004                                               1.0  ...   \n",
       "100005                                               1.0  ...   \n",
       "\n",
       "            bureau_CREDIT_TYPE_Microloan_count  \\\n",
       "SK_ID_CURR                                       \n",
       "100001                                       0   \n",
       "100002                                       0   \n",
       "100003                                       0   \n",
       "100004                                       0   \n",
       "100005                                       0   \n",
       "\n",
       "            bureau_CREDIT_TYPE_Microloan_count_norm  \\\n",
       "SK_ID_CURR                                            \n",
       "100001                                          0.0   \n",
       "100002                                          0.0   \n",
       "100003                                          0.0   \n",
       "100004                                          0.0   \n",
       "100005                                          0.0   \n",
       "\n",
       "            bureau_CREDIT_TYPE_Mobile operator loan_count  \\\n",
       "SK_ID_CURR                                                  \n",
       "100001                                                  0   \n",
       "100002                                                  0   \n",
       "100003                                                  0   \n",
       "100004                                                  0   \n",
       "100005                                                  0   \n",
       "\n",
       "            bureau_CREDIT_TYPE_Mobile operator loan_count_norm  \\\n",
       "SK_ID_CURR                                                       \n",
       "100001                                                    0.0    \n",
       "100002                                                    0.0    \n",
       "100003                                                    0.0    \n",
       "100004                                                    0.0    \n",
       "100005                                                    0.0    \n",
       "\n",
       "            bureau_CREDIT_TYPE_Mortgage_count  \\\n",
       "SK_ID_CURR                                      \n",
       "100001                                      0   \n",
       "100002                                      0   \n",
       "100003                                      0   \n",
       "100004                                      0   \n",
       "100005                                      0   \n",
       "\n",
       "            bureau_CREDIT_TYPE_Mortgage_count_norm  \\\n",
       "SK_ID_CURR                                           \n",
       "100001                                         0.0   \n",
       "100002                                         0.0   \n",
       "100003                                         0.0   \n",
       "100004                                         0.0   \n",
       "100005                                         0.0   \n",
       "\n",
       "            bureau_CREDIT_TYPE_Real estate loan_count  \\\n",
       "SK_ID_CURR                                              \n",
       "100001                                              0   \n",
       "100002                                              0   \n",
       "100003                                              0   \n",
       "100004                                              0   \n",
       "100005                                              0   \n",
       "\n",
       "            bureau_CREDIT_TYPE_Real estate loan_count_norm  \\\n",
       "SK_ID_CURR                                                   \n",
       "100001                                                 0.0   \n",
       "100002                                                 0.0   \n",
       "100003                                                 0.0   \n",
       "100004                                                 0.0   \n",
       "100005                                                 0.0   \n",
       "\n",
       "            bureau_CREDIT_TYPE_Unknown type of loan_count  \\\n",
       "SK_ID_CURR                                                  \n",
       "100001                                                  0   \n",
       "100002                                                  0   \n",
       "100003                                                  0   \n",
       "100004                                                  0   \n",
       "100005                                                  0   \n",
       "\n",
       "            bureau_CREDIT_TYPE_Unknown type of loan_count_norm  \n",
       "SK_ID_CURR                                                      \n",
       "100001                                                    0.0   \n",
       "100002                                                    0.0   \n",
       "100003                                                    0.0   \n",
       "100004                                                    0.0   \n",
       "100005                                                    0.0   \n",
       "\n",
       "[5 rows x 46 columns]"
      ]
     },
     "execution_count": 40,
     "metadata": {},
     "output_type": "execute_result"
    }
   ],
   "source": [
    "cat_stats_bureau = catstats(bureau, group_var = 'SK_ID_CURR', df_name = 'bureau')\n",
    "cat_stats_bureau.head()"
   ]
  },
  {
   "cell_type": "code",
   "execution_count": 41,
   "metadata": {},
   "outputs": [
    {
     "name": "stdout",
     "output_type": "stream",
     "text": [
      "(305811, 61)\n",
      "(305811, 46)\n"
     ]
    }
   ],
   "source": [
    "print(num_stats_bureau.shape)\n",
    "print(cat_stats_bureau.shape)"
   ]
  },
  {
   "cell_type": "code",
   "execution_count": 42,
   "metadata": {},
   "outputs": [
    {
     "data": {
      "text/plain": [
       "(307220, 74)"
      ]
     },
     "execution_count": 42,
     "metadata": {},
     "output_type": "execute_result"
    }
   ],
   "source": [
    "X.shape"
   ]
  },
  {
   "cell_type": "code",
   "execution_count": 43,
   "metadata": {},
   "outputs": [],
   "source": [
    "bureau_stats = pd.merge(num_stats_bureau, cat_stats_bureau, left_on = \"SK_ID_CURR\", right_index = True, how = \"outer\")"
   ]
  },
  {
   "cell_type": "code",
   "execution_count": 44,
   "metadata": {},
   "outputs": [
    {
     "data": {
      "text/plain": [
       "(305811, 107)"
      ]
     },
     "execution_count": 44,
     "metadata": {},
     "output_type": "execute_result"
    }
   ],
   "source": [
    "bureau_stats.shape"
   ]
  },
  {
   "cell_type": "code",
   "execution_count": 45,
   "metadata": {},
   "outputs": [],
   "source": [
    "tempnan = bureau_stats.isna().sum()"
   ]
  },
  {
   "cell_type": "code",
   "execution_count": 46,
   "metadata": {},
   "outputs": [],
   "source": [
    "dropcols_bureau = tempnan[tempnan / bureau_stats.shape[0] > 0.2].index.tolist()"
   ]
  },
  {
   "cell_type": "code",
   "execution_count": 47,
   "metadata": {},
   "outputs": [],
   "source": [
    "bureau_stats.drop(columns = dropcols_bureau, inplace = True)"
   ]
  },
  {
   "cell_type": "code",
   "execution_count": 48,
   "metadata": {},
   "outputs": [],
   "source": [
    "bureau_stats.fillna(0, inplace = True)"
   ]
  },
  {
   "cell_type": "code",
   "execution_count": 49,
   "metadata": {},
   "outputs": [
    {
     "data": {
      "text/plain": [
       "<matplotlib.axes._subplots.AxesSubplot at 0x1d110944550>"
      ]
     },
     "execution_count": 49,
     "metadata": {},
     "output_type": "execute_result"
    },
    {
     "data": {
      "image/png": "[encoded data removed]",
      "text/plain": [
       "<Figure size 1728x720 with 2 Axes>"
      ]
     },
     "metadata": {
      "needs_background": "light"
     },
     "output_type": "display_data"
    }
   ],
   "source": [
    "msno.bar(bureau_stats)"
   ]
  },
  {
   "cell_type": "code",
   "execution_count": 50,
   "metadata": {},
   "outputs": [],
   "source": [
    "X = pd.merge(X, bureau_stats, on = \"SK_ID_CURR\", how = \"left\")"
   ]
  },
  {
   "cell_type": "code",
   "execution_count": 51,
   "metadata": {},
   "outputs": [],
   "source": [
    "X.fillna(0, inplace = True)"
   ]
  },
  {
   "cell_type": "markdown",
   "metadata": {},
   "source": [
    "# Table credit_card_balance - Données temporelles"
   ]
  },
  {
   "cell_type": "code",
   "execution_count": 52,
   "metadata": {},
   "outputs": [
    {
     "data": {
      "text/plain": [
       "<matplotlib.axes._subplots.AxesSubplot at 0x1d1115cd9d0>"
      ]
     },
     "execution_count": 52,
     "metadata": {},
     "output_type": "execute_result"
    },
    {
     "data": {
      "image/png": "[encoded data removed]",
      "text/plain": [
       "<Figure size 1728x720 with 3 Axes>"
      ]
     },
     "metadata": {
      "needs_background": "light"
     },
     "output_type": "display_data"
    }
   ],
   "source": [
    "msno.bar(credit_card_balance)"
   ]
  },
  {
   "cell_type": "code",
   "execution_count": 53,
   "metadata": {},
   "outputs": [],
   "source": [
    "credit_card_balance.fillna(0, inplace = True)"
   ]
  },
  {
   "cell_type": "code",
   "execution_count": 54,
   "metadata": {},
   "outputs": [
    {
     "data": {
      "text/plain": [
       "103558"
      ]
     },
     "execution_count": 54,
     "metadata": {},
     "output_type": "execute_result"
    }
   ],
   "source": [
    "len(credit_card_balance[\"SK_ID_CURR\"].unique())"
   ]
  },
  {
   "cell_type": "code",
   "execution_count": 55,
   "metadata": {},
   "outputs": [],
   "source": [
    "credit_card_balance.drop(columns = \"SK_ID_PREV\", inplace = True)"
   ]
  },
  {
   "cell_type": "code",
   "execution_count": 56,
   "metadata": {},
   "outputs": [],
   "source": [
    "X_temporal = pd.merge(X, credit_card_balance, on = \"SK_ID_CURR\", how = \"left\")"
   ]
  },
  {
   "cell_type": "code",
   "execution_count": 57,
   "metadata": {},
   "outputs": [],
   "source": [
    "X_temporal.sort_values([\"SK_ID_CURR\", \"MONTHS_BALANCE\"], inplace = True)"
   ]
  },
  {
   "cell_type": "code",
   "execution_count": 58,
   "metadata": {},
   "outputs": [
    {
     "data": {
      "text/plain": [
       "<matplotlib.axes._subplots.AxesSubplot at 0x1d1131706d0>"
      ]
     },
     "execution_count": 58,
     "metadata": {},
     "output_type": "execute_result"
    },
    {
     "data": {
      "image/png": "[encoded data removed]",
      "text/plain": [
       "<Figure size 1728x720 with 2 Axes>"
      ]
     },
     "metadata": {
      "needs_background": "light"
     },
     "output_type": "display_data"
    }
   ],
   "source": [
    "msno.bar(X_temporal)"
   ]
  },
  {
   "cell_type": "code",
   "execution_count": 59,
   "metadata": {},
   "outputs": [],
   "source": [
    "fillna_values2 = {}\n",
    "for colname in ['AMT_BALANCE', 'AMT_CREDIT_LIMIT_ACTUAL', 'AMT_DRAWINGS_ATM_CURRENT','AMT_DRAWINGS_CURRENT', \n",
    "             'AMT_DRAWINGS_OTHER_CURRENT', 'AMT_DRAWINGS_POS_CURRENT', 'AMT_INST_MIN_REGULARITY', 'AMT_PAYMENT_CURRENT', \n",
    "             'AMT_PAYMENT_TOTAL_CURRENT', 'AMT_RECEIVABLE_PRINCIPAL', 'AMT_RECIVABLE', 'AMT_TOTAL_RECEIVABLE', 'CNT_DRAWINGS_ATM_CURRENT', \n",
    "             'CNT_DRAWINGS_CURRENT', 'CNT_DRAWINGS_OTHER_CURRENT', 'CNT_DRAWINGS_POS_CURRENT', 'CNT_INSTALMENT_MATURE_CUM', \n",
    "             'SK_DPD', 'SK_DPD_DEF']:\n",
    "    fillna_values2[colname] = 0\n",
    "fillna_values2['MONTHS_BALANCE'] = -1\n",
    "fillna_values2['NAME_CONTRACT_STATUS'] = \"Active\""
   ]
  },
  {
   "cell_type": "code",
   "execution_count": 60,
   "metadata": {},
   "outputs": [],
   "source": [
    "X_temporal.fillna(value = fillna_values2, inplace = True)"
   ]
  },
  {
   "cell_type": "markdown",
   "metadata": {},
   "source": [
    "## Portée des mois d'observation"
   ]
  },
  {
   "cell_type": "code",
   "execution_count": 61,
   "metadata": {},
   "outputs": [
    {
     "data": {
      "text/plain": [
       "-96.0"
      ]
     },
     "execution_count": 61,
     "metadata": {},
     "output_type": "execute_result"
    }
   ],
   "source": [
    "X_temporal[\"MONTHS_BALANCE\"].min()"
   ]
  },
  {
   "cell_type": "code",
   "execution_count": 62,
   "metadata": {},
   "outputs": [
    {
     "data": {
      "text/plain": [
       "-1.0"
      ]
     },
     "execution_count": 62,
     "metadata": {},
     "output_type": "execute_result"
    }
   ],
   "source": [
    "X_temporal[\"MONTHS_BALANCE\"].max()"
   ]
  },
  {
   "cell_type": "markdown",
   "metadata": {},
   "source": [
    "## Encodage de Name_contract_status"
   ]
  },
  {
   "cell_type": "code",
   "execution_count": 63,
   "metadata": {},
   "outputs": [
    {
     "data": {
      "text/plain": [
       "LabelEncoder()"
      ]
     },
     "execution_count": 63,
     "metadata": {},
     "output_type": "execute_result"
    }
   ],
   "source": [
    "le_NCS = preprocessing.LabelEncoder()\n",
    "le_NCS.fit(X_temporal['NAME_CONTRACT_STATUS'])"
   ]
  },
  {
   "cell_type": "code",
   "execution_count": 64,
   "metadata": {},
   "outputs": [],
   "source": [
    "X_temporal['NAME_CONTRACT_STATUS'] = le_NCS.transform(X_temporal['NAME_CONTRACT_STATUS'])"
   ]
  },
  {
   "cell_type": "markdown",
   "metadata": {},
   "source": [
    "## Création des batch : fonctionnement de la fonction *create_batch*"
   ]
  },
  {
   "cell_type": "code",
   "execution_count": 65,
   "metadata": {},
   "outputs": [],
   "source": [
    "temporal_cols = ['SK_ID_CURR', 'MONTHS_BALANCE', 'AMT_BALANCE', 'AMT_CREDIT_LIMIT_ACTUAL', 'AMT_DRAWINGS_ATM_CURRENT','AMT_DRAWINGS_CURRENT', \n",
    "             'AMT_DRAWINGS_OTHER_CURRENT', 'AMT_DRAWINGS_POS_CURRENT', 'AMT_INST_MIN_REGULARITY', 'AMT_PAYMENT_CURRENT', \n",
    "             'AMT_PAYMENT_TOTAL_CURRENT', 'AMT_RECEIVABLE_PRINCIPAL', 'AMT_RECIVABLE', 'AMT_TOTAL_RECEIVABLE', 'CNT_DRAWINGS_ATM_CURRENT', \n",
    "             'CNT_DRAWINGS_CURRENT', 'CNT_DRAWINGS_OTHER_CURRENT', 'CNT_DRAWINGS_POS_CURRENT', 'CNT_INSTALMENT_MATURE_CUM', \n",
    "                 'SK_DPD', 'SK_DPD_DEF']"
   ]
  },
  {
   "cell_type": "code",
   "execution_count": 66,
   "metadata": {},
   "outputs": [],
   "source": [
    "temp = X_temporal.loc[:, temporal_cols]"
   ]
  },
  {
   "cell_type": "code",
   "execution_count": 67,
   "metadata": {},
   "outputs": [],
   "source": [
    "temp = temp.head(1000)"
   ]
  },
  {
   "cell_type": "code",
   "execution_count": 68,
   "metadata": {},
   "outputs": [
    {
     "data": {
      "text/html": [
       "<div>\n",
       "<style scoped>\n",
       "    .dataframe tbody tr th:only-of-type {\n",
       "        vertical-align: middle;\n",
       "    }\n",
       "\n",
       "    .dataframe tbody tr th {\n",
       "        vertical-align: top;\n",
       "    }\n",
       "\n",
       "    .dataframe thead th {\n",
       "        text-align: right;\n",
       "    }\n",
       "</style>\n",
       "<table border=\"1\" class=\"dataframe\">\n",
       "  <thead>\n",
       "    <tr style=\"text-align: right;\">\n",
       "      <th></th>\n",
       "      <th>SK_ID_CURR</th>\n",
       "      <th>MONTHS_BALANCE</th>\n",
       "      <th>AMT_BALANCE</th>\n",
       "      <th>AMT_CREDIT_LIMIT_ACTUAL</th>\n",
       "      <th>AMT_DRAWINGS_ATM_CURRENT</th>\n",
       "      <th>AMT_DRAWINGS_CURRENT</th>\n",
       "      <th>AMT_DRAWINGS_OTHER_CURRENT</th>\n",
       "      <th>AMT_DRAWINGS_POS_CURRENT</th>\n",
       "      <th>AMT_INST_MIN_REGULARITY</th>\n",
       "      <th>AMT_PAYMENT_CURRENT</th>\n",
       "      <th>...</th>\n",
       "      <th>AMT_RECEIVABLE_PRINCIPAL</th>\n",
       "      <th>AMT_RECIVABLE</th>\n",
       "      <th>AMT_TOTAL_RECEIVABLE</th>\n",
       "      <th>CNT_DRAWINGS_ATM_CURRENT</th>\n",
       "      <th>CNT_DRAWINGS_CURRENT</th>\n",
       "      <th>CNT_DRAWINGS_OTHER_CURRENT</th>\n",
       "      <th>CNT_DRAWINGS_POS_CURRENT</th>\n",
       "      <th>CNT_INSTALMENT_MATURE_CUM</th>\n",
       "      <th>SK_DPD</th>\n",
       "      <th>SK_DPD_DEF</th>\n",
       "    </tr>\n",
       "  </thead>\n",
       "  <tbody>\n",
       "    <tr>\n",
       "      <th>0</th>\n",
       "      <td>100002</td>\n",
       "      <td>-1.0</td>\n",
       "      <td>0.0</td>\n",
       "      <td>0.0</td>\n",
       "      <td>0.0</td>\n",
       "      <td>0.0</td>\n",
       "      <td>0.0</td>\n",
       "      <td>0.0</td>\n",
       "      <td>0.0</td>\n",
       "      <td>0.0</td>\n",
       "      <td>...</td>\n",
       "      <td>0.0</td>\n",
       "      <td>0.0</td>\n",
       "      <td>0.0</td>\n",
       "      <td>0.0</td>\n",
       "      <td>0.0</td>\n",
       "      <td>0.0</td>\n",
       "      <td>0.0</td>\n",
       "      <td>0.0</td>\n",
       "      <td>0.0</td>\n",
       "      <td>0.0</td>\n",
       "    </tr>\n",
       "    <tr>\n",
       "      <th>1</th>\n",
       "      <td>100003</td>\n",
       "      <td>-1.0</td>\n",
       "      <td>0.0</td>\n",
       "      <td>0.0</td>\n",
       "      <td>0.0</td>\n",
       "      <td>0.0</td>\n",
       "      <td>0.0</td>\n",
       "      <td>0.0</td>\n",
       "      <td>0.0</td>\n",
       "      <td>0.0</td>\n",
       "      <td>...</td>\n",
       "      <td>0.0</td>\n",
       "      <td>0.0</td>\n",
       "      <td>0.0</td>\n",
       "      <td>0.0</td>\n",
       "      <td>0.0</td>\n",
       "      <td>0.0</td>\n",
       "      <td>0.0</td>\n",
       "      <td>0.0</td>\n",
       "      <td>0.0</td>\n",
       "      <td>0.0</td>\n",
       "    </tr>\n",
       "    <tr>\n",
       "      <th>2</th>\n",
       "      <td>100004</td>\n",
       "      <td>-1.0</td>\n",
       "      <td>0.0</td>\n",
       "      <td>0.0</td>\n",
       "      <td>0.0</td>\n",
       "      <td>0.0</td>\n",
       "      <td>0.0</td>\n",
       "      <td>0.0</td>\n",
       "      <td>0.0</td>\n",
       "      <td>0.0</td>\n",
       "      <td>...</td>\n",
       "      <td>0.0</td>\n",
       "      <td>0.0</td>\n",
       "      <td>0.0</td>\n",
       "      <td>0.0</td>\n",
       "      <td>0.0</td>\n",
       "      <td>0.0</td>\n",
       "      <td>0.0</td>\n",
       "      <td>0.0</td>\n",
       "      <td>0.0</td>\n",
       "      <td>0.0</td>\n",
       "    </tr>\n",
       "    <tr>\n",
       "      <th>8</th>\n",
       "      <td>100006</td>\n",
       "      <td>-6.0</td>\n",
       "      <td>0.0</td>\n",
       "      <td>270000.0</td>\n",
       "      <td>0.0</td>\n",
       "      <td>0.0</td>\n",
       "      <td>0.0</td>\n",
       "      <td>0.0</td>\n",
       "      <td>0.0</td>\n",
       "      <td>0.0</td>\n",
       "      <td>...</td>\n",
       "      <td>0.0</td>\n",
       "      <td>0.0</td>\n",
       "      <td>0.0</td>\n",
       "      <td>0.0</td>\n",
       "      <td>0.0</td>\n",
       "      <td>0.0</td>\n",
       "      <td>0.0</td>\n",
       "      <td>0.0</td>\n",
       "      <td>0.0</td>\n",
       "      <td>0.0</td>\n",
       "    </tr>\n",
       "    <tr>\n",
       "      <th>5</th>\n",
       "      <td>100006</td>\n",
       "      <td>-5.0</td>\n",
       "      <td>0.0</td>\n",
       "      <td>270000.0</td>\n",
       "      <td>0.0</td>\n",
       "      <td>0.0</td>\n",
       "      <td>0.0</td>\n",
       "      <td>0.0</td>\n",
       "      <td>0.0</td>\n",
       "      <td>0.0</td>\n",
       "      <td>...</td>\n",
       "      <td>0.0</td>\n",
       "      <td>0.0</td>\n",
       "      <td>0.0</td>\n",
       "      <td>0.0</td>\n",
       "      <td>0.0</td>\n",
       "      <td>0.0</td>\n",
       "      <td>0.0</td>\n",
       "      <td>0.0</td>\n",
       "      <td>0.0</td>\n",
       "      <td>0.0</td>\n",
       "    </tr>\n",
       "  </tbody>\n",
       "</table>\n",
       "<p>5 rows × 21 columns</p>\n",
       "</div>"
      ],
      "text/plain": [
       "   SK_ID_CURR  MONTHS_BALANCE  AMT_BALANCE  AMT_CREDIT_LIMIT_ACTUAL  \\\n",
       "0      100002            -1.0          0.0                      0.0   \n",
       "1      100003            -1.0          0.0                      0.0   \n",
       "2      100004            -1.0          0.0                      0.0   \n",
       "8      100006            -6.0          0.0                 270000.0   \n",
       "5      100006            -5.0          0.0                 270000.0   \n",
       "\n",
       "   AMT_DRAWINGS_ATM_CURRENT  AMT_DRAWINGS_CURRENT  AMT_DRAWINGS_OTHER_CURRENT  \\\n",
       "0                       0.0                   0.0                         0.0   \n",
       "1                       0.0                   0.0                         0.0   \n",
       "2                       0.0                   0.0                         0.0   \n",
       "8                       0.0                   0.0                         0.0   \n",
       "5                       0.0                   0.0                         0.0   \n",
       "\n",
       "   AMT_DRAWINGS_POS_CURRENT  AMT_INST_MIN_REGULARITY  AMT_PAYMENT_CURRENT  \\\n",
       "0                       0.0                      0.0                  0.0   \n",
       "1                       0.0                      0.0                  0.0   \n",
       "2                       0.0                      0.0                  0.0   \n",
       "8                       0.0                      0.0                  0.0   \n",
       "5                       0.0                      0.0                  0.0   \n",
       "\n",
       "   ...  AMT_RECEIVABLE_PRINCIPAL  AMT_RECIVABLE  AMT_TOTAL_RECEIVABLE  \\\n",
       "0  ...                       0.0            0.0                   0.0   \n",
       "1  ...                       0.0            0.0                   0.0   \n",
       "2  ...                       0.0            0.0                   0.0   \n",
       "8  ...                       0.0            0.0                   0.0   \n",
       "5  ...                       0.0            0.0                   0.0   \n",
       "\n",
       "   CNT_DRAWINGS_ATM_CURRENT  CNT_DRAWINGS_CURRENT  CNT_DRAWINGS_OTHER_CURRENT  \\\n",
       "0                       0.0                   0.0                         0.0   \n",
       "1                       0.0                   0.0                         0.0   \n",
       "2                       0.0                   0.0                         0.0   \n",
       "8                       0.0                   0.0                         0.0   \n",
       "5                       0.0                   0.0                         0.0   \n",
       "\n",
       "   CNT_DRAWINGS_POS_CURRENT  CNT_INSTALMENT_MATURE_CUM  SK_DPD  SK_DPD_DEF  \n",
       "0                       0.0                        0.0     0.0         0.0  \n",
       "1                       0.0                        0.0     0.0         0.0  \n",
       "2                       0.0                        0.0     0.0         0.0  \n",
       "8                       0.0                        0.0     0.0         0.0  \n",
       "5                       0.0                        0.0     0.0         0.0  \n",
       "\n",
       "[5 rows x 21 columns]"
      ]
     },
     "execution_count": 68,
     "metadata": {},
     "output_type": "execute_result"
    }
   ],
   "source": [
    "temp.head()"
   ]
  },
  {
   "cell_type": "markdown",
   "metadata": {},
   "source": [
    "Créons un batch allant du mois -1 jusqu'au maximum :"
   ]
  },
  {
   "cell_type": "code",
   "execution_count": 69,
   "metadata": {},
   "outputs": [],
   "source": [
    "tempcube = create_batch(temp, -1)"
   ]
  },
  {
   "cell_type": "markdown",
   "metadata": {},
   "source": [
    "Regardons l'apparence du cube"
   ]
  },
  {
   "cell_type": "code",
   "execution_count": 70,
   "metadata": {},
   "outputs": [
    {
     "data": {
      "text/plain": [
       "(124, 19, 96)"
      ]
     },
     "execution_count": 70,
     "metadata": {},
     "output_type": "execute_result"
    }
   ],
   "source": [
    "tempcube.shape"
   ]
  },
  {
   "cell_type": "markdown",
   "metadata": {},
   "source": [
    "On voit que les valeurs correspondent bien à celles du dataset :"
   ]
  },
  {
   "cell_type": "code",
   "execution_count": 71,
   "metadata": {},
   "outputs": [
    {
     "data": {
      "text/plain": [
       "array([     0., 270000.,      0.,      0.,      0.,      0.,      0.,\n",
       "            0.,      0.,      0.,      0.,      0.,      0.,      0.,\n",
       "            0.,      0.,      0.,      0.,      0.])"
      ]
     },
     "execution_count": 71,
     "metadata": {},
     "output_type": "execute_result"
    }
   ],
   "source": [
    "tempcube[3, :, 0]"
   ]
  },
  {
   "cell_type": "code",
   "execution_count": 72,
   "metadata": {},
   "outputs": [
    {
     "data": {
      "text/html": [
       "<div>\n",
       "<style scoped>\n",
       "    .dataframe tbody tr th:only-of-type {\n",
       "        vertical-align: middle;\n",
       "    }\n",
       "\n",
       "    .dataframe tbody tr th {\n",
       "        vertical-align: top;\n",
       "    }\n",
       "\n",
       "    .dataframe thead th {\n",
       "        text-align: right;\n",
       "    }\n",
       "</style>\n",
       "<table border=\"1\" class=\"dataframe\">\n",
       "  <thead>\n",
       "    <tr style=\"text-align: right;\">\n",
       "      <th></th>\n",
       "      <th>AMT_BALANCE</th>\n",
       "      <th>AMT_CREDIT_LIMIT_ACTUAL</th>\n",
       "      <th>AMT_DRAWINGS_ATM_CURRENT</th>\n",
       "      <th>AMT_DRAWINGS_CURRENT</th>\n",
       "      <th>AMT_DRAWINGS_OTHER_CURRENT</th>\n",
       "      <th>AMT_DRAWINGS_POS_CURRENT</th>\n",
       "      <th>AMT_INST_MIN_REGULARITY</th>\n",
       "      <th>AMT_PAYMENT_CURRENT</th>\n",
       "      <th>AMT_PAYMENT_TOTAL_CURRENT</th>\n",
       "      <th>AMT_RECEIVABLE_PRINCIPAL</th>\n",
       "      <th>AMT_RECIVABLE</th>\n",
       "      <th>AMT_TOTAL_RECEIVABLE</th>\n",
       "      <th>CNT_DRAWINGS_ATM_CURRENT</th>\n",
       "      <th>CNT_DRAWINGS_CURRENT</th>\n",
       "      <th>CNT_DRAWINGS_OTHER_CURRENT</th>\n",
       "      <th>CNT_DRAWINGS_POS_CURRENT</th>\n",
       "      <th>CNT_INSTALMENT_MATURE_CUM</th>\n",
       "      <th>SK_DPD</th>\n",
       "      <th>SK_DPD_DEF</th>\n",
       "    </tr>\n",
       "  </thead>\n",
       "  <tbody>\n",
       "    <tr>\n",
       "      <th>4</th>\n",
       "      <td>0.0</td>\n",
       "      <td>270000.0</td>\n",
       "      <td>0.0</td>\n",
       "      <td>0.0</td>\n",
       "      <td>0.0</td>\n",
       "      <td>0.0</td>\n",
       "      <td>0.0</td>\n",
       "      <td>0.0</td>\n",
       "      <td>0.0</td>\n",
       "      <td>0.0</td>\n",
       "      <td>0.0</td>\n",
       "      <td>0.0</td>\n",
       "      <td>0.0</td>\n",
       "      <td>0.0</td>\n",
       "      <td>0.0</td>\n",
       "      <td>0.0</td>\n",
       "      <td>0.0</td>\n",
       "      <td>0.0</td>\n",
       "      <td>0.0</td>\n",
       "    </tr>\n",
       "  </tbody>\n",
       "</table>\n",
       "</div>"
      ],
      "text/plain": [
       "   AMT_BALANCE  AMT_CREDIT_LIMIT_ACTUAL  AMT_DRAWINGS_ATM_CURRENT  \\\n",
       "4          0.0                 270000.0                       0.0   \n",
       "\n",
       "   AMT_DRAWINGS_CURRENT  AMT_DRAWINGS_OTHER_CURRENT  AMT_DRAWINGS_POS_CURRENT  \\\n",
       "4                   0.0                         0.0                       0.0   \n",
       "\n",
       "   AMT_INST_MIN_REGULARITY  AMT_PAYMENT_CURRENT  AMT_PAYMENT_TOTAL_CURRENT  \\\n",
       "4                      0.0                  0.0                        0.0   \n",
       "\n",
       "   AMT_RECEIVABLE_PRINCIPAL  AMT_RECIVABLE  AMT_TOTAL_RECEIVABLE  \\\n",
       "4                       0.0            0.0                   0.0   \n",
       "\n",
       "   CNT_DRAWINGS_ATM_CURRENT  CNT_DRAWINGS_CURRENT  CNT_DRAWINGS_OTHER_CURRENT  \\\n",
       "4                       0.0                   0.0                         0.0   \n",
       "\n",
       "   CNT_DRAWINGS_POS_CURRENT  CNT_INSTALMENT_MATURE_CUM  SK_DPD  SK_DPD_DEF  \n",
       "4                       0.0                        0.0     0.0         0.0  "
      ]
     },
     "execution_count": 72,
     "metadata": {},
     "output_type": "execute_result"
    }
   ],
   "source": [
    "temp.loc[(temp[\"SK_ID_CURR\"] == 100006) & (temp[\"MONTHS_BALANCE\"] == -1), 'AMT_BALANCE':]"
   ]
  },
  {
   "cell_type": "markdown",
   "metadata": {},
   "source": [
    "## Création du batch"
   ]
  },
  {
   "cell_type": "code",
   "execution_count": 73,
   "metadata": {},
   "outputs": [],
   "source": [
    "X_temporal = X_temporal.loc[:, temporal_cols]"
   ]
  },
  {
   "cell_type": "code",
   "execution_count": 74,
   "metadata": {},
   "outputs": [
    {
     "name": "stdout",
     "output_type": "stream",
     "text": [
      "Suppression de 5035 duplicats\n"
     ]
    }
   ],
   "source": [
    "nrows_prev = X_temporal.shape[0]\n",
    "X_temporal.drop_duplicates(subset = [\"SK_ID_CURR\", \"MONTHS_BALANCE\"], inplace = True)\n",
    "print(\"Suppression de {} duplicats\".format(nrows_prev - X_temporal.shape[0]))"
   ]
  },
  {
   "cell_type": "code",
   "execution_count": 75,
   "metadata": {},
   "outputs": [
    {
     "data": {
      "text/plain": [
       "(3442842, 21)"
      ]
     },
     "execution_count": 75,
     "metadata": {},
     "output_type": "execute_result"
    }
   ],
   "source": [
    "X_temporal.shape"
   ]
  },
  {
   "cell_type": "code",
   "execution_count": 76,
   "metadata": {},
   "outputs": [
    {
     "name": "stdout",
     "output_type": "stream",
     "text": [
      "Chargement du pickle\n"
     ]
    }
   ],
   "source": [
    "if os.path.exists(\"./data/pickle_cube\"):\n",
    "    with open(\"./data/pickle_cube\", 'rb') as file:\n",
    "        print(\"Chargement du pickle\")\n",
    "        X_batch = pickle.load(file)\n",
    "else:\n",
    "    start_clock = time.time()\n",
    "    X_batch = create_batch(X_temporal, -1)\n",
    "    print(\"Batch généré en {}s\".format(round(time.time() - start_clock)))"
   ]
  },
  {
   "cell_type": "code",
   "execution_count": 77,
   "metadata": {},
   "outputs": [],
   "source": [
    "if not os.path.exists(\"./data/pickle_cube\"):\n",
    "    with open(\"./data/pickle_cube\", 'wb') as file:\n",
    "            pickle.dump(X_batch, file)"
   ]
  },
  {
   "cell_type": "code",
   "execution_count": 78,
   "metadata": {},
   "outputs": [
    {
     "data": {
      "text/plain": [
       "(307220, 19, 96)"
      ]
     },
     "execution_count": 78,
     "metadata": {},
     "output_type": "execute_result"
    }
   ],
   "source": [
    "X_batch.shape"
   ]
  },
  {
   "cell_type": "code",
   "execution_count": 79,
   "metadata": {},
   "outputs": [],
   "source": [
    "X_train_batch = X_batch[inTrain, :, :]"
   ]
  },
  {
   "cell_type": "code",
   "execution_count": 80,
   "metadata": {},
   "outputs": [
    {
     "data": {
      "text/plain": [
       "(215054, 19, 96)"
      ]
     },
     "execution_count": 80,
     "metadata": {},
     "output_type": "execute_result"
    }
   ],
   "source": [
    "X_train_batch.shape"
   ]
  },
  {
   "cell_type": "markdown",
   "metadata": {},
   "source": [
    "# Définition des variables"
   ]
  },
  {
   "cell_type": "code",
   "execution_count": 81,
   "metadata": {},
   "outputs": [],
   "source": [
    "numcols = X.select_dtypes('number').columns.tolist()"
   ]
  },
  {
   "cell_type": "code",
   "execution_count": 82,
   "metadata": {},
   "outputs": [],
   "source": [
    "idcols = [\"SK_ID_CURR\"]\n",
    "binary_cat_cols = ['FLAG_MOBIL', 'FLAG_EMP_PHONE', 'FLAG_WORK_PHONE', 'FLAG_CONT_MOBILE', 'FLAG_PHONE', 'FLAG_EMAIL','REGION_RATING_CLIENT',\n",
    "                   'REGION_RATING_CLIENT_W_CITY', 'REG_REGION_NOT_LIVE_REGION', 'REG_REGION_NOT_WORK_REGION', 'LIVE_REGION_NOT_WORK_REGION',\n",
    "                   'REG_CITY_NOT_LIVE_CITY', 'REG_CITY_NOT_WORK_CITY', 'LIVE_CITY_NOT_WORK_CITY', 'FLAG_DOCUMENT_2', 'FLAG_DOCUMENT_3',\n",
    "                   'FLAG_DOCUMENT_4', 'FLAG_DOCUMENT_5', 'FLAG_DOCUMENT_6', 'FLAG_DOCUMENT_7', 'FLAG_DOCUMENT_8', 'FLAG_DOCUMENT_9', \n",
    "                   'FLAG_DOCUMENT_10', 'FLAG_DOCUMENT_11', 'FLAG_DOCUMENT_12', 'FLAG_DOCUMENT_13', 'FLAG_DOCUMENT_14', 'FLAG_DOCUMENT_15',\n",
    "                   'FLAG_DOCUMENT_16', 'FLAG_DOCUMENT_17', 'FLAG_DOCUMENT_18', 'FLAG_DOCUMENT_19', 'FLAG_DOCUMENT_20', 'FLAG_DOCUMENT_21']\n",
    "no_info_cols = [\"WEEKDAY_APPR_PROCESS_START\", \"HOUR_APPR_PROCESS_START\"]"
   ]
  },
  {
   "cell_type": "code",
   "execution_count": 83,
   "metadata": {},
   "outputs": [],
   "source": [
    "catcols = list(set(X.columns.tolist()).difference(numcols))\n",
    "catcols = list(set(catcols).difference({'WEEKDAY_APPR_PROCESS_START'}))"
   ]
  },
  {
   "cell_type": "code",
   "execution_count": 84,
   "metadata": {},
   "outputs": [],
   "source": [
    "catcols += binary_cat_cols"
   ]
  },
  {
   "cell_type": "code",
   "execution_count": 85,
   "metadata": {},
   "outputs": [],
   "source": [
    "numcols = list(set(numcols).difference(set(idcols + binary_cat_cols + no_info_cols)))"
   ]
  },
  {
   "cell_type": "code",
   "execution_count": 86,
   "metadata": {},
   "outputs": [
    {
     "data": {
      "text/plain": [
       "0"
      ]
     },
     "execution_count": 86,
     "metadata": {},
     "output_type": "execute_result"
    }
   ],
   "source": [
    "X.shape[1] - (len(idcols)+len(catcols)+len(numcols)+len(no_info_cols))"
   ]
  },
  {
   "cell_type": "markdown",
   "metadata": {},
   "source": [
    "# Configuration du réseau de neurones"
   ]
  },
  {
   "cell_type": "code",
   "execution_count": 87,
   "metadata": {},
   "outputs": [],
   "source": [
    "X_enc = dataset_preprocessing(X, catcols)"
   ]
  },
  {
   "cell_type": "code",
   "execution_count": 88,
   "metadata": {},
   "outputs": [],
   "source": [
    "inputs, models = make_all_embedders(X_enc, catcols, numcols)"
   ]
  },
  {
   "cell_type": "code",
   "execution_count": 89,
   "metadata": {},
   "outputs": [],
   "source": [
    "temporal_input = Input(name = \"temporal_input\", shape = (19, 96))\n",
    "temporal_input_masked = Masking(mask_value=0.)(temporal_input)\n",
    "\n",
    "temporal_lstm = LSTM(19, activation=\"relu\")(temporal_input_masked) \n",
    "\n",
    "inputs.append(temporal_input)\n",
    "models.append(temporal_lstm)"
   ]
  },
  {
   "cell_type": "code",
   "execution_count": 90,
   "metadata": {},
   "outputs": [],
   "source": [
    "merged_models = tf.keras.layers.concatenate(models)"
   ]
  },
  {
   "cell_type": "code",
   "execution_count": 91,
   "metadata": {},
   "outputs": [],
   "source": [
    "dense_layer_1 = Dense(1000)(merged_models)\n",
    "batchnorm_layer_1 = BatchNormalization()(dense_layer_1)\n",
    "dense_layer_2 = Dense(1000)(batchnorm_layer_1)\n",
    "batchnorm_layer_2 = BatchNormalization()(dense_layer_2)\n",
    "\n",
    "prediction_layer = Dense(1, activation = \"sigmoid\")(batchnorm_layer_2)\n",
    "\n",
    "final_model = Model(inputs = inputs, outputs = prediction_layer)"
   ]
  },
  {
   "cell_type": "code",
   "execution_count": 92,
   "metadata": {},
   "outputs": [
    {
     "name": "stdout",
     "output_type": "stream",
     "text": [
      "Model: \"model\"\n",
      "__________________________________________________________________________________________________\n",
      "Layer (type)                    Output Shape         Param #     Connected to                     \n",
      "==================================================================================================\n",
      "NAME_TYPE_SUITE_input (InputLay [(None, 1)]          0                                            \n",
      "__________________________________________________________________________________________________\n",
      "NAME_CONTRACT_TYPE_input (Input [(None, 1)]          0                                            \n",
      "__________________________________________________________________________________________________\n",
      "NAME_INCOME_TYPE_input (InputLa [(None, 1)]          0                                            \n",
      "__________________________________________________________________________________________________\n",
      "ORGANIZATION_TYPE_input (InputL [(None, 1)]          0                                            \n",
      "__________________________________________________________________________________________________\n",
      "NAME_EDUCATION_TYPE_input (Inpu [(None, 1)]          0                                            \n",
      "__________________________________________________________________________________________________\n",
      "NAME_FAMILY_STATUS_input (Input [(None, 1)]          0                                            \n",
      "__________________________________________________________________________________________________\n",
      "FLAG_OWN_REALTY_input (InputLay [(None, 1)]          0                                            \n",
      "__________________________________________________________________________________________________\n",
      "NAME_HOUSING_TYPE_input (InputL [(None, 1)]          0                                            \n",
      "__________________________________________________________________________________________________\n",
      "CODE_GENDER_input (InputLayer)  [(None, 1)]          0                                            \n",
      "__________________________________________________________________________________________________\n",
      "FLAG_OWN_CAR_input (InputLayer) [(None, 1)]          0                                            \n",
      "__________________________________________________________________________________________________\n",
      "FLAG_MOBIL_input (InputLayer)   [(None, 1)]          0                                            \n",
      "__________________________________________________________________________________________________\n",
      "FLAG_EMP_PHONE_input (InputLaye [(None, 1)]          0                                            \n",
      "__________________________________________________________________________________________________\n",
      "FLAG_WORK_PHONE_input (InputLay [(None, 1)]          0                                            \n",
      "__________________________________________________________________________________________________\n",
      "FLAG_CONT_MOBILE_input (InputLa [(None, 1)]          0                                            \n",
      "__________________________________________________________________________________________________\n",
      "FLAG_PHONE_input (InputLayer)   [(None, 1)]          0                                            \n",
      "__________________________________________________________________________________________________\n",
      "FLAG_EMAIL_input (InputLayer)   [(None, 1)]          0                                            \n",
      "__________________________________________________________________________________________________\n",
      "REGION_RATING_CLIENT_input (Inp [(None, 1)]          0                                            \n",
      "__________________________________________________________________________________________________\n",
      "REGION_RATING_CLIENT_W_CITY_inp [(None, 1)]          0                                            \n",
      "__________________________________________________________________________________________________\n",
      "REG_REGION_NOT_LIVE_REGION_inpu [(None, 1)]          0                                            \n",
      "__________________________________________________________________________________________________\n",
      "REG_REGION_NOT_WORK_REGION_inpu [(None, 1)]          0                                            \n",
      "__________________________________________________________________________________________________\n",
      "LIVE_REGION_NOT_WORK_REGION_inp [(None, 1)]          0                                            \n",
      "__________________________________________________________________________________________________\n",
      "REG_CITY_NOT_LIVE_CITY_input (I [(None, 1)]          0                                            \n",
      "__________________________________________________________________________________________________\n",
      "REG_CITY_NOT_WORK_CITY_input (I [(None, 1)]          0                                            \n",
      "__________________________________________________________________________________________________\n",
      "LIVE_CITY_NOT_WORK_CITY_input ( [(None, 1)]          0                                            \n",
      "__________________________________________________________________________________________________\n",
      "FLAG_DOCUMENT_2_input (InputLay [(None, 1)]          0                                            \n",
      "__________________________________________________________________________________________________\n",
      "FLAG_DOCUMENT_3_input (InputLay [(None, 1)]          0                                            \n",
      "__________________________________________________________________________________________________\n",
      "FLAG_DOCUMENT_4_input (InputLay [(None, 1)]          0                                            \n",
      "__________________________________________________________________________________________________\n",
      "FLAG_DOCUMENT_5_input (InputLay [(None, 1)]          0                                            \n",
      "__________________________________________________________________________________________________\n",
      "FLAG_DOCUMENT_6_input (InputLay [(None, 1)]          0                                            \n",
      "__________________________________________________________________________________________________\n",
      "FLAG_DOCUMENT_7_input (InputLay [(None, 1)]          0                                            \n",
      "__________________________________________________________________________________________________\n",
      "FLAG_DOCUMENT_8_input (InputLay [(None, 1)]          0                                            \n",
      "__________________________________________________________________________________________________\n",
      "FLAG_DOCUMENT_9_input (InputLay [(None, 1)]          0                                            \n",
      "__________________________________________________________________________________________________\n",
      "FLAG_DOCUMENT_10_input (InputLa [(None, 1)]          0                                            \n",
      "__________________________________________________________________________________________________\n",
      "FLAG_DOCUMENT_11_input (InputLa [(None, 1)]          0                                            \n",
      "__________________________________________________________________________________________________\n",
      "FLAG_DOCUMENT_12_input (InputLa [(None, 1)]          0                                            \n",
      "__________________________________________________________________________________________________\n",
      "FLAG_DOCUMENT_13_input (InputLa [(None, 1)]          0                                            \n",
      "__________________________________________________________________________________________________\n",
      "FLAG_DOCUMENT_14_input (InputLa [(None, 1)]          0                                            \n",
      "__________________________________________________________________________________________________\n",
      "FLAG_DOCUMENT_15_input (InputLa [(None, 1)]          0                                            \n",
      "__________________________________________________________________________________________________\n",
      "FLAG_DOCUMENT_16_input (InputLa [(None, 1)]          0                                            \n",
      "__________________________________________________________________________________________________\n",
      "FLAG_DOCUMENT_17_input (InputLa [(None, 1)]          0                                            \n",
      "__________________________________________________________________________________________________\n",
      "FLAG_DOCUMENT_18_input (InputLa [(None, 1)]          0                                            \n",
      "__________________________________________________________________________________________________\n",
      "FLAG_DOCUMENT_19_input (InputLa [(None, 1)]          0                                            \n",
      "__________________________________________________________________________________________________\n",
      "FLAG_DOCUMENT_20_input (InputLa [(None, 1)]          0                                            \n",
      "__________________________________________________________________________________________________\n",
      "FLAG_DOCUMENT_21_input (InputLa [(None, 1)]          0                                            \n",
      "__________________________________________________________________________________________________\n",
      "temporal_input (InputLayer)     [(None, 19, 96)]     0                                            \n",
      "__________________________________________________________________________________________________\n",
      "embedding (Embedding)           (None, 1, 36)        252         NAME_TYPE_SUITE_input[0][0]      \n",
      "__________________________________________________________________________________________________\n",
      "embedding_1 (Embedding)         (None, 1, 36)        72          NAME_CONTRACT_TYPE_input[0][0]   \n",
      "__________________________________________________________________________________________________\n",
      "embedding_2 (Embedding)         (None, 1, 36)        288         NAME_INCOME_TYPE_input[0][0]     \n",
      "__________________________________________________________________________________________________\n",
      "embedding_3 (Embedding)         (None, 1, 36)        2088        ORGANIZATION_TYPE_input[0][0]    \n",
      "__________________________________________________________________________________________________\n",
      "embedding_4 (Embedding)         (None, 1, 36)        180         NAME_EDUCATION_TYPE_input[0][0]  \n",
      "__________________________________________________________________________________________________\n",
      "embedding_5 (Embedding)         (None, 1, 36)        180         NAME_FAMILY_STATUS_input[0][0]   \n",
      "__________________________________________________________________________________________________\n",
      "embedding_6 (Embedding)         (None, 1, 36)        72          FLAG_OWN_REALTY_input[0][0]      \n",
      "__________________________________________________________________________________________________\n",
      "embedding_7 (Embedding)         (None, 1, 36)        216         NAME_HOUSING_TYPE_input[0][0]    \n",
      "__________________________________________________________________________________________________\n",
      "embedding_8 (Embedding)         (None, 1, 36)        108         CODE_GENDER_input[0][0]          \n",
      "__________________________________________________________________________________________________\n",
      "embedding_9 (Embedding)         (None, 1, 36)        72          FLAG_OWN_CAR_input[0][0]         \n",
      "__________________________________________________________________________________________________\n",
      "embedding_10 (Embedding)        (None, 1, 36)        36          FLAG_MOBIL_input[0][0]           \n",
      "__________________________________________________________________________________________________\n",
      "embedding_11 (Embedding)        (None, 1, 36)        72          FLAG_EMP_PHONE_input[0][0]       \n",
      "__________________________________________________________________________________________________\n",
      "embedding_12 (Embedding)        (None, 1, 36)        72          FLAG_WORK_PHONE_input[0][0]      \n",
      "__________________________________________________________________________________________________\n",
      "embedding_13 (Embedding)        (None, 1, 36)        72          FLAG_CONT_MOBILE_input[0][0]     \n",
      "__________________________________________________________________________________________________\n",
      "embedding_14 (Embedding)        (None, 1, 36)        72          FLAG_PHONE_input[0][0]           \n",
      "__________________________________________________________________________________________________\n",
      "embedding_15 (Embedding)        (None, 1, 36)        72          FLAG_EMAIL_input[0][0]           \n",
      "__________________________________________________________________________________________________\n",
      "embedding_16 (Embedding)        (None, 1, 36)        108         REGION_RATING_CLIENT_input[0][0] \n",
      "__________________________________________________________________________________________________\n",
      "embedding_17 (Embedding)        (None, 1, 36)        108         REGION_RATING_CLIENT_W_CITY_input\n",
      "__________________________________________________________________________________________________\n",
      "embedding_18 (Embedding)        (None, 1, 36)        72          REG_REGION_NOT_LIVE_REGION_input[\n",
      "__________________________________________________________________________________________________\n",
      "embedding_19 (Embedding)        (None, 1, 36)        72          REG_REGION_NOT_WORK_REGION_input[\n",
      "__________________________________________________________________________________________________\n",
      "embedding_20 (Embedding)        (None, 1, 36)        72          LIVE_REGION_NOT_WORK_REGION_input\n",
      "__________________________________________________________________________________________________\n",
      "embedding_21 (Embedding)        (None, 1, 36)        72          REG_CITY_NOT_LIVE_CITY_input[0][0\n",
      "__________________________________________________________________________________________________\n",
      "embedding_22 (Embedding)        (None, 1, 36)        72          REG_CITY_NOT_WORK_CITY_input[0][0\n",
      "__________________________________________________________________________________________________\n",
      "embedding_23 (Embedding)        (None, 1, 36)        72          LIVE_CITY_NOT_WORK_CITY_input[0][\n",
      "__________________________________________________________________________________________________\n",
      "embedding_24 (Embedding)        (None, 1, 36)        72          FLAG_DOCUMENT_2_input[0][0]      \n",
      "__________________________________________________________________________________________________\n",
      "embedding_25 (Embedding)        (None, 1, 36)        72          FLAG_DOCUMENT_3_input[0][0]      \n",
      "__________________________________________________________________________________________________\n",
      "embedding_26 (Embedding)        (None, 1, 36)        72          FLAG_DOCUMENT_4_input[0][0]      \n",
      "__________________________________________________________________________________________________\n",
      "embedding_27 (Embedding)        (None, 1, 36)        72          FLAG_DOCUMENT_5_input[0][0]      \n",
      "__________________________________________________________________________________________________\n",
      "embedding_28 (Embedding)        (None, 1, 36)        72          FLAG_DOCUMENT_6_input[0][0]      \n",
      "__________________________________________________________________________________________________\n",
      "embedding_29 (Embedding)        (None, 1, 36)        72          FLAG_DOCUMENT_7_input[0][0]      \n",
      "__________________________________________________________________________________________________\n",
      "embedding_30 (Embedding)        (None, 1, 36)        72          FLAG_DOCUMENT_8_input[0][0]      \n",
      "__________________________________________________________________________________________________\n",
      "embedding_31 (Embedding)        (None, 1, 36)        72          FLAG_DOCUMENT_9_input[0][0]      \n",
      "__________________________________________________________________________________________________\n",
      "embedding_32 (Embedding)        (None, 1, 36)        72          FLAG_DOCUMENT_10_input[0][0]     \n",
      "__________________________________________________________________________________________________\n",
      "embedding_33 (Embedding)        (None, 1, 36)        72          FLAG_DOCUMENT_11_input[0][0]     \n",
      "__________________________________________________________________________________________________\n",
      "embedding_34 (Embedding)        (None, 1, 36)        72          FLAG_DOCUMENT_12_input[0][0]     \n",
      "__________________________________________________________________________________________________\n",
      "embedding_35 (Embedding)        (None, 1, 36)        72          FLAG_DOCUMENT_13_input[0][0]     \n",
      "__________________________________________________________________________________________________\n",
      "embedding_36 (Embedding)        (None, 1, 36)        72          FLAG_DOCUMENT_14_input[0][0]     \n",
      "__________________________________________________________________________________________________\n",
      "embedding_37 (Embedding)        (None, 1, 36)        72          FLAG_DOCUMENT_15_input[0][0]     \n",
      "__________________________________________________________________________________________________\n",
      "embedding_38 (Embedding)        (None, 1, 36)        72          FLAG_DOCUMENT_16_input[0][0]     \n",
      "__________________________________________________________________________________________________\n",
      "embedding_39 (Embedding)        (None, 1, 36)        72          FLAG_DOCUMENT_17_input[0][0]     \n",
      "__________________________________________________________________________________________________\n",
      "embedding_40 (Embedding)        (None, 1, 36)        72          FLAG_DOCUMENT_18_input[0][0]     \n",
      "__________________________________________________________________________________________________\n",
      "embedding_41 (Embedding)        (None, 1, 36)        72          FLAG_DOCUMENT_19_input[0][0]     \n",
      "__________________________________________________________________________________________________\n",
      "embedding_42 (Embedding)        (None, 1, 36)        72          FLAG_DOCUMENT_20_input[0][0]     \n",
      "__________________________________________________________________________________________________\n",
      "embedding_43 (Embedding)        (None, 1, 36)        72          FLAG_DOCUMENT_21_input[0][0]     \n",
      "__________________________________________________________________________________________________\n",
      "masking (Masking)               (None, 19, 96)       0           temporal_input[0][0]             \n",
      "__________________________________________________________________________________________________\n",
      "reshape (Reshape)               (None, 36)           0           embedding[0][0]                  \n",
      "__________________________________________________________________________________________________\n",
      "reshape_1 (Reshape)             (None, 36)           0           embedding_1[0][0]                \n",
      "__________________________________________________________________________________________________\n",
      "reshape_2 (Reshape)             (None, 36)           0           embedding_2[0][0]                \n",
      "__________________________________________________________________________________________________\n",
      "reshape_3 (Reshape)             (None, 36)           0           embedding_3[0][0]                \n",
      "__________________________________________________________________________________________________\n",
      "reshape_4 (Reshape)             (None, 36)           0           embedding_4[0][0]                \n",
      "__________________________________________________________________________________________________\n",
      "reshape_5 (Reshape)             (None, 36)           0           embedding_5[0][0]                \n",
      "__________________________________________________________________________________________________\n",
      "reshape_6 (Reshape)             (None, 36)           0           embedding_6[0][0]                \n",
      "__________________________________________________________________________________________________\n",
      "reshape_7 (Reshape)             (None, 36)           0           embedding_7[0][0]                \n",
      "__________________________________________________________________________________________________\n",
      "reshape_8 (Reshape)             (None, 36)           0           embedding_8[0][0]                \n",
      "__________________________________________________________________________________________________\n",
      "reshape_9 (Reshape)             (None, 36)           0           embedding_9[0][0]                \n",
      "__________________________________________________________________________________________________\n",
      "reshape_10 (Reshape)            (None, 36)           0           embedding_10[0][0]               \n",
      "__________________________________________________________________________________________________\n",
      "reshape_11 (Reshape)            (None, 36)           0           embedding_11[0][0]               \n",
      "__________________________________________________________________________________________________\n",
      "reshape_12 (Reshape)            (None, 36)           0           embedding_12[0][0]               \n",
      "__________________________________________________________________________________________________\n",
      "reshape_13 (Reshape)            (None, 36)           0           embedding_13[0][0]               \n",
      "__________________________________________________________________________________________________\n",
      "reshape_14 (Reshape)            (None, 36)           0           embedding_14[0][0]               \n",
      "__________________________________________________________________________________________________\n",
      "reshape_15 (Reshape)            (None, 36)           0           embedding_15[0][0]               \n",
      "__________________________________________________________________________________________________\n",
      "reshape_16 (Reshape)            (None, 36)           0           embedding_16[0][0]               \n",
      "__________________________________________________________________________________________________\n",
      "reshape_17 (Reshape)            (None, 36)           0           embedding_17[0][0]               \n",
      "__________________________________________________________________________________________________\n",
      "reshape_18 (Reshape)            (None, 36)           0           embedding_18[0][0]               \n",
      "__________________________________________________________________________________________________\n",
      "reshape_19 (Reshape)            (None, 36)           0           embedding_19[0][0]               \n",
      "__________________________________________________________________________________________________\n",
      "reshape_20 (Reshape)            (None, 36)           0           embedding_20[0][0]               \n",
      "__________________________________________________________________________________________________\n",
      "reshape_21 (Reshape)            (None, 36)           0           embedding_21[0][0]               \n",
      "__________________________________________________________________________________________________\n",
      "reshape_22 (Reshape)            (None, 36)           0           embedding_22[0][0]               \n",
      "__________________________________________________________________________________________________\n",
      "reshape_23 (Reshape)            (None, 36)           0           embedding_23[0][0]               \n",
      "__________________________________________________________________________________________________\n",
      "reshape_24 (Reshape)            (None, 36)           0           embedding_24[0][0]               \n",
      "__________________________________________________________________________________________________\n",
      "reshape_25 (Reshape)            (None, 36)           0           embedding_25[0][0]               \n",
      "__________________________________________________________________________________________________\n",
      "reshape_26 (Reshape)            (None, 36)           0           embedding_26[0][0]               \n",
      "__________________________________________________________________________________________________\n",
      "reshape_27 (Reshape)            (None, 36)           0           embedding_27[0][0]               \n",
      "__________________________________________________________________________________________________\n",
      "reshape_28 (Reshape)            (None, 36)           0           embedding_28[0][0]               \n",
      "__________________________________________________________________________________________________\n",
      "reshape_29 (Reshape)            (None, 36)           0           embedding_29[0][0]               \n",
      "__________________________________________________________________________________________________\n",
      "reshape_30 (Reshape)            (None, 36)           0           embedding_30[0][0]               \n",
      "__________________________________________________________________________________________________\n",
      "reshape_31 (Reshape)            (None, 36)           0           embedding_31[0][0]               \n",
      "__________________________________________________________________________________________________\n",
      "reshape_32 (Reshape)            (None, 36)           0           embedding_32[0][0]               \n",
      "__________________________________________________________________________________________________\n",
      "reshape_33 (Reshape)            (None, 36)           0           embedding_33[0][0]               \n",
      "__________________________________________________________________________________________________\n",
      "reshape_34 (Reshape)            (None, 36)           0           embedding_34[0][0]               \n",
      "__________________________________________________________________________________________________\n",
      "reshape_35 (Reshape)            (None, 36)           0           embedding_35[0][0]               \n",
      "__________________________________________________________________________________________________\n",
      "reshape_36 (Reshape)            (None, 36)           0           embedding_36[0][0]               \n",
      "__________________________________________________________________________________________________\n",
      "reshape_37 (Reshape)            (None, 36)           0           embedding_37[0][0]               \n",
      "__________________________________________________________________________________________________\n",
      "reshape_38 (Reshape)            (None, 36)           0           embedding_38[0][0]               \n",
      "__________________________________________________________________________________________________\n",
      "reshape_39 (Reshape)            (None, 36)           0           embedding_39[0][0]               \n",
      "__________________________________________________________________________________________________\n",
      "reshape_40 (Reshape)            (None, 36)           0           embedding_40[0][0]               \n",
      "__________________________________________________________________________________________________\n",
      "reshape_41 (Reshape)            (None, 36)           0           embedding_41[0][0]               \n",
      "__________________________________________________________________________________________________\n",
      "reshape_42 (Reshape)            (None, 36)           0           embedding_42[0][0]               \n",
      "__________________________________________________________________________________________________\n",
      "reshape_43 (Reshape)            (None, 36)           0           embedding_43[0][0]               \n",
      "__________________________________________________________________________________________________\n",
      "num_input (InputLayer)          [(None, 127)]        0                                            \n",
      "__________________________________________________________________________________________________\n",
      "lstm (LSTM)                     (None, 19)           8816        masking[0][0]                    \n",
      "__________________________________________________________________________________________________\n",
      "concatenate (Concatenate)       (None, 1730)         0           reshape[0][0]                    \n",
      "                                                                 reshape_1[0][0]                  \n",
      "                                                                 reshape_2[0][0]                  \n",
      "                                                                 reshape_3[0][0]                  \n",
      "                                                                 reshape_4[0][0]                  \n",
      "                                                                 reshape_5[0][0]                  \n",
      "                                                                 reshape_6[0][0]                  \n",
      "                                                                 reshape_7[0][0]                  \n",
      "                                                                 reshape_8[0][0]                  \n",
      "                                                                 reshape_9[0][0]                  \n",
      "                                                                 reshape_10[0][0]                 \n",
      "                                                                 reshape_11[0][0]                 \n",
      "                                                                 reshape_12[0][0]                 \n",
      "                                                                 reshape_13[0][0]                 \n",
      "                                                                 reshape_14[0][0]                 \n",
      "                                                                 reshape_15[0][0]                 \n",
      "                                                                 reshape_16[0][0]                 \n",
      "                                                                 reshape_17[0][0]                 \n",
      "                                                                 reshape_18[0][0]                 \n",
      "                                                                 reshape_19[0][0]                 \n",
      "                                                                 reshape_20[0][0]                 \n",
      "                                                                 reshape_21[0][0]                 \n",
      "                                                                 reshape_22[0][0]                 \n",
      "                                                                 reshape_23[0][0]                 \n",
      "                                                                 reshape_24[0][0]                 \n",
      "                                                                 reshape_25[0][0]                 \n",
      "                                                                 reshape_26[0][0]                 \n",
      "                                                                 reshape_27[0][0]                 \n",
      "                                                                 reshape_28[0][0]                 \n",
      "                                                                 reshape_29[0][0]                 \n",
      "                                                                 reshape_30[0][0]                 \n",
      "                                                                 reshape_31[0][0]                 \n",
      "                                                                 reshape_32[0][0]                 \n",
      "                                                                 reshape_33[0][0]                 \n",
      "                                                                 reshape_34[0][0]                 \n",
      "                                                                 reshape_35[0][0]                 \n",
      "                                                                 reshape_36[0][0]                 \n",
      "                                                                 reshape_37[0][0]                 \n",
      "                                                                 reshape_38[0][0]                 \n",
      "                                                                 reshape_39[0][0]                 \n",
      "                                                                 reshape_40[0][0]                 \n",
      "                                                                 reshape_41[0][0]                 \n",
      "                                                                 reshape_42[0][0]                 \n",
      "                                                                 reshape_43[0][0]                 \n",
      "                                                                 num_input[0][0]                  \n",
      "                                                                 lstm[0][0]                       \n",
      "__________________________________________________________________________________________________\n",
      "dense (Dense)                   (None, 1000)         1731000     concatenate[0][0]                \n",
      "__________________________________________________________________________________________________\n",
      "batch_normalization (BatchNorma (None, 1000)         4000        dense[0][0]                      \n",
      "__________________________________________________________________________________________________\n",
      "dense_1 (Dense)                 (None, 1000)         1001000     batch_normalization[0][0]        \n",
      "__________________________________________________________________________________________________\n",
      "batch_normalization_1 (BatchNor (None, 1000)         4000        dense_1[0][0]                    \n",
      "__________________________________________________________________________________________________\n",
      "dense_2 (Dense)                 (None, 1)            1001        batch_normalization_1[0][0]      \n",
      "==================================================================================================\n",
      "Total params: 2,755,829\n",
      "Trainable params: 2,751,829\n",
      "Non-trainable params: 4,000\n",
      "__________________________________________________________________________________________________\n"
     ]
    }
   ],
   "source": [
    "final_model.summary()"
   ]
  },
  {
   "cell_type": "code",
   "execution_count": 93,
   "metadata": {},
   "outputs": [],
   "source": [
    "roc_metric = tf.keras.metrics.AUC(\n",
    "    num_thresholds=200, curve='ROC',\n",
    "    summation_method='interpolation', name='auc_2', dtype=None,\n",
    "    thresholds=None, multi_label=False, label_weights=None,\n",
    ")"
   ]
  },
  {
   "cell_type": "code",
   "execution_count": 94,
   "metadata": {},
   "outputs": [
    {
     "data": {
      "text/plain": [
       "11.411496508339585"
      ]
     },
     "execution_count": 94,
     "metadata": {},
     "output_type": "execute_result"
    }
   ],
   "source": [
    "y_train[y_train == 0].shape[0] / y_train[y_train == 1].shape[0]"
   ]
  },
  {
   "cell_type": "code",
   "execution_count": 95,
   "metadata": {},
   "outputs": [],
   "source": [
    "class_weight = {0: 1.,\n",
    "                1: 11.\n",
    "               }"
   ]
  },
  {
   "cell_type": "code",
   "execution_count": 96,
   "metadata": {},
   "outputs": [],
   "source": [
    "final_model.compile(loss = \"binary_crossentropy\", metrics = [roc_metric], optimizer = \"adam\")"
   ]
  },
  {
   "cell_type": "code",
   "execution_count": 97,
   "metadata": {},
   "outputs": [],
   "source": [
    "callback = tf.keras.callbacks.EarlyStopping(monitor='val_auc_2', patience=20, min_delta = 0.001, \n",
    "                                            restore_best_weights = True)"
   ]
  },
  {
   "cell_type": "markdown",
   "metadata": {},
   "source": [
    "## Définition des sets de sub_train et sub_eval"
   ]
  },
  {
   "cell_type": "code",
   "execution_count": 98,
   "metadata": {},
   "outputs": [],
   "source": [
    "X_enc_train = trainset(X_enc)"
   ]
  },
  {
   "cell_type": "code",
   "execution_count": 99,
   "metadata": {},
   "outputs": [],
   "source": [
    "inSubTrain , inSubEval = next(GroupShuffleSplit(train_size = 0.8, random_state = 42).\\\n",
    "                        split(X_enc_train, groups = X_enc_train[\"SK_ID_CURR\"])\n",
    "                       )"
   ]
  },
  {
   "cell_type": "code",
   "execution_count": 100,
   "metadata": {},
   "outputs": [],
   "source": [
    "X_enc_subtrain = trainset(X_enc_train, subsetter=inSubTrain)\n",
    "X_enc_subeval = trainset(X_enc_train, subsetter=inSubEval)"
   ]
  },
  {
   "cell_type": "code",
   "execution_count": 101,
   "metadata": {},
   "outputs": [],
   "source": [
    "X_subtrain_batch = X_train_batch[inSubTrain, :, :]\n",
    "X_subeval_batch = X_train_batch[inSubEval, :, :]"
   ]
  },
  {
   "cell_type": "code",
   "execution_count": 102,
   "metadata": {},
   "outputs": [],
   "source": [
    "y_enc_subtrain = trainset(y_train, subsetter=inSubTrain)\n",
    "y_enc_subeval = trainset(y_train, subsetter=inSubEval)"
   ]
  },
  {
   "cell_type": "markdown",
   "metadata": {},
   "source": [
    "## Entraînement du modèle"
   ]
  },
  {
   "cell_type": "code",
   "execution_count": 129,
   "metadata": {},
   "outputs": [],
   "source": [
    "input_dict = {}\n",
    "for categorical_var in catcols:\n",
    "    keyname = categorical_var + \"_input\" \n",
    "    input_dict[keyname] = X_enc_subtrain[categorical_var]\n",
    "input_dict[\"num_input\"] = X_enc_subtrain[numcols]\n",
    "input_dict[\"temporal_input\"] = X_subtrain_batch\n",
    "\n",
    "eval_dict = {}\n",
    "for categorical_var in catcols:\n",
    "    keyname = categorical_var + \"_input\" \n",
    "    eval_dict[keyname] = X_enc_subeval[categorical_var]\n",
    "eval_dict[\"num_input\"] = X_enc_subeval[numcols]\n",
    "eval_dict[\"temporal_input\"] = X_subeval_batch"
   ]
  },
  {
   "cell_type": "code",
   "execution_count": 130,
   "metadata": {},
   "outputs": [],
   "source": [
    "tf.config.run_functions_eagerly(True)"
   ]
  },
  {
   "cell_type": "code",
   "execution_count": 131,
   "metadata": {},
   "outputs": [],
   "source": [
    "#final_model.load_weights(\"./data/final_model_weights.h5\")"
   ]
  },
  {
   "cell_type": "code",
   "execution_count": 132,
   "metadata": {},
   "outputs": [
    {
     "name": "stderr",
     "output_type": "stream",
     "text": [
      "C:\\Users\\Antoine\\anaconda3\\lib\\site-packages\\tensorflow\\python\\data\\ops\\dataset_ops.py:3503: UserWarning: Even though the tf.config.experimental_run_functions_eagerly option is set, this option does not apply to tf.data functions. tf.data functions are still traced and executed as graphs.\n",
      "  warnings.warn(\n",
      "C:\\Users\\Antoine\\anaconda3\\lib\\site-packages\\tensorflow\\python\\data\\ops\\dataset_ops.py:3503: UserWarning: Even though the tf.config.experimental_run_functions_eagerly option is set, this option does not apply to tf.data functions. tf.data functions are still traced and executed as graphs.\n",
      "  warnings.warn(\n"
     ]
    },
    {
     "name": "stdout",
     "output_type": "stream",
     "text": [
      "Epoch 1/20\n",
      "1721/1721 [==============================] - ETA: 0s - loss: 1.3765 - auc_2: 0.5646"
     ]
    },
    {
     "name": "stderr",
     "output_type": "stream",
     "text": [
      "C:\\Users\\Antoine\\anaconda3\\lib\\site-packages\\tensorflow\\python\\data\\ops\\dataset_ops.py:3503: UserWarning: Even though the tf.config.experimental_run_functions_eagerly option is set, this option does not apply to tf.data functions. tf.data functions are still traced and executed as graphs.\n",
      "  warnings.warn(\n"
     ]
    },
    {
     "name": "stdout",
     "output_type": "stream",
     "text": [
      "1721/1721 [==============================] - 372s 216ms/step - loss: 1.3765 - auc_2: 0.5646 - val_loss: 0.6170 - val_auc_2: 0.5763\n",
      "Epoch 2/20\n",
      "1721/1721 [==============================] - 443s 258ms/step - loss: 1.2353 - auc_2: 0.6136 - val_loss: 0.5840 - val_auc_2: 0.5996\n",
      "Epoch 3/20\n",
      "1721/1721 [==============================] - 437s 254ms/step - loss: 1.2256 - auc_2: 0.6207 - val_loss: 0.6670 - val_auc_2: 0.6274\n",
      "Epoch 4/20\n",
      "1721/1721 [==============================] - 457s 266ms/step - loss: 1.2195 - auc_2: 0.6341 - val_loss: 0.5632 - val_auc_2: 0.6479\n",
      "Epoch 5/20\n",
      "1721/1721 [==============================] - 459s 267ms/step - loss: 1.2209 - auc_2: 0.6272 - val_loss: 0.6625 - val_auc_2: 0.6516\n",
      "Epoch 6/20\n",
      "1721/1721 [==============================] - 451s 262ms/step - loss: 1.2076 - auc_2: 0.6459 - val_loss: 0.6630 - val_auc_2: 0.6401\n",
      "Epoch 7/20\n",
      "1721/1721 [==============================] - 464s 270ms/step - loss: 1.2230 - auc_2: 0.6383 - val_loss: 0.6556 - val_auc_2: 0.6496\n",
      "Epoch 8/20\n",
      "1721/1721 [==============================] - 370s 215ms/step - loss: 1.2143 - auc_2: 0.6407 - val_loss: 0.5880 - val_auc_2: 0.6495\n",
      "Epoch 9/20\n",
      "1721/1721 [==============================] - 343s 199ms/step - loss: 1.1946 - auc_2: 0.6512 - val_loss: 0.6537 - val_auc_2: 0.6720\n",
      "Epoch 10/20\n",
      "1721/1721 [==============================] - 345s 200ms/step - loss: 1.1997 - auc_2: 0.6522 - val_loss: 0.7044 - val_auc_2: 0.6131\n",
      "Epoch 11/20\n",
      "1721/1721 [==============================] - 363s 211ms/step - loss: 1.1995 - auc_2: 0.6444 - val_loss: 0.6243 - val_auc_2: 0.6250\n",
      "Epoch 12/20\n",
      "1721/1721 [==============================] - 426s 248ms/step - loss: 1.1939 - auc_2: 0.6550 - val_loss: 0.6438 - val_auc_2: 0.6633\n",
      "Epoch 13/20\n",
      "1721/1721 [==============================] - 441s 256ms/step - loss: 1.1849 - auc_2: 0.6608 - val_loss: 0.6439 - val_auc_2: 0.6764\n",
      "Epoch 14/20\n",
      "1721/1721 [==============================] - 434s 252ms/step - loss: 1.1913 - auc_2: 0.6559 - val_loss: 0.7063 - val_auc_2: 0.6526\n",
      "Epoch 15/20\n",
      "1721/1721 [==============================] - 450s 262ms/step - loss: 1.1916 - auc_2: 0.6626 - val_loss: 0.6275 - val_auc_2: 0.6758\n",
      "Epoch 16/20\n",
      "1721/1721 [==============================] - 477s 277ms/step - loss: 1.1814 - auc_2: 0.6648 - val_loss: 0.6004 - val_auc_2: 0.6424\n",
      "Epoch 17/20\n",
      "1721/1721 [==============================] - 477s 277ms/step - loss: 1.1789 - auc_2: 0.6666 - val_loss: 0.6682 - val_auc_2: 0.6730\n",
      "Epoch 18/20\n",
      "1721/1721 [==============================] - 445s 258ms/step - loss: 1.1808 - auc_2: 0.6711 - val_loss: 0.5774 - val_auc_2: 0.6790\n",
      "Epoch 19/20\n",
      "1721/1721 [==============================] - 437s 254ms/step - loss: 1.1759 - auc_2: 0.6682 - val_loss: 0.6358 - val_auc_2: 0.6813\n",
      "Epoch 20/20\n",
      "1721/1721 [==============================] - 438s 254ms/step - loss: 1.1668 - auc_2: 0.6746 - val_loss: 0.7128 - val_auc_2: 0.6722\n"
     ]
    },
    {
     "data": {
      "text/plain": [
       "<tensorflow.python.keras.callbacks.History at 0x163b5269070>"
      ]
     },
     "execution_count": 132,
     "metadata": {},
     "output_type": "execute_result"
    }
   ],
   "source": [
    "final_model.fit(input_dict, y_enc_subtrain, epochs = 20, batch_size = 100, \n",
    "                validation_data = (eval_dict, y_enc_subeval), callbacks = [callback], class_weight=class_weight, verbose = 1)"
   ]
  },
  {
   "cell_type": "code",
   "execution_count": 153,
   "metadata": {},
   "outputs": [],
   "source": [
    "overwrite_model = True"
   ]
  },
  {
   "cell_type": "code",
   "execution_count": 156,
   "metadata": {},
   "outputs": [],
   "source": [
    "if overwrite_model:\n",
    "    final_model.save_weights(\"./data/final_model_weights.h5\")"
   ]
  },
  {
   "cell_type": "code",
   "execution_count": 157,
   "metadata": {},
   "outputs": [],
   "source": []
  },
  {
   "cell_type": "markdown",
   "metadata": {},
   "source": [
    "# Modèle XGBoost"
   ]
  },
  {
   "cell_type": "code",
   "execution_count": 104,
   "metadata": {},
   "outputs": [],
   "source": [
    "X2 = X.copy()"
   ]
  },
  {
   "cell_type": "code",
   "execution_count": 116,
   "metadata": {},
   "outputs": [],
   "source": [
    "ohe = OneHotEncoder(sparse = False)\n",
    "X2_cat = pd.DataFrame(ohe.fit_transform(X2[catcols]))\n",
    "X2_cat.columns = ohe.get_feature_names(catcols)"
   ]
  },
  {
   "cell_type": "code",
   "execution_count": 119,
   "metadata": {},
   "outputs": [],
   "source": [
    "X2_num = pd.DataFrame(StandardScaler().fit_transform(X2[numcols]))\n",
    "X2_num.columns = numcols"
   ]
  },
  {
   "cell_type": "code",
   "execution_count": 122,
   "metadata": {},
   "outputs": [],
   "source": [
    "X2_comb = pd.concat([X2_num, X2_cat], axis = 1)"
   ]
  },
  {
   "cell_type": "code",
   "execution_count": 125,
   "metadata": {},
   "outputs": [],
   "source": [
    "X2_comb.index = X2[\"SK_ID_CURR\"]"
   ]
  },
  {
   "cell_type": "code",
   "execution_count": 128,
   "metadata": {},
   "outputs": [],
   "source": [
    "X2_comb_train = trainset(X2_comb)\n",
    "X2_comb_test = trainset(X2_comb, subsetter = inTest)"
   ]
  },
  {
   "cell_type": "code",
   "execution_count": 129,
   "metadata": {},
   "outputs": [],
   "source": [
    "space = {\n",
    "    'max_depth' : hp.choice('max_depth', range(1, 30, 1)),\n",
    "    'eta' : hp.quniform('eta', 0, 1, 0.1),\n",
    "    'learning_rate' : hp.quniform('learning_rate', 0.01, 0.5, 0.01),\n",
    "    'n_estimators' : hp.choice('n_estimators', range(20, 205, 5)),\n",
    "    'gamma' : hp.quniform('gamma', 0, 0.50, 0.01),\n",
    "    'min_child_weight' : hp.quniform('min_child_weight', 1, 10, 1),\n",
    "    'subsample' : hp.quniform('subsample', 0.1, 1, 0.01),\n",
    "    'colsample_bytree' : hp.quniform('colsample_bytree', 0.1, 1.0, 0.01),\n",
    "    'colsample_bylevel' : hp.quniform('colsample_bylevel', 0.1, 1.0, 0.01),\n",
    "    'colsample_bynode' : hp.quniform('colsample_bynode', 0.1, 1.0, 0.01),\n",
    "    'max_delta_step' : hp.choice('max_delta_step', range(0, 11, 1))\n",
    "}"
   ]
  },
  {
   "cell_type": "code",
   "execution_count": null,
   "metadata": {},
   "outputs": [
    {
     "name": "stdout",
     "output_type": "stream",
     "text": [
      "\r",
      "  0%|                                                                          | 0/100 [00:00<?, ?trial/s, best loss=?]"
     ]
    }
   ],
   "source": [
    "seed(0)\n",
    "best = 0\n",
    "def hyperparameter_tuning(space):\n",
    "    global best\n",
    "    warnings.filterwarnings(action='ignore', category=DeprecationWarning)\n",
    "    warnings.filterwarnings(action='ignore', category=UserWarning)\n",
    "    classifier = xgb.XGBClassifier(objective = \"binary:logistic\",\n",
    "                            tree_method = 'hist',\n",
    "                            scale_pos_weight = 6,\n",
    "                            eta = space['eta'],\n",
    "                            n_estimators = space['n_estimators'],\n",
    "                            max_depth = int(space['max_depth']),\n",
    "                            learning_rate = space['learning_rate'],\n",
    "                            gamma = space['gamma'],\n",
    "                            min_child_weight = space['min_child_weight'],\n",
    "                            subsample = space['subsample'],\n",
    "                            colsample_bytree = space['colsample_bytree'],\n",
    "                            colsample_bylevel = space['colsample_bylevel'],\n",
    "                            colsample_bynode = space['colsample_bynode'],\n",
    "                            eval_metric = \"auc\",\n",
    "                            max_delta_step = space['max_delta_step']\n",
    "                            )\n",
    "    \n",
    "    classifier.fit(X2_comb_train, y_train.tolist())\n",
    "    \n",
    "    roc_auc = cross_val_score(estimator = classifier, X = X2_comb_train, y = y_train.tolist(),\n",
    "                              scoring=\"roc_auc\", cv = 10).mean()\n",
    "    if acc > best:\n",
    "        best = acc\n",
    "        print ('new best:', best, space)\n",
    "    return {'loss': 1-acc, 'status': STATUS_OK}\n",
    "\n",
    "trials = Trials()\n",
    "best = fmin(hyperparameter_tuning, space, algo=tpe.suggest, max_evals=100, trials=trials)"
   ]
  },
  {
   "cell_type": "code",
   "execution_count": null,
   "metadata": {},
   "outputs": [],
   "source": []
  }
 ],
 "metadata": {
  "kernelspec": {
   "display_name": "Python 3",
   "language": "python",
   "name": "python3"
  },
  "language_info": {
   "codemirror_mode": {
    "name": "ipython",
    "version": 3
   },
   "file_extension": ".py",
   "mimetype": "text/x-python",
   "name": "python",
   "nbconvert_exporter": "python",
   "pygments_lexer": "ipython3",
   "version": "3.8.3"
  },
  "toc": {
   "base_numbering": 1,
   "nav_menu": {},
   "number_sections": true,
   "sideBar": false,
   "skip_h1_title": false,
   "title_cell": "Table of Contents",
   "title_sidebar": "Contents",
   "toc_cell": true,
   "toc_position": {},
   "toc_section_display": true,
   "toc_window_display": false
  }
 },
 "nbformat": 4,
 "nbformat_minor": 4
}
